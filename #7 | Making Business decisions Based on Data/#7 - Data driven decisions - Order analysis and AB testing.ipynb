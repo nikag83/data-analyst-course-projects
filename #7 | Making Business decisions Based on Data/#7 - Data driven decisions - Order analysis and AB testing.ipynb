{
 "cells": [
  {
   "cell_type": "markdown",
   "metadata": {},
   "source": [
    "# Order analysis and A/B testing"
   ]
  },
  {
   "cell_type": "markdown",
   "metadata": {},
   "source": [
    "Together with the marketing department, we've compiled a list of hypotheses that may help boost revenue.\n",
    "We need to prioritize these hypotheses, launch an A/B test, and analyze the results.\n",
    "\n",
    "**Description of the data**\n",
    "\n",
    "Data used in the first part of the project: Hypotheses dataset -   \n",
    "•\tHypotheses — brief descriptions of the hypotheses   \n",
    "•\tReach — user reach, on a scale of one to ten   \n",
    "•\tImpact — impact on users, on a scale of one to ten   \n",
    "•\tConfidence — confidence in the hypothesis, on a scale of one to ten   \n",
    "•\tEffort — the resources required to test a hypothesis, on a scale of one to ten. The higher the Effort value, the more resource-intensive the test.   \n",
    "\n",
    "**Data used in the second part of the project:**  \n",
    "\n",
    "   **Orders dataset:**  \n",
    "   \n",
    "•\ttransactionId — order identifier  \n",
    "•\tvisitorId — identifier of the user who placed the order  \n",
    "•\tdate — of the order   \n",
    "•\trevenue — from the order  \n",
    "•\tgroup — the A/B test group that the user belongs to\n",
    "\n",
    "   **Visits dataset:**   \n",
    "   \n",
    "•\tdate — date   \n",
    "•\tgroup — A/B test group   \n",
    "•\tvisits — the number of visits on the date specified in the A/B test group specified\n",
    "\n",
    "Data sources:  \n",
    "/datasets/hypotheses_us.csv  \n",
    "/datasets/orders_us.csv   \n",
    "/datasets/visits_us.csv"
   ]
  },
  {
   "cell_type": "markdown",
   "metadata": {},
   "source": [
    "## Downloading the data and preparing it for analysis"
   ]
  },
  {
   "cell_type": "code",
   "execution_count": 1,
   "metadata": {},
   "outputs": [
    {
     "name": "stdout",
     "output_type": "stream",
     "text": [
      "Collecting sidetable\n",
      "  Downloading sidetable-0.9.1-py3-none-any.whl (19 kB)\n",
      "Requirement already satisfied: pandas>=1.0 in /opt/conda/lib/python3.9/site-packages (from sidetable) (1.2.4)\n",
      "Requirement already satisfied: python-dateutil>=2.7.3 in /opt/conda/lib/python3.9/site-packages (from pandas>=1.0->sidetable) (2.8.1)\n",
      "Requirement already satisfied: pytz>=2017.3 in /opt/conda/lib/python3.9/site-packages (from pandas>=1.0->sidetable) (2021.1)\n",
      "Requirement already satisfied: numpy>=1.16.5 in /opt/conda/lib/python3.9/site-packages (from pandas>=1.0->sidetable) (1.21.1)\n",
      "Requirement already satisfied: six>=1.5 in /opt/conda/lib/python3.9/site-packages (from python-dateutil>=2.7.3->pandas>=1.0->sidetable) (1.16.0)\n",
      "Installing collected packages: sidetable\n",
      "Successfully installed sidetable-0.9.1\n"
     ]
    }
   ],
   "source": [
    "!pip install sidetable"
   ]
  },
  {
   "cell_type": "code",
   "execution_count": 2,
   "metadata": {},
   "outputs": [],
   "source": [
    "#Let's download relevant libraries\n",
    "import pandas as pd\n",
    "import numpy as np\n",
    "pd.options.display.max_colwidth = 210\n",
    "from datetime import datetime\n",
    "import scipy.stats as stats\n",
    "import datetime as dt\n",
    "import sidetable\n",
    "import seaborn as sns\n",
    "import matplotlib.pyplot as plt\n",
    "import plotly.express as px\n",
    "import plotly.graph_objects as go\n",
    "import warnings\n",
    "warnings.filterwarnings(action='ignore')"
   ]
  },
  {
   "cell_type": "markdown",
   "metadata": {},
   "source": [
    "### Let's look at the data:"
   ]
  },
  {
   "cell_type": "code",
   "execution_count": 3,
   "metadata": {},
   "outputs": [],
   "source": [
    "hypotheses = pd.read_csv('/datasets/hypotheses_us.csv')"
   ]
  },
  {
   "cell_type": "code",
   "execution_count": 4,
   "metadata": {},
   "outputs": [],
   "source": [
    "orders = pd.read_csv('/datasets/orders_us.csv')"
   ]
  },
  {
   "cell_type": "code",
   "execution_count": 5,
   "metadata": {},
   "outputs": [],
   "source": [
    "visits = pd.read_csv('/datasets/visits_us.csv')"
   ]
  },
  {
   "cell_type": "code",
   "execution_count": 6,
   "metadata": {},
   "outputs": [
    {
     "name": "stdout",
     "output_type": "stream",
     "text": [
      "<class 'pandas.core.frame.DataFrame'>\n",
      "RangeIndex: 9 entries, 0 to 8\n",
      "Data columns (total 1 columns):\n",
      " #   Column                                     Non-Null Count  Dtype \n",
      "---  ------                                     --------------  ----- \n",
      " 0   Hypothesis;Reach;Impact;Confidence;Effort  9 non-null      object\n",
      "dtypes: object(1)\n",
      "memory usage: 1.4 KB\n"
     ]
    }
   ],
   "source": [
    "hypotheses.info(memory_usage='deep')"
   ]
  },
  {
   "cell_type": "code",
   "execution_count": 7,
   "metadata": {},
   "outputs": [
    {
     "data": {
      "text/html": [
       "<div>\n",
       "<style scoped>\n",
       "    .dataframe tbody tr th:only-of-type {\n",
       "        vertical-align: middle;\n",
       "    }\n",
       "\n",
       "    .dataframe tbody tr th {\n",
       "        vertical-align: top;\n",
       "    }\n",
       "\n",
       "    .dataframe thead th {\n",
       "        text-align: right;\n",
       "    }\n",
       "</style>\n",
       "<table border=\"1\" class=\"dataframe\">\n",
       "  <thead>\n",
       "    <tr style=\"text-align: right;\">\n",
       "      <th></th>\n",
       "      <th>Hypothesis</th>\n",
       "      <th>Reach</th>\n",
       "      <th>Impact</th>\n",
       "      <th>Confidence</th>\n",
       "      <th>Effort</th>\n",
       "    </tr>\n",
       "  </thead>\n",
       "  <tbody>\n",
       "    <tr>\n",
       "      <th>0</th>\n",
       "      <td>Add two new channels for attracting traffic. This will bring 30% more users</td>\n",
       "      <td>3</td>\n",
       "      <td>10</td>\n",
       "      <td>8</td>\n",
       "      <td>6</td>\n",
       "    </tr>\n",
       "    <tr>\n",
       "      <th>1</th>\n",
       "      <td>Launch your own delivery service. This will shorten delivery time</td>\n",
       "      <td>2</td>\n",
       "      <td>5</td>\n",
       "      <td>4</td>\n",
       "      <td>10</td>\n",
       "    </tr>\n",
       "    <tr>\n",
       "      <th>2</th>\n",
       "      <td>Add product recommendation blocks to the store's site. This will increase conversion and average purchase size</td>\n",
       "      <td>8</td>\n",
       "      <td>3</td>\n",
       "      <td>7</td>\n",
       "      <td>3</td>\n",
       "    </tr>\n",
       "    <tr>\n",
       "      <th>3</th>\n",
       "      <td>Change the category structure. This will increase conversion since users will find the products they want more quickly</td>\n",
       "      <td>8</td>\n",
       "      <td>3</td>\n",
       "      <td>3</td>\n",
       "      <td>8</td>\n",
       "    </tr>\n",
       "    <tr>\n",
       "      <th>4</th>\n",
       "      <td>Change the background color on the main page. This will increase user engagement</td>\n",
       "      <td>3</td>\n",
       "      <td>1</td>\n",
       "      <td>1</td>\n",
       "      <td>1</td>\n",
       "    </tr>\n",
       "    <tr>\n",
       "      <th>5</th>\n",
       "      <td>Add a customer review page. This will increase the number of orders</td>\n",
       "      <td>3</td>\n",
       "      <td>2</td>\n",
       "      <td>2</td>\n",
       "      <td>3</td>\n",
       "    </tr>\n",
       "    <tr>\n",
       "      <th>6</th>\n",
       "      <td>Show banners with current offers and sales on the main page. This will boost conversion</td>\n",
       "      <td>5</td>\n",
       "      <td>3</td>\n",
       "      <td>8</td>\n",
       "      <td>3</td>\n",
       "    </tr>\n",
       "    <tr>\n",
       "      <th>7</th>\n",
       "      <td>Add a subscription form to all the main pages. This will help you compile a mailing list</td>\n",
       "      <td>10</td>\n",
       "      <td>7</td>\n",
       "      <td>8</td>\n",
       "      <td>5</td>\n",
       "    </tr>\n",
       "    <tr>\n",
       "      <th>8</th>\n",
       "      <td>Launch a promotion that gives users discounts on their birthdays</td>\n",
       "      <td>1</td>\n",
       "      <td>9</td>\n",
       "      <td>9</td>\n",
       "      <td>5</td>\n",
       "    </tr>\n",
       "  </tbody>\n",
       "</table>\n",
       "</div>"
      ],
      "text/plain": [
       "                                                                                                               Hypothesis  \\\n",
       "0                                             Add two new channels for attracting traffic. This will bring 30% more users   \n",
       "1                                                       Launch your own delivery service. This will shorten delivery time   \n",
       "2          Add product recommendation blocks to the store's site. This will increase conversion and average purchase size   \n",
       "3  Change the category structure. This will increase conversion since users will find the products they want more quickly   \n",
       "4                                        Change the background color on the main page. This will increase user engagement   \n",
       "5                                                     Add a customer review page. This will increase the number of orders   \n",
       "6                                 Show banners with current offers and sales on the main page. This will boost conversion   \n",
       "7                                Add a subscription form to all the main pages. This will help you compile a mailing list   \n",
       "8                                                        Launch a promotion that gives users discounts on their birthdays   \n",
       "\n",
       "   Reach  Impact  Confidence  Effort  \n",
       "0      3      10           8       6  \n",
       "1      2       5           4      10  \n",
       "2      8       3           7       3  \n",
       "3      8       3           3       8  \n",
       "4      3       1           1       1  \n",
       "5      3       2           2       3  \n",
       "6      5       3           8       3  \n",
       "7     10       7           8       5  \n",
       "8      1       9           9       5  "
      ]
     },
     "execution_count": 7,
     "metadata": {},
     "output_type": "execute_result"
    }
   ],
   "source": [
    "hypotheses = pd.read_csv('/datasets/hypotheses_us.csv', sep=';')\n",
    "hypotheses"
   ]
  },
  {
   "cell_type": "code",
   "execution_count": 8,
   "metadata": {},
   "outputs": [
    {
     "name": "stdout",
     "output_type": "stream",
     "text": [
      "<class 'pandas.core.frame.DataFrame'>\n",
      "RangeIndex: 1197 entries, 0 to 1196\n",
      "Data columns (total 5 columns):\n",
      " #   Column         Non-Null Count  Dtype  \n",
      "---  ------         --------------  -----  \n",
      " 0   transactionId  1197 non-null   int64  \n",
      " 1   visitorId      1197 non-null   int64  \n",
      " 2   date           1197 non-null   object \n",
      " 3   revenue        1197 non-null   float64\n",
      " 4   group          1197 non-null   object \n",
      "dtypes: float64(1), int64(2), object(2)\n",
      "memory usage: 174.3 KB\n"
     ]
    }
   ],
   "source": [
    "orders.info(memory_usage='deep')"
   ]
  },
  {
   "cell_type": "code",
   "execution_count": 9,
   "metadata": {},
   "outputs": [
    {
     "name": "stdout",
     "output_type": "stream",
     "text": [
      "<class 'pandas.core.frame.DataFrame'>\n",
      "RangeIndex: 62 entries, 0 to 61\n",
      "Data columns (total 3 columns):\n",
      " #   Column  Non-Null Count  Dtype \n",
      "---  ------  --------------  ----- \n",
      " 0   date    62 non-null     object\n",
      " 1   group   62 non-null     object\n",
      " 2   visits  62 non-null     int64 \n",
      "dtypes: int64(1), object(2)\n",
      "memory usage: 8.2 KB\n"
     ]
    }
   ],
   "source": [
    "visits.info(memory_usage='deep')"
   ]
  },
  {
   "cell_type": "code",
   "execution_count": 10,
   "metadata": {},
   "outputs": [
    {
     "data": {
      "text/html": [
       "<div>\n",
       "<style scoped>\n",
       "    .dataframe tbody tr th:only-of-type {\n",
       "        vertical-align: middle;\n",
       "    }\n",
       "\n",
       "    .dataframe tbody tr th {\n",
       "        vertical-align: top;\n",
       "    }\n",
       "\n",
       "    .dataframe thead th {\n",
       "        text-align: right;\n",
       "    }\n",
       "</style>\n",
       "<table border=\"1\" class=\"dataframe\">\n",
       "  <thead>\n",
       "    <tr style=\"text-align: right;\">\n",
       "      <th></th>\n",
       "      <th>transactionId</th>\n",
       "      <th>visitorId</th>\n",
       "      <th>date</th>\n",
       "      <th>revenue</th>\n",
       "      <th>group</th>\n",
       "    </tr>\n",
       "  </thead>\n",
       "  <tbody>\n",
       "    <tr>\n",
       "      <th>0</th>\n",
       "      <td>3667963787</td>\n",
       "      <td>3312258926</td>\n",
       "      <td>2019-08-15</td>\n",
       "      <td>30.4</td>\n",
       "      <td>B</td>\n",
       "    </tr>\n",
       "    <tr>\n",
       "      <th>1</th>\n",
       "      <td>2804400009</td>\n",
       "      <td>3642806036</td>\n",
       "      <td>2019-08-15</td>\n",
       "      <td>15.2</td>\n",
       "      <td>B</td>\n",
       "    </tr>\n",
       "    <tr>\n",
       "      <th>2</th>\n",
       "      <td>2961555356</td>\n",
       "      <td>4069496402</td>\n",
       "      <td>2019-08-15</td>\n",
       "      <td>10.2</td>\n",
       "      <td>A</td>\n",
       "    </tr>\n",
       "    <tr>\n",
       "      <th>3</th>\n",
       "      <td>3797467345</td>\n",
       "      <td>1196621759</td>\n",
       "      <td>2019-08-15</td>\n",
       "      <td>155.1</td>\n",
       "      <td>B</td>\n",
       "    </tr>\n",
       "    <tr>\n",
       "      <th>4</th>\n",
       "      <td>2282983706</td>\n",
       "      <td>2322279887</td>\n",
       "      <td>2019-08-15</td>\n",
       "      <td>40.5</td>\n",
       "      <td>B</td>\n",
       "    </tr>\n",
       "  </tbody>\n",
       "</table>\n",
       "</div>"
      ],
      "text/plain": [
       "   transactionId   visitorId        date  revenue group\n",
       "0     3667963787  3312258926  2019-08-15     30.4     B\n",
       "1     2804400009  3642806036  2019-08-15     15.2     B\n",
       "2     2961555356  4069496402  2019-08-15     10.2     A\n",
       "3     3797467345  1196621759  2019-08-15    155.1     B\n",
       "4     2282983706  2322279887  2019-08-15     40.5     B"
      ]
     },
     "execution_count": 10,
     "metadata": {},
     "output_type": "execute_result"
    }
   ],
   "source": [
    "orders.head()"
   ]
  },
  {
   "cell_type": "code",
   "execution_count": 11,
   "metadata": {},
   "outputs": [
    {
     "data": {
      "text/plain": [
       "B    640\n",
       "A    557\n",
       "Name: group, dtype: int64"
      ]
     },
     "execution_count": 11,
     "metadata": {},
     "output_type": "execute_result"
    }
   ],
   "source": [
    "orders['group'].value_counts()"
   ]
  },
  {
   "cell_type": "code",
   "execution_count": 12,
   "metadata": {},
   "outputs": [
    {
     "data": {
      "text/html": [
       "<div>\n",
       "<style scoped>\n",
       "    .dataframe tbody tr th:only-of-type {\n",
       "        vertical-align: middle;\n",
       "    }\n",
       "\n",
       "    .dataframe tbody tr th {\n",
       "        vertical-align: top;\n",
       "    }\n",
       "\n",
       "    .dataframe thead th {\n",
       "        text-align: right;\n",
       "    }\n",
       "</style>\n",
       "<table border=\"1\" class=\"dataframe\">\n",
       "  <thead>\n",
       "    <tr style=\"text-align: right;\">\n",
       "      <th></th>\n",
       "      <th>date</th>\n",
       "      <th>group</th>\n",
       "      <th>visits</th>\n",
       "    </tr>\n",
       "  </thead>\n",
       "  <tbody>\n",
       "    <tr>\n",
       "      <th>0</th>\n",
       "      <td>2019-08-01</td>\n",
       "      <td>A</td>\n",
       "      <td>719</td>\n",
       "    </tr>\n",
       "    <tr>\n",
       "      <th>1</th>\n",
       "      <td>2019-08-02</td>\n",
       "      <td>A</td>\n",
       "      <td>619</td>\n",
       "    </tr>\n",
       "    <tr>\n",
       "      <th>2</th>\n",
       "      <td>2019-08-03</td>\n",
       "      <td>A</td>\n",
       "      <td>507</td>\n",
       "    </tr>\n",
       "    <tr>\n",
       "      <th>3</th>\n",
       "      <td>2019-08-04</td>\n",
       "      <td>A</td>\n",
       "      <td>717</td>\n",
       "    </tr>\n",
       "    <tr>\n",
       "      <th>4</th>\n",
       "      <td>2019-08-05</td>\n",
       "      <td>A</td>\n",
       "      <td>756</td>\n",
       "    </tr>\n",
       "  </tbody>\n",
       "</table>\n",
       "</div>"
      ],
      "text/plain": [
       "         date group  visits\n",
       "0  2019-08-01     A     719\n",
       "1  2019-08-02     A     619\n",
       "2  2019-08-03     A     507\n",
       "3  2019-08-04     A     717\n",
       "4  2019-08-05     A     756"
      ]
     },
     "execution_count": 12,
     "metadata": {},
     "output_type": "execute_result"
    }
   ],
   "source": [
    "visits.head()"
   ]
  },
  {
   "cell_type": "code",
   "execution_count": 13,
   "metadata": {
    "scrolled": true
   },
   "outputs": [
    {
     "data": {
      "text/plain": [
       "A    31\n",
       "B    31\n",
       "Name: group, dtype: int64"
      ]
     },
     "execution_count": 13,
     "metadata": {},
     "output_type": "execute_result"
    }
   ],
   "source": [
    "visits['group'].value_counts()"
   ]
  },
  {
   "cell_type": "markdown",
   "metadata": {},
   "source": [
    "### Checking the data for missing values"
   ]
  },
  {
   "cell_type": "code",
   "execution_count": 14,
   "metadata": {},
   "outputs": [
    {
     "data": {
      "text/html": [
       "<style  type=\"text/css\" >\n",
       "</style><table id=\"T_0d87c_\" ><thead>    <tr>        <th class=\"blank level0\" ></th>        <th class=\"col_heading level0 col0\" >missing</th>        <th class=\"col_heading level0 col1\" >total</th>        <th class=\"col_heading level0 col2\" >percent</th>    </tr></thead><tbody>\n",
       "                <tr>\n",
       "                        <th id=\"T_0d87c_level0_row0\" class=\"row_heading level0 row0\" >date</th>\n",
       "                        <td id=\"T_0d87c_row0_col0\" class=\"data row0 col0\" >0</td>\n",
       "                        <td id=\"T_0d87c_row0_col1\" class=\"data row0 col1\" >62</td>\n",
       "                        <td id=\"T_0d87c_row0_col2\" class=\"data row0 col2\" >0.00%</td>\n",
       "            </tr>\n",
       "            <tr>\n",
       "                        <th id=\"T_0d87c_level0_row1\" class=\"row_heading level0 row1\" >group</th>\n",
       "                        <td id=\"T_0d87c_row1_col0\" class=\"data row1 col0\" >0</td>\n",
       "                        <td id=\"T_0d87c_row1_col1\" class=\"data row1 col1\" >62</td>\n",
       "                        <td id=\"T_0d87c_row1_col2\" class=\"data row1 col2\" >0.00%</td>\n",
       "            </tr>\n",
       "            <tr>\n",
       "                        <th id=\"T_0d87c_level0_row2\" class=\"row_heading level0 row2\" >visits</th>\n",
       "                        <td id=\"T_0d87c_row2_col0\" class=\"data row2 col0\" >0</td>\n",
       "                        <td id=\"T_0d87c_row2_col1\" class=\"data row2 col1\" >62</td>\n",
       "                        <td id=\"T_0d87c_row2_col2\" class=\"data row2 col2\" >0.00%</td>\n",
       "            </tr>\n",
       "    </tbody></table>"
      ],
      "text/plain": [
       "<pandas.io.formats.style.Styler at 0x7f0610a2cf40>"
      ]
     },
     "execution_count": 14,
     "metadata": {},
     "output_type": "execute_result"
    }
   ],
   "source": [
    "visits.stb.missing(style=True)"
   ]
  },
  {
   "cell_type": "code",
   "execution_count": 15,
   "metadata": {},
   "outputs": [
    {
     "data": {
      "text/html": [
       "<style  type=\"text/css\" >\n",
       "</style><table id=\"T_a5a28_\" ><thead>    <tr>        <th class=\"blank level0\" ></th>        <th class=\"col_heading level0 col0\" >missing</th>        <th class=\"col_heading level0 col1\" >total</th>        <th class=\"col_heading level0 col2\" >percent</th>    </tr></thead><tbody>\n",
       "                <tr>\n",
       "                        <th id=\"T_a5a28_level0_row0\" class=\"row_heading level0 row0\" >transactionId</th>\n",
       "                        <td id=\"T_a5a28_row0_col0\" class=\"data row0 col0\" >0</td>\n",
       "                        <td id=\"T_a5a28_row0_col1\" class=\"data row0 col1\" >1,197</td>\n",
       "                        <td id=\"T_a5a28_row0_col2\" class=\"data row0 col2\" >0.00%</td>\n",
       "            </tr>\n",
       "            <tr>\n",
       "                        <th id=\"T_a5a28_level0_row1\" class=\"row_heading level0 row1\" >visitorId</th>\n",
       "                        <td id=\"T_a5a28_row1_col0\" class=\"data row1 col0\" >0</td>\n",
       "                        <td id=\"T_a5a28_row1_col1\" class=\"data row1 col1\" >1,197</td>\n",
       "                        <td id=\"T_a5a28_row1_col2\" class=\"data row1 col2\" >0.00%</td>\n",
       "            </tr>\n",
       "            <tr>\n",
       "                        <th id=\"T_a5a28_level0_row2\" class=\"row_heading level0 row2\" >date</th>\n",
       "                        <td id=\"T_a5a28_row2_col0\" class=\"data row2 col0\" >0</td>\n",
       "                        <td id=\"T_a5a28_row2_col1\" class=\"data row2 col1\" >1,197</td>\n",
       "                        <td id=\"T_a5a28_row2_col2\" class=\"data row2 col2\" >0.00%</td>\n",
       "            </tr>\n",
       "            <tr>\n",
       "                        <th id=\"T_a5a28_level0_row3\" class=\"row_heading level0 row3\" >revenue</th>\n",
       "                        <td id=\"T_a5a28_row3_col0\" class=\"data row3 col0\" >0</td>\n",
       "                        <td id=\"T_a5a28_row3_col1\" class=\"data row3 col1\" >1,197</td>\n",
       "                        <td id=\"T_a5a28_row3_col2\" class=\"data row3 col2\" >0.00%</td>\n",
       "            </tr>\n",
       "            <tr>\n",
       "                        <th id=\"T_a5a28_level0_row4\" class=\"row_heading level0 row4\" >group</th>\n",
       "                        <td id=\"T_a5a28_row4_col0\" class=\"data row4 col0\" >0</td>\n",
       "                        <td id=\"T_a5a28_row4_col1\" class=\"data row4 col1\" >1,197</td>\n",
       "                        <td id=\"T_a5a28_row4_col2\" class=\"data row4 col2\" >0.00%</td>\n",
       "            </tr>\n",
       "    </tbody></table>"
      ],
      "text/plain": [
       "<pandas.io.formats.style.Styler at 0x7f061084c8e0>"
      ]
     },
     "execution_count": 15,
     "metadata": {},
     "output_type": "execute_result"
    }
   ],
   "source": [
    "orders.stb.missing(style=True)"
   ]
  },
  {
   "cell_type": "markdown",
   "metadata": {},
   "source": [
    "### Formatting the datetime columns"
   ]
  },
  {
   "cell_type": "code",
   "execution_count": 16,
   "metadata": {},
   "outputs": [],
   "source": [
    "orders['date']=pd.to_datetime(orders['date'],format='%Y-%m-%d')"
   ]
  },
  {
   "cell_type": "code",
   "execution_count": 17,
   "metadata": {},
   "outputs": [],
   "source": [
    "visits['date']=pd.to_datetime(visits['date'],format='%Y-%m-%d') "
   ]
  },
  {
   "cell_type": "markdown",
   "metadata": {},
   "source": [
    "### Checking and treating duplicates"
   ]
  },
  {
   "cell_type": "code",
   "execution_count": 18,
   "metadata": {},
   "outputs": [
    {
     "data": {
      "text/html": [
       "<div>\n",
       "<style scoped>\n",
       "    .dataframe tbody tr th:only-of-type {\n",
       "        vertical-align: middle;\n",
       "    }\n",
       "\n",
       "    .dataframe tbody tr th {\n",
       "        vertical-align: top;\n",
       "    }\n",
       "\n",
       "    .dataframe thead th {\n",
       "        text-align: right;\n",
       "    }\n",
       "</style>\n",
       "<table border=\"1\" class=\"dataframe\">\n",
       "  <thead>\n",
       "    <tr style=\"text-align: right;\">\n",
       "      <th></th>\n",
       "      <th>transactionId</th>\n",
       "      <th>visitorId</th>\n",
       "      <th>date</th>\n",
       "      <th>revenue</th>\n",
       "      <th>group</th>\n",
       "    </tr>\n",
       "  </thead>\n",
       "  <tbody>\n",
       "    <tr>\n",
       "      <th>41</th>\n",
       "      <td>2594268419</td>\n",
       "      <td>237748145</td>\n",
       "      <td>2019-08-15</td>\n",
       "      <td>20.8</td>\n",
       "      <td>A</td>\n",
       "    </tr>\n",
       "    <tr>\n",
       "      <th>91</th>\n",
       "      <td>3176574859</td>\n",
       "      <td>2742574263</td>\n",
       "      <td>2019-08-22</td>\n",
       "      <td>275.9</td>\n",
       "      <td>B</td>\n",
       "    </tr>\n",
       "    <tr>\n",
       "      <th>95</th>\n",
       "      <td>372616894</td>\n",
       "      <td>457167155</td>\n",
       "      <td>2019-08-22</td>\n",
       "      <td>20.2</td>\n",
       "      <td>B</td>\n",
       "    </tr>\n",
       "    <tr>\n",
       "      <th>98</th>\n",
       "      <td>1962247337</td>\n",
       "      <td>2706377257</td>\n",
       "      <td>2019-08-01</td>\n",
       "      <td>110.7</td>\n",
       "      <td>A</td>\n",
       "    </tr>\n",
       "    <tr>\n",
       "      <th>112</th>\n",
       "      <td>1638982251</td>\n",
       "      <td>3062433592</td>\n",
       "      <td>2019-08-01</td>\n",
       "      <td>135.3</td>\n",
       "      <td>B</td>\n",
       "    </tr>\n",
       "    <tr>\n",
       "      <th>...</th>\n",
       "      <td>...</td>\n",
       "      <td>...</td>\n",
       "      <td>...</td>\n",
       "      <td>...</td>\n",
       "      <td>...</td>\n",
       "    </tr>\n",
       "    <tr>\n",
       "      <th>1182</th>\n",
       "      <td>2682156369</td>\n",
       "      <td>1668030113</td>\n",
       "      <td>2019-08-14</td>\n",
       "      <td>20.8</td>\n",
       "      <td>B</td>\n",
       "    </tr>\n",
       "    <tr>\n",
       "      <th>1183</th>\n",
       "      <td>1458356232</td>\n",
       "      <td>963407295</td>\n",
       "      <td>2019-08-14</td>\n",
       "      <td>80.0</td>\n",
       "      <td>A</td>\n",
       "    </tr>\n",
       "    <tr>\n",
       "      <th>1184</th>\n",
       "      <td>1329499668</td>\n",
       "      <td>2949041841</td>\n",
       "      <td>2019-08-14</td>\n",
       "      <td>160.7</td>\n",
       "      <td>B</td>\n",
       "    </tr>\n",
       "    <tr>\n",
       "      <th>1189</th>\n",
       "      <td>4082620617</td>\n",
       "      <td>393266494</td>\n",
       "      <td>2019-08-14</td>\n",
       "      <td>490.4</td>\n",
       "      <td>B</td>\n",
       "    </tr>\n",
       "    <tr>\n",
       "      <th>1195</th>\n",
       "      <td>1947021204</td>\n",
       "      <td>1614305549</td>\n",
       "      <td>2019-08-14</td>\n",
       "      <td>5.5</td>\n",
       "      <td>A</td>\n",
       "    </tr>\n",
       "  </tbody>\n",
       "</table>\n",
       "<p>166 rows × 5 columns</p>\n",
       "</div>"
      ],
      "text/plain": [
       "      transactionId   visitorId       date  revenue group\n",
       "41       2594268419   237748145 2019-08-15     20.8     A\n",
       "91       3176574859  2742574263 2019-08-22    275.9     B\n",
       "95        372616894   457167155 2019-08-22     20.2     B\n",
       "98       1962247337  2706377257 2019-08-01    110.7     A\n",
       "112      1638982251  3062433592 2019-08-01    135.3     B\n",
       "...             ...         ...        ...      ...   ...\n",
       "1182     2682156369  1668030113 2019-08-14     20.8     B\n",
       "1183     1458356232   963407295 2019-08-14     80.0     A\n",
       "1184     1329499668  2949041841 2019-08-14    160.7     B\n",
       "1189     4082620617   393266494 2019-08-14    490.4     B\n",
       "1195     1947021204  1614305549 2019-08-14      5.5     A\n",
       "\n",
       "[166 rows x 5 columns]"
      ]
     },
     "execution_count": 18,
     "metadata": {},
     "output_type": "execute_result"
    }
   ],
   "source": [
    "orders[orders['visitorId'].duplicated()]"
   ]
  },
  {
   "cell_type": "markdown",
   "metadata": {},
   "source": [
    "There're some duplicates, but let's see the original rows as well, alongside the duplicates, to better understand the nature of the duplicates. We want to make sure that no users are present in both A and B groups."
   ]
  },
  {
   "cell_type": "code",
   "execution_count": 19,
   "metadata": {},
   "outputs": [
    {
     "data": {
      "text/html": [
       "<div>\n",
       "<style scoped>\n",
       "    .dataframe tbody tr th:only-of-type {\n",
       "        vertical-align: middle;\n",
       "    }\n",
       "\n",
       "    .dataframe tbody tr th {\n",
       "        vertical-align: top;\n",
       "    }\n",
       "\n",
       "    .dataframe thead th {\n",
       "        text-align: right;\n",
       "    }\n",
       "</style>\n",
       "<table border=\"1\" class=\"dataframe\">\n",
       "  <thead>\n",
       "    <tr style=\"text-align: right;\">\n",
       "      <th></th>\n",
       "      <th>transactionId</th>\n",
       "      <th>visitorId</th>\n",
       "      <th>date</th>\n",
       "      <th>revenue</th>\n",
       "      <th>group</th>\n",
       "    </tr>\n",
       "  </thead>\n",
       "  <tbody>\n",
       "    <tr>\n",
       "      <th>662</th>\n",
       "      <td>1811671147</td>\n",
       "      <td>4266935830</td>\n",
       "      <td>2019-08-29</td>\n",
       "      <td>1220.2</td>\n",
       "      <td>A</td>\n",
       "    </tr>\n",
       "    <tr>\n",
       "      <th>682</th>\n",
       "      <td>1216533772</td>\n",
       "      <td>4266935830</td>\n",
       "      <td>2019-08-29</td>\n",
       "      <td>1220.2</td>\n",
       "      <td>B</td>\n",
       "    </tr>\n",
       "    <tr>\n",
       "      <th>60</th>\n",
       "      <td>1421016313</td>\n",
       "      <td>4256040402</td>\n",
       "      <td>2019-08-16</td>\n",
       "      <td>875.5</td>\n",
       "      <td>B</td>\n",
       "    </tr>\n",
       "    <tr>\n",
       "      <th>263</th>\n",
       "      <td>2575861846</td>\n",
       "      <td>4256040402</td>\n",
       "      <td>2019-08-18</td>\n",
       "      <td>170.8</td>\n",
       "      <td>B</td>\n",
       "    </tr>\n",
       "    <tr>\n",
       "      <th>187</th>\n",
       "      <td>2048878902</td>\n",
       "      <td>4256040402</td>\n",
       "      <td>2019-08-17</td>\n",
       "      <td>25.8</td>\n",
       "      <td>A</td>\n",
       "    </tr>\n",
       "    <tr>\n",
       "      <th>...</th>\n",
       "      <td>...</td>\n",
       "      <td>...</td>\n",
       "      <td>...</td>\n",
       "      <td>...</td>\n",
       "      <td>...</td>\n",
       "    </tr>\n",
       "    <tr>\n",
       "      <th>26</th>\n",
       "      <td>2223239646</td>\n",
       "      <td>199603092</td>\n",
       "      <td>2019-08-15</td>\n",
       "      <td>55.7</td>\n",
       "      <td>A</td>\n",
       "    </tr>\n",
       "    <tr>\n",
       "      <th>823</th>\n",
       "      <td>2971973105</td>\n",
       "      <td>199603092</td>\n",
       "      <td>2019-08-27</td>\n",
       "      <td>45.9</td>\n",
       "      <td>A</td>\n",
       "    </tr>\n",
       "    <tr>\n",
       "      <th>134</th>\n",
       "      <td>62794304</td>\n",
       "      <td>199603092</td>\n",
       "      <td>2019-08-22</td>\n",
       "      <td>110.3</td>\n",
       "      <td>A</td>\n",
       "    </tr>\n",
       "    <tr>\n",
       "      <th>71</th>\n",
       "      <td>3679129301</td>\n",
       "      <td>8300375</td>\n",
       "      <td>2019-08-01</td>\n",
       "      <td>165.7</td>\n",
       "      <td>B</td>\n",
       "    </tr>\n",
       "    <tr>\n",
       "      <th>703</th>\n",
       "      <td>4293855558</td>\n",
       "      <td>8300375</td>\n",
       "      <td>2019-08-07</td>\n",
       "      <td>30.5</td>\n",
       "      <td>A</td>\n",
       "    </tr>\n",
       "  </tbody>\n",
       "</table>\n",
       "<p>260 rows × 5 columns</p>\n",
       "</div>"
      ],
      "text/plain": [
       "     transactionId   visitorId       date  revenue group\n",
       "662     1811671147  4266935830 2019-08-29   1220.2     A\n",
       "682     1216533772  4266935830 2019-08-29   1220.2     B\n",
       "60      1421016313  4256040402 2019-08-16    875.5     B\n",
       "263     2575861846  4256040402 2019-08-18    170.8     B\n",
       "187     2048878902  4256040402 2019-08-17     25.8     A\n",
       "..             ...         ...        ...      ...   ...\n",
       "26      2223239646   199603092 2019-08-15     55.7     A\n",
       "823     2971973105   199603092 2019-08-27     45.9     A\n",
       "134       62794304   199603092 2019-08-22    110.3     A\n",
       "71      3679129301     8300375 2019-08-01    165.7     B\n",
       "703     4293855558     8300375 2019-08-07     30.5     A\n",
       "\n",
       "[260 rows x 5 columns]"
      ]
     },
     "execution_count": 19,
     "metadata": {},
     "output_type": "execute_result"
    }
   ],
   "source": [
    "orders[orders['visitorId'].duplicated(keep=False)].sort_values(by=['visitorId'],ascending=False)"
   ]
  },
  {
   "cell_type": "code",
   "execution_count": 20,
   "metadata": {},
   "outputs": [
    {
     "data": {
      "text/html": [
       "<div>\n",
       "<style scoped>\n",
       "    .dataframe tbody tr th:only-of-type {\n",
       "        vertical-align: middle;\n",
       "    }\n",
       "\n",
       "    .dataframe tbody tr th {\n",
       "        vertical-align: top;\n",
       "    }\n",
       "\n",
       "    .dataframe thead th {\n",
       "        text-align: right;\n",
       "    }\n",
       "</style>\n",
       "<table border=\"1\" class=\"dataframe\">\n",
       "  <thead>\n",
       "    <tr style=\"text-align: right;\">\n",
       "      <th></th>\n",
       "      <th>visitorId</th>\n",
       "      <th>group</th>\n",
       "    </tr>\n",
       "  </thead>\n",
       "  <tbody>\n",
       "    <tr>\n",
       "      <th>0</th>\n",
       "      <td>2654030115</td>\n",
       "      <td>2</td>\n",
       "    </tr>\n",
       "    <tr>\n",
       "      <th>1</th>\n",
       "      <td>3891541246</td>\n",
       "      <td>2</td>\n",
       "    </tr>\n",
       "    <tr>\n",
       "      <th>2</th>\n",
       "      <td>3941795274</td>\n",
       "      <td>2</td>\n",
       "    </tr>\n",
       "    <tr>\n",
       "      <th>3</th>\n",
       "      <td>1404934699</td>\n",
       "      <td>2</td>\n",
       "    </tr>\n",
       "    <tr>\n",
       "      <th>4</th>\n",
       "      <td>351125977</td>\n",
       "      <td>2</td>\n",
       "    </tr>\n",
       "  </tbody>\n",
       "</table>\n",
       "</div>"
      ],
      "text/plain": [
       "    visitorId  group\n",
       "0  2654030115      2\n",
       "1  3891541246      2\n",
       "2  3941795274      2\n",
       "3  1404934699      2\n",
       "4   351125977      2"
      ]
     },
     "execution_count": 20,
     "metadata": {},
     "output_type": "execute_result"
    }
   ],
   "source": [
    "#Let's identify the number of groups each user is assigned to and see whether there are any users, who are assigned to two\n",
    "#groups\n",
    "order_duplicates = orders.groupby(['visitorId'])['group'].nunique().sort_values(ascending=False).reset_index()\n",
    "order_duplicates.head()"
   ]
  },
  {
   "cell_type": "markdown",
   "metadata": {},
   "source": [
    "We can see that there're some users who are assigned to both groups A and B. We will remove those users from the dataframe. For that we will select users who assigned to both groups into separate list, and then select from the original 'orders' dataset users, who are NOT in the list."
   ]
  },
  {
   "cell_type": "code",
   "execution_count": 21,
   "metadata": {},
   "outputs": [],
   "source": [
    "visitor_drop = orders.groupby('visitorId')['group'].nunique().reset_index().query('group !=1')['visitorId'].to_list()"
   ]
  },
  {
   "cell_type": "code",
   "execution_count": 22,
   "metadata": {},
   "outputs": [
    {
     "data": {
      "text/html": [
       "<div>\n",
       "<style scoped>\n",
       "    .dataframe tbody tr th:only-of-type {\n",
       "        vertical-align: middle;\n",
       "    }\n",
       "\n",
       "    .dataframe tbody tr th {\n",
       "        vertical-align: top;\n",
       "    }\n",
       "\n",
       "    .dataframe thead th {\n",
       "        text-align: right;\n",
       "    }\n",
       "</style>\n",
       "<table border=\"1\" class=\"dataframe\">\n",
       "  <thead>\n",
       "    <tr style=\"text-align: right;\">\n",
       "      <th></th>\n",
       "      <th>transactionId</th>\n",
       "      <th>visitorId</th>\n",
       "      <th>date</th>\n",
       "      <th>revenue</th>\n",
       "      <th>group</th>\n",
       "    </tr>\n",
       "  </thead>\n",
       "  <tbody>\n",
       "    <tr>\n",
       "      <th>0</th>\n",
       "      <td>3667963787</td>\n",
       "      <td>3312258926</td>\n",
       "      <td>2019-08-15</td>\n",
       "      <td>30.4</td>\n",
       "      <td>B</td>\n",
       "    </tr>\n",
       "    <tr>\n",
       "      <th>1</th>\n",
       "      <td>2804400009</td>\n",
       "      <td>3642806036</td>\n",
       "      <td>2019-08-15</td>\n",
       "      <td>15.2</td>\n",
       "      <td>B</td>\n",
       "    </tr>\n",
       "    <tr>\n",
       "      <th>3</th>\n",
       "      <td>3797467345</td>\n",
       "      <td>1196621759</td>\n",
       "      <td>2019-08-15</td>\n",
       "      <td>155.1</td>\n",
       "      <td>B</td>\n",
       "    </tr>\n",
       "    <tr>\n",
       "      <th>4</th>\n",
       "      <td>2282983706</td>\n",
       "      <td>2322279887</td>\n",
       "      <td>2019-08-15</td>\n",
       "      <td>40.5</td>\n",
       "      <td>B</td>\n",
       "    </tr>\n",
       "    <tr>\n",
       "      <th>5</th>\n",
       "      <td>182168103</td>\n",
       "      <td>935554773</td>\n",
       "      <td>2019-08-15</td>\n",
       "      <td>35.0</td>\n",
       "      <td>B</td>\n",
       "    </tr>\n",
       "    <tr>\n",
       "      <th>...</th>\n",
       "      <td>...</td>\n",
       "      <td>...</td>\n",
       "      <td>...</td>\n",
       "      <td>...</td>\n",
       "      <td>...</td>\n",
       "    </tr>\n",
       "    <tr>\n",
       "      <th>1191</th>\n",
       "      <td>3592955527</td>\n",
       "      <td>608641596</td>\n",
       "      <td>2019-08-14</td>\n",
       "      <td>255.7</td>\n",
       "      <td>B</td>\n",
       "    </tr>\n",
       "    <tr>\n",
       "      <th>1192</th>\n",
       "      <td>2662137336</td>\n",
       "      <td>3733762160</td>\n",
       "      <td>2019-08-14</td>\n",
       "      <td>100.8</td>\n",
       "      <td>B</td>\n",
       "    </tr>\n",
       "    <tr>\n",
       "      <th>1193</th>\n",
       "      <td>2203539145</td>\n",
       "      <td>370388673</td>\n",
       "      <td>2019-08-14</td>\n",
       "      <td>50.1</td>\n",
       "      <td>A</td>\n",
       "    </tr>\n",
       "    <tr>\n",
       "      <th>1194</th>\n",
       "      <td>1807773912</td>\n",
       "      <td>573423106</td>\n",
       "      <td>2019-08-14</td>\n",
       "      <td>165.3</td>\n",
       "      <td>A</td>\n",
       "    </tr>\n",
       "    <tr>\n",
       "      <th>1196</th>\n",
       "      <td>3936777065</td>\n",
       "      <td>2108080724</td>\n",
       "      <td>2019-08-15</td>\n",
       "      <td>3120.1</td>\n",
       "      <td>B</td>\n",
       "    </tr>\n",
       "  </tbody>\n",
       "</table>\n",
       "<p>1016 rows × 5 columns</p>\n",
       "</div>"
      ],
      "text/plain": [
       "      transactionId   visitorId       date  revenue group\n",
       "0        3667963787  3312258926 2019-08-15     30.4     B\n",
       "1        2804400009  3642806036 2019-08-15     15.2     B\n",
       "3        3797467345  1196621759 2019-08-15    155.1     B\n",
       "4        2282983706  2322279887 2019-08-15     40.5     B\n",
       "5         182168103   935554773 2019-08-15     35.0     B\n",
       "...             ...         ...        ...      ...   ...\n",
       "1191     3592955527   608641596 2019-08-14    255.7     B\n",
       "1192     2662137336  3733762160 2019-08-14    100.8     B\n",
       "1193     2203539145   370388673 2019-08-14     50.1     A\n",
       "1194     1807773912   573423106 2019-08-14    165.3     A\n",
       "1196     3936777065  2108080724 2019-08-15   3120.1     B\n",
       "\n",
       "[1016 rows x 5 columns]"
      ]
     },
     "execution_count": 22,
     "metadata": {},
     "output_type": "execute_result"
    }
   ],
   "source": [
    "orders_filt = orders[~orders['visitorId'].isin(visitor_drop)]\n",
    "orders_filt"
   ]
  },
  {
   "cell_type": "markdown",
   "metadata": {},
   "source": [
    "## Part 1. Prioritizing Hypotheses"
   ]
  },
  {
   "attachments": {
    "image-2.png": {
     "image/png": "[encoded data removed]"
    }
   },
   "cell_type": "markdown",
   "metadata": {},
   "source": [
    "Impact, confidence, effort (ICE) is one of the most popular ways of prioritizing problems:\n",
    "![image-2.png](attachment:image-2.png)"
   ]
  },
  {
   "attachments": {
    "image.png": {
     "image/png": "[encoded data removed]"
    }
   },
   "cell_type": "markdown",
   "metadata": {},
   "source": [
    "There's also a modified version, RICE:\n",
    "![image.png](attachment:image.png)\n",
    " \n",
    "**RICE has four components:**  \n",
    "\n",
    "- Reach — how many users will be affected by the update you want to introduce  \n",
    "- Impact — how strongly this update will affect the users, their experience, and their satisfaction with the product  \n",
    "- Confidence — how sure you are that your product will affect them in this way  \n",
    "- Effort — how much will it cost to test the hypothesis"
   ]
  },
  {
   "cell_type": "markdown",
   "metadata": {},
   "source": [
    "**We will do the following:**  \n",
    "•\tApply the ICE framework to prioritize hypotheses, and then sort them in descending order of priority.  \n",
    "•\tApply the RICE framework to prioritize hypotheses, and then sort them in descending order of priority."
   ]
  },
  {
   "cell_type": "code",
   "execution_count": 23,
   "metadata": {},
   "outputs": [
    {
     "data": {
      "text/html": [
       "<div>\n",
       "<style scoped>\n",
       "    .dataframe tbody tr th:only-of-type {\n",
       "        vertical-align: middle;\n",
       "    }\n",
       "\n",
       "    .dataframe tbody tr th {\n",
       "        vertical-align: top;\n",
       "    }\n",
       "\n",
       "    .dataframe thead th {\n",
       "        text-align: right;\n",
       "    }\n",
       "</style>\n",
       "<table border=\"1\" class=\"dataframe\">\n",
       "  <thead>\n",
       "    <tr style=\"text-align: right;\">\n",
       "      <th></th>\n",
       "      <th>Hypothesis</th>\n",
       "      <th>Reach</th>\n",
       "      <th>Impact</th>\n",
       "      <th>Confidence</th>\n",
       "      <th>Effort</th>\n",
       "    </tr>\n",
       "  </thead>\n",
       "  <tbody>\n",
       "    <tr>\n",
       "      <th>0</th>\n",
       "      <td>Add two new channels for attracting traffic. This will bring 30% more users</td>\n",
       "      <td>3</td>\n",
       "      <td>10</td>\n",
       "      <td>8</td>\n",
       "      <td>6</td>\n",
       "    </tr>\n",
       "    <tr>\n",
       "      <th>1</th>\n",
       "      <td>Launch your own delivery service. This will shorten delivery time</td>\n",
       "      <td>2</td>\n",
       "      <td>5</td>\n",
       "      <td>4</td>\n",
       "      <td>10</td>\n",
       "    </tr>\n",
       "    <tr>\n",
       "      <th>2</th>\n",
       "      <td>Add product recommendation blocks to the store's site. This will increase conversion and average purchase size</td>\n",
       "      <td>8</td>\n",
       "      <td>3</td>\n",
       "      <td>7</td>\n",
       "      <td>3</td>\n",
       "    </tr>\n",
       "    <tr>\n",
       "      <th>3</th>\n",
       "      <td>Change the category structure. This will increase conversion since users will find the products they want more quickly</td>\n",
       "      <td>8</td>\n",
       "      <td>3</td>\n",
       "      <td>3</td>\n",
       "      <td>8</td>\n",
       "    </tr>\n",
       "    <tr>\n",
       "      <th>4</th>\n",
       "      <td>Change the background color on the main page. This will increase user engagement</td>\n",
       "      <td>3</td>\n",
       "      <td>1</td>\n",
       "      <td>1</td>\n",
       "      <td>1</td>\n",
       "    </tr>\n",
       "  </tbody>\n",
       "</table>\n",
       "</div>"
      ],
      "text/plain": [
       "                                                                                                               Hypothesis  \\\n",
       "0                                             Add two new channels for attracting traffic. This will bring 30% more users   \n",
       "1                                                       Launch your own delivery service. This will shorten delivery time   \n",
       "2          Add product recommendation blocks to the store's site. This will increase conversion and average purchase size   \n",
       "3  Change the category structure. This will increase conversion since users will find the products they want more quickly   \n",
       "4                                        Change the background color on the main page. This will increase user engagement   \n",
       "\n",
       "   Reach  Impact  Confidence  Effort  \n",
       "0      3      10           8       6  \n",
       "1      2       5           4      10  \n",
       "2      8       3           7       3  \n",
       "3      8       3           3       8  \n",
       "4      3       1           1       1  "
      ]
     },
     "execution_count": 23,
     "metadata": {},
     "output_type": "execute_result"
    }
   ],
   "source": [
    "hypotheses.head()"
   ]
  },
  {
   "cell_type": "markdown",
   "metadata": {},
   "source": [
    "### ICE"
   ]
  },
  {
   "cell_type": "code",
   "execution_count": 24,
   "metadata": {},
   "outputs": [],
   "source": [
    "hypotheses['ICE'] = (hypotheses['Impact']*hypotheses['Confidence'])/hypotheses['Effort']"
   ]
  },
  {
   "cell_type": "code",
   "execution_count": 25,
   "metadata": {},
   "outputs": [
    {
     "data": {
      "text/html": [
       "<div>\n",
       "<style scoped>\n",
       "    .dataframe tbody tr th:only-of-type {\n",
       "        vertical-align: middle;\n",
       "    }\n",
       "\n",
       "    .dataframe tbody tr th {\n",
       "        vertical-align: top;\n",
       "    }\n",
       "\n",
       "    .dataframe thead th {\n",
       "        text-align: right;\n",
       "    }\n",
       "</style>\n",
       "<table border=\"1\" class=\"dataframe\">\n",
       "  <thead>\n",
       "    <tr style=\"text-align: right;\">\n",
       "      <th></th>\n",
       "      <th>Hypothesis</th>\n",
       "      <th>ICE</th>\n",
       "    </tr>\n",
       "  </thead>\n",
       "  <tbody>\n",
       "    <tr>\n",
       "      <th>8</th>\n",
       "      <td>Launch a promotion that gives users discounts on their birthdays</td>\n",
       "      <td>16.0</td>\n",
       "    </tr>\n",
       "    <tr>\n",
       "      <th>0</th>\n",
       "      <td>Add two new channels for attracting traffic. This will bring 30% more users</td>\n",
       "      <td>13.0</td>\n",
       "    </tr>\n",
       "    <tr>\n",
       "      <th>7</th>\n",
       "      <td>Add a subscription form to all the main pages. This will help you compile a mailing list</td>\n",
       "      <td>11.0</td>\n",
       "    </tr>\n",
       "    <tr>\n",
       "      <th>6</th>\n",
       "      <td>Show banners with current offers and sales on the main page. This will boost conversion</td>\n",
       "      <td>8.0</td>\n",
       "    </tr>\n",
       "    <tr>\n",
       "      <th>2</th>\n",
       "      <td>Add product recommendation blocks to the store's site. This will increase conversion and average purchase size</td>\n",
       "      <td>7.0</td>\n",
       "    </tr>\n",
       "    <tr>\n",
       "      <th>1</th>\n",
       "      <td>Launch your own delivery service. This will shorten delivery time</td>\n",
       "      <td>2.0</td>\n",
       "    </tr>\n",
       "    <tr>\n",
       "      <th>3</th>\n",
       "      <td>Change the category structure. This will increase conversion since users will find the products they want more quickly</td>\n",
       "      <td>1.0</td>\n",
       "    </tr>\n",
       "    <tr>\n",
       "      <th>4</th>\n",
       "      <td>Change the background color on the main page. This will increase user engagement</td>\n",
       "      <td>1.0</td>\n",
       "    </tr>\n",
       "    <tr>\n",
       "      <th>5</th>\n",
       "      <td>Add a customer review page. This will increase the number of orders</td>\n",
       "      <td>1.0</td>\n",
       "    </tr>\n",
       "  </tbody>\n",
       "</table>\n",
       "</div>"
      ],
      "text/plain": [
       "                                                                                                               Hypothesis  \\\n",
       "8                                                        Launch a promotion that gives users discounts on their birthdays   \n",
       "0                                             Add two new channels for attracting traffic. This will bring 30% more users   \n",
       "7                                Add a subscription form to all the main pages. This will help you compile a mailing list   \n",
       "6                                 Show banners with current offers and sales on the main page. This will boost conversion   \n",
       "2          Add product recommendation blocks to the store's site. This will increase conversion and average purchase size   \n",
       "1                                                       Launch your own delivery service. This will shorten delivery time   \n",
       "3  Change the category structure. This will increase conversion since users will find the products they want more quickly   \n",
       "4                                        Change the background color on the main page. This will increase user engagement   \n",
       "5                                                     Add a customer review page. This will increase the number of orders   \n",
       "\n",
       "    ICE  \n",
       "8  16.0  \n",
       "0  13.0  \n",
       "7  11.0  \n",
       "6   8.0  \n",
       "2   7.0  \n",
       "1   2.0  \n",
       "3   1.0  \n",
       "4   1.0  \n",
       "5   1.0  "
      ]
     },
     "execution_count": 25,
     "metadata": {},
     "output_type": "execute_result"
    }
   ],
   "source": [
    "hypotheses_ICE = hypotheses[['Hypothesis', 'ICE']].round().sort_values(by='ICE', ascending=False)\n",
    "hypotheses_ICE"
   ]
  },
  {
   "cell_type": "markdown",
   "metadata": {},
   "source": [
    "### RICE"
   ]
  },
  {
   "cell_type": "code",
   "execution_count": 26,
   "metadata": {},
   "outputs": [],
   "source": [
    "hypotheses['RICE'] = (hypotheses['Reach']*hypotheses['Impact']*hypotheses['Confidence'])/hypotheses['Effort']"
   ]
  },
  {
   "cell_type": "code",
   "execution_count": 27,
   "metadata": {},
   "outputs": [
    {
     "data": {
      "text/html": [
       "<div>\n",
       "<style scoped>\n",
       "    .dataframe tbody tr th:only-of-type {\n",
       "        vertical-align: middle;\n",
       "    }\n",
       "\n",
       "    .dataframe tbody tr th {\n",
       "        vertical-align: top;\n",
       "    }\n",
       "\n",
       "    .dataframe thead th {\n",
       "        text-align: right;\n",
       "    }\n",
       "</style>\n",
       "<table border=\"1\" class=\"dataframe\">\n",
       "  <thead>\n",
       "    <tr style=\"text-align: right;\">\n",
       "      <th></th>\n",
       "      <th>Hypothesis</th>\n",
       "      <th>RICE</th>\n",
       "    </tr>\n",
       "  </thead>\n",
       "  <tbody>\n",
       "    <tr>\n",
       "      <th>7</th>\n",
       "      <td>Add a subscription form to all the main pages. This will help you compile a mailing list</td>\n",
       "      <td>112.0</td>\n",
       "    </tr>\n",
       "    <tr>\n",
       "      <th>2</th>\n",
       "      <td>Add product recommendation blocks to the store's site. This will increase conversion and average purchase size</td>\n",
       "      <td>56.0</td>\n",
       "    </tr>\n",
       "    <tr>\n",
       "      <th>0</th>\n",
       "      <td>Add two new channels for attracting traffic. This will bring 30% more users</td>\n",
       "      <td>40.0</td>\n",
       "    </tr>\n",
       "    <tr>\n",
       "      <th>6</th>\n",
       "      <td>Show banners with current offers and sales on the main page. This will boost conversion</td>\n",
       "      <td>40.0</td>\n",
       "    </tr>\n",
       "    <tr>\n",
       "      <th>8</th>\n",
       "      <td>Launch a promotion that gives users discounts on their birthdays</td>\n",
       "      <td>16.0</td>\n",
       "    </tr>\n",
       "    <tr>\n",
       "      <th>3</th>\n",
       "      <td>Change the category structure. This will increase conversion since users will find the products they want more quickly</td>\n",
       "      <td>9.0</td>\n",
       "    </tr>\n",
       "    <tr>\n",
       "      <th>1</th>\n",
       "      <td>Launch your own delivery service. This will shorten delivery time</td>\n",
       "      <td>4.0</td>\n",
       "    </tr>\n",
       "    <tr>\n",
       "      <th>5</th>\n",
       "      <td>Add a customer review page. This will increase the number of orders</td>\n",
       "      <td>4.0</td>\n",
       "    </tr>\n",
       "    <tr>\n",
       "      <th>4</th>\n",
       "      <td>Change the background color on the main page. This will increase user engagement</td>\n",
       "      <td>3.0</td>\n",
       "    </tr>\n",
       "  </tbody>\n",
       "</table>\n",
       "</div>"
      ],
      "text/plain": [
       "                                                                                                               Hypothesis  \\\n",
       "7                                Add a subscription form to all the main pages. This will help you compile a mailing list   \n",
       "2          Add product recommendation blocks to the store's site. This will increase conversion and average purchase size   \n",
       "0                                             Add two new channels for attracting traffic. This will bring 30% more users   \n",
       "6                                 Show banners with current offers and sales on the main page. This will boost conversion   \n",
       "8                                                        Launch a promotion that gives users discounts on their birthdays   \n",
       "3  Change the category structure. This will increase conversion since users will find the products they want more quickly   \n",
       "1                                                       Launch your own delivery service. This will shorten delivery time   \n",
       "5                                                     Add a customer review page. This will increase the number of orders   \n",
       "4                                        Change the background color on the main page. This will increase user engagement   \n",
       "\n",
       "    RICE  \n",
       "7  112.0  \n",
       "2   56.0  \n",
       "0   40.0  \n",
       "6   40.0  \n",
       "8   16.0  \n",
       "3    9.0  \n",
       "1    4.0  \n",
       "5    4.0  \n",
       "4    3.0  "
      ]
     },
     "execution_count": 27,
     "metadata": {},
     "output_type": "execute_result"
    }
   ],
   "source": [
    "hypotheses_RICE = hypotheses[['Hypothesis', 'RICE']].round().sort_values(by='RICE', ascending=False)\n",
    "hypotheses_RICE"
   ]
  },
  {
   "cell_type": "code",
   "execution_count": 28,
   "metadata": {},
   "outputs": [
    {
     "data": {
      "text/plain": [
       "<Figure size 1440x792 with 0 Axes>"
      ]
     },
     "metadata": {},
     "output_type": "display_data"
    },
    {
     "data": {
      "image/png": "[encoded data removed]",
      "text/plain": [
       "<Figure size 1275.5x648 with 42 Axes>"
      ]
     },
     "metadata": {
      "needs_background": "light"
     },
     "output_type": "display_data"
    }
   ],
   "source": [
    "import seaborn\n",
    "plt.figure(figsize=(20,11))\n",
    "seaborn.pairplot(hypotheses, hue=\"Hypothesis\", height=1.5);"
   ]
  },
  {
   "cell_type": "markdown",
   "metadata": {},
   "source": [
    "**Conclusions**  \n",
    "\n",
    "Based on the ICE framework, the hypothesis 8 (**Launch a promotion that gives users discounts on their birthdays**) is of highest priority: it has the largest impact and high confidence, and lowest effort of test application. However, once we apply RICE framework, the hypothesis 7 (**Add a subscription form to all the main pages. This will help you compile a mailing list)** gets the higher priority, and hypothesis 8 drops 4 point down. This is because the RICE framework has also REACH parameter. Obviously, hypothesis 7, which has on the 3rd place in ICE framework, rises to the first place as it has much higher reach. "
   ]
  },
  {
   "cell_type": "markdown",
   "metadata": {},
   "source": [
    "## Part 2. A/B Test Analysis"
   ]
  },
  {
   "cell_type": "markdown",
   "metadata": {},
   "source": [
    "### Cumulative revenue by group"
   ]
  },
  {
   "cell_type": "markdown",
   "metadata": {},
   "source": [
    "Let's graph cumulative revenue by group. For that we will group the orders_filt dataset by date and group, and count unique purchases, buyers, and total revenue per day."
   ]
  },
  {
   "cell_type": "code",
   "execution_count": 29,
   "metadata": {},
   "outputs": [
    {
     "data": {
      "text/html": [
       "<div>\n",
       "<style scoped>\n",
       "    .dataframe tbody tr th:only-of-type {\n",
       "        vertical-align: middle;\n",
       "    }\n",
       "\n",
       "    .dataframe tbody tr th {\n",
       "        vertical-align: top;\n",
       "    }\n",
       "\n",
       "    .dataframe thead th {\n",
       "        text-align: right;\n",
       "    }\n",
       "</style>\n",
       "<table border=\"1\" class=\"dataframe\">\n",
       "  <thead>\n",
       "    <tr style=\"text-align: right;\">\n",
       "      <th></th>\n",
       "      <th>date</th>\n",
       "      <th>group</th>\n",
       "      <th>purchases</th>\n",
       "      <th>buyers</th>\n",
       "      <th>revenue</th>\n",
       "    </tr>\n",
       "  </thead>\n",
       "  <tbody>\n",
       "    <tr>\n",
       "      <th>0</th>\n",
       "      <td>2019-08-01</td>\n",
       "      <td>A</td>\n",
       "      <td>23</td>\n",
       "      <td>19</td>\n",
       "      <td>2266.6</td>\n",
       "    </tr>\n",
       "    <tr>\n",
       "      <th>1</th>\n",
       "      <td>2019-08-01</td>\n",
       "      <td>B</td>\n",
       "      <td>17</td>\n",
       "      <td>17</td>\n",
       "      <td>967.2</td>\n",
       "    </tr>\n",
       "    <tr>\n",
       "      <th>2</th>\n",
       "      <td>2019-08-02</td>\n",
       "      <td>A</td>\n",
       "      <td>19</td>\n",
       "      <td>18</td>\n",
       "      <td>1468.3</td>\n",
       "    </tr>\n",
       "    <tr>\n",
       "      <th>3</th>\n",
       "      <td>2019-08-02</td>\n",
       "      <td>B</td>\n",
       "      <td>23</td>\n",
       "      <td>22</td>\n",
       "      <td>2568.1</td>\n",
       "    </tr>\n",
       "    <tr>\n",
       "      <th>4</th>\n",
       "      <td>2019-08-03</td>\n",
       "      <td>A</td>\n",
       "      <td>24</td>\n",
       "      <td>24</td>\n",
       "      <td>1815.2</td>\n",
       "    </tr>\n",
       "  </tbody>\n",
       "</table>\n",
       "</div>"
      ],
      "text/plain": [
       "        date group  purchases  buyers  revenue\n",
       "0 2019-08-01     A         23      19   2266.6\n",
       "1 2019-08-01     B         17      17    967.2\n",
       "2 2019-08-02     A         19      18   1468.3\n",
       "3 2019-08-02     B         23      22   2568.1\n",
       "4 2019-08-03     A         24      24   1815.2"
      ]
     },
     "execution_count": 29,
     "metadata": {},
     "output_type": "execute_result"
    }
   ],
   "source": [
    "orders_cumul = orders_filt.groupby(['date', 'group']).agg({'transactionId': 'nunique', 'visitorId': 'nunique', 'revenue': 'sum'}).reset_index()\n",
    "orders_cumul.columns = ['date', 'group', 'purchases', 'buyers', 'revenue']\n",
    "orders_cumul.head()"
   ]
  },
  {
   "cell_type": "markdown",
   "metadata": {},
   "source": [
    "Now we will calculate cumulative revenue using cumsum() function."
   ]
  },
  {
   "cell_type": "code",
   "execution_count": 30,
   "metadata": {},
   "outputs": [
    {
     "data": {
      "text/html": [
       "<div>\n",
       "<style scoped>\n",
       "    .dataframe tbody tr th:only-of-type {\n",
       "        vertical-align: middle;\n",
       "    }\n",
       "\n",
       "    .dataframe tbody tr th {\n",
       "        vertical-align: top;\n",
       "    }\n",
       "\n",
       "    .dataframe thead th {\n",
       "        text-align: right;\n",
       "    }\n",
       "</style>\n",
       "<table border=\"1\" class=\"dataframe\">\n",
       "  <thead>\n",
       "    <tr style=\"text-align: right;\">\n",
       "      <th></th>\n",
       "      <th>date</th>\n",
       "      <th>group</th>\n",
       "      <th>purchases</th>\n",
       "      <th>buyers</th>\n",
       "      <th>revenue</th>\n",
       "      <th>cumul_rev</th>\n",
       "    </tr>\n",
       "  </thead>\n",
       "  <tbody>\n",
       "    <tr>\n",
       "      <th>0</th>\n",
       "      <td>2019-08-01</td>\n",
       "      <td>A</td>\n",
       "      <td>23</td>\n",
       "      <td>19</td>\n",
       "      <td>2266.6</td>\n",
       "      <td>2266.6</td>\n",
       "    </tr>\n",
       "    <tr>\n",
       "      <th>1</th>\n",
       "      <td>2019-08-01</td>\n",
       "      <td>B</td>\n",
       "      <td>17</td>\n",
       "      <td>17</td>\n",
       "      <td>967.2</td>\n",
       "      <td>3233.8</td>\n",
       "    </tr>\n",
       "    <tr>\n",
       "      <th>2</th>\n",
       "      <td>2019-08-02</td>\n",
       "      <td>A</td>\n",
       "      <td>19</td>\n",
       "      <td>18</td>\n",
       "      <td>1468.3</td>\n",
       "      <td>4702.1</td>\n",
       "    </tr>\n",
       "    <tr>\n",
       "      <th>3</th>\n",
       "      <td>2019-08-02</td>\n",
       "      <td>B</td>\n",
       "      <td>23</td>\n",
       "      <td>22</td>\n",
       "      <td>2568.1</td>\n",
       "      <td>7270.2</td>\n",
       "    </tr>\n",
       "    <tr>\n",
       "      <th>4</th>\n",
       "      <td>2019-08-03</td>\n",
       "      <td>A</td>\n",
       "      <td>24</td>\n",
       "      <td>24</td>\n",
       "      <td>1815.2</td>\n",
       "      <td>9085.4</td>\n",
       "    </tr>\n",
       "  </tbody>\n",
       "</table>\n",
       "</div>"
      ],
      "text/plain": [
       "        date group  purchases  buyers  revenue  cumul_rev\n",
       "0 2019-08-01     A         23      19   2266.6     2266.6\n",
       "1 2019-08-01     B         17      17    967.2     3233.8\n",
       "2 2019-08-02     A         19      18   1468.3     4702.1\n",
       "3 2019-08-02     B         23      22   2568.1     7270.2\n",
       "4 2019-08-03     A         24      24   1815.2     9085.4"
      ]
     },
     "execution_count": 30,
     "metadata": {},
     "output_type": "execute_result"
    }
   ],
   "source": [
    "orders_cumul['cumul_rev']=orders_cumul['revenue'].cumsum()\n",
    "orders_cumul.head()"
   ]
  },
  {
   "cell_type": "markdown",
   "metadata": {},
   "source": [
    "We will now split the resulting dataset into two different datasets - for group A and group B."
   ]
  },
  {
   "cell_type": "code",
   "execution_count": 31,
   "metadata": {},
   "outputs": [
    {
     "data": {
      "text/html": [
       "<div>\n",
       "<style scoped>\n",
       "    .dataframe tbody tr th:only-of-type {\n",
       "        vertical-align: middle;\n",
       "    }\n",
       "\n",
       "    .dataframe tbody tr th {\n",
       "        vertical-align: top;\n",
       "    }\n",
       "\n",
       "    .dataframe thead th {\n",
       "        text-align: right;\n",
       "    }\n",
       "</style>\n",
       "<table border=\"1\" class=\"dataframe\">\n",
       "  <thead>\n",
       "    <tr style=\"text-align: right;\">\n",
       "      <th></th>\n",
       "      <th>date</th>\n",
       "      <th>group</th>\n",
       "      <th>purchases</th>\n",
       "      <th>buyers</th>\n",
       "      <th>revenue</th>\n",
       "      <th>cumul_rev</th>\n",
       "    </tr>\n",
       "  </thead>\n",
       "  <tbody>\n",
       "    <tr>\n",
       "      <th>0</th>\n",
       "      <td>2019-08-01</td>\n",
       "      <td>A</td>\n",
       "      <td>23</td>\n",
       "      <td>19</td>\n",
       "      <td>2266.6</td>\n",
       "      <td>2266.6</td>\n",
       "    </tr>\n",
       "    <tr>\n",
       "      <th>2</th>\n",
       "      <td>2019-08-02</td>\n",
       "      <td>A</td>\n",
       "      <td>19</td>\n",
       "      <td>18</td>\n",
       "      <td>1468.3</td>\n",
       "      <td>4702.1</td>\n",
       "    </tr>\n",
       "    <tr>\n",
       "      <th>4</th>\n",
       "      <td>2019-08-03</td>\n",
       "      <td>A</td>\n",
       "      <td>24</td>\n",
       "      <td>24</td>\n",
       "      <td>1815.2</td>\n",
       "      <td>9085.4</td>\n",
       "    </tr>\n",
       "    <tr>\n",
       "      <th>6</th>\n",
       "      <td>2019-08-04</td>\n",
       "      <td>A</td>\n",
       "      <td>11</td>\n",
       "      <td>11</td>\n",
       "      <td>675.5</td>\n",
       "      <td>10832.5</td>\n",
       "    </tr>\n",
       "    <tr>\n",
       "      <th>8</th>\n",
       "      <td>2019-08-05</td>\n",
       "      <td>A</td>\n",
       "      <td>22</td>\n",
       "      <td>22</td>\n",
       "      <td>1398.0</td>\n",
       "      <td>13762.1</td>\n",
       "    </tr>\n",
       "  </tbody>\n",
       "</table>\n",
       "</div>"
      ],
      "text/plain": [
       "        date group  purchases  buyers  revenue  cumul_rev\n",
       "0 2019-08-01     A         23      19   2266.6     2266.6\n",
       "2 2019-08-02     A         19      18   1468.3     4702.1\n",
       "4 2019-08-03     A         24      24   1815.2     9085.4\n",
       "6 2019-08-04     A         11      11    675.5    10832.5\n",
       "8 2019-08-05     A         22      22   1398.0    13762.1"
      ]
     },
     "execution_count": 31,
     "metadata": {},
     "output_type": "execute_result"
    }
   ],
   "source": [
    "orders_cumulA = orders_cumul[orders_cumul.group==\"A\"]\n",
    "orders_cumulA.head()"
   ]
  },
  {
   "cell_type": "code",
   "execution_count": 32,
   "metadata": {},
   "outputs": [
    {
     "data": {
      "text/html": [
       "<div>\n",
       "<style scoped>\n",
       "    .dataframe tbody tr th:only-of-type {\n",
       "        vertical-align: middle;\n",
       "    }\n",
       "\n",
       "    .dataframe tbody tr th {\n",
       "        vertical-align: top;\n",
       "    }\n",
       "\n",
       "    .dataframe thead th {\n",
       "        text-align: right;\n",
       "    }\n",
       "</style>\n",
       "<table border=\"1\" class=\"dataframe\">\n",
       "  <thead>\n",
       "    <tr style=\"text-align: right;\">\n",
       "      <th></th>\n",
       "      <th>date</th>\n",
       "      <th>group</th>\n",
       "      <th>purchases</th>\n",
       "      <th>buyers</th>\n",
       "      <th>revenue</th>\n",
       "      <th>cumul_rev</th>\n",
       "    </tr>\n",
       "  </thead>\n",
       "  <tbody>\n",
       "    <tr>\n",
       "      <th>1</th>\n",
       "      <td>2019-08-01</td>\n",
       "      <td>B</td>\n",
       "      <td>17</td>\n",
       "      <td>17</td>\n",
       "      <td>967.2</td>\n",
       "      <td>3233.8</td>\n",
       "    </tr>\n",
       "    <tr>\n",
       "      <th>3</th>\n",
       "      <td>2019-08-02</td>\n",
       "      <td>B</td>\n",
       "      <td>23</td>\n",
       "      <td>22</td>\n",
       "      <td>2568.1</td>\n",
       "      <td>7270.2</td>\n",
       "    </tr>\n",
       "    <tr>\n",
       "      <th>5</th>\n",
       "      <td>2019-08-03</td>\n",
       "      <td>B</td>\n",
       "      <td>14</td>\n",
       "      <td>14</td>\n",
       "      <td>1071.6</td>\n",
       "      <td>10157.0</td>\n",
       "    </tr>\n",
       "    <tr>\n",
       "      <th>7</th>\n",
       "      <td>2019-08-04</td>\n",
       "      <td>B</td>\n",
       "      <td>14</td>\n",
       "      <td>13</td>\n",
       "      <td>1531.6</td>\n",
       "      <td>12364.1</td>\n",
       "    </tr>\n",
       "    <tr>\n",
       "      <th>9</th>\n",
       "      <td>2019-08-05</td>\n",
       "      <td>B</td>\n",
       "      <td>21</td>\n",
       "      <td>21</td>\n",
       "      <td>1449.3</td>\n",
       "      <td>15211.4</td>\n",
       "    </tr>\n",
       "  </tbody>\n",
       "</table>\n",
       "</div>"
      ],
      "text/plain": [
       "        date group  purchases  buyers  revenue  cumul_rev\n",
       "1 2019-08-01     B         17      17    967.2     3233.8\n",
       "3 2019-08-02     B         23      22   2568.1     7270.2\n",
       "5 2019-08-03     B         14      14   1071.6    10157.0\n",
       "7 2019-08-04     B         14      13   1531.6    12364.1\n",
       "9 2019-08-05     B         21      21   1449.3    15211.4"
      ]
     },
     "execution_count": 32,
     "metadata": {},
     "output_type": "execute_result"
    }
   ],
   "source": [
    "orders_cumulB = orders_cumul[orders_cumul.group==\"B\"]\n",
    "orders_cumulB.head()"
   ]
  },
  {
   "cell_type": "markdown",
   "metadata": {},
   "source": [
    "Let's now plot the graph:"
   ]
  },
  {
   "cell_type": "code",
   "execution_count": 33,
   "metadata": {},
   "outputs": [
    {
     "data": {
      "image/png": "[encoded data removed]",
      "text/plain": [
       "<Figure size 1080x432 with 1 Axes>"
      ]
     },
     "metadata": {
      "needs_background": "light"
     },
     "output_type": "display_data"
    }
   ],
   "source": [
    "plt.rcParams[\"figure.figsize\"] = (15,6)\n",
    "plt.plot(orders_cumulA['date'], orders_cumulA['cumul_rev'], label='Group A')\n",
    "plt.plot(orders_cumulB['date'], orders_cumulB['cumul_rev'], label='Group B')\n",
    "plt.title('Cumulative revenue for group A and group B')\n",
    "plt.ylabel('Revenue')\n",
    "plt.xlabel('Date')\n",
    "plt.legend();"
   ]
  },
  {
   "cell_type": "markdown",
   "metadata": {},
   "source": [
    "The cumulative metrics of group A are consistently slightly lower than those of the group B. Around the last third of the test there's a sharp increase in cumulative revenue for both groups. Maybe the average order sizes became larger or the number of orders has increased."
   ]
  },
  {
   "cell_type": "markdown",
   "metadata": {},
   "source": [
    "### Cumulative average order size by group"
   ]
  },
  {
   "cell_type": "markdown",
   "metadata": {},
   "source": [
    "Let's graph cumulative average order size by group, which is revenue divided by purchases. For that we will apply cumsum() on the number of total daily purchases. And then we will divide the cumulative revenue by cumulative purchases. We will do that for groups A and B separately."
   ]
  },
  {
   "cell_type": "code",
   "execution_count": 34,
   "metadata": {},
   "outputs": [
    {
     "data": {
      "text/html": [
       "<div>\n",
       "<style scoped>\n",
       "    .dataframe tbody tr th:only-of-type {\n",
       "        vertical-align: middle;\n",
       "    }\n",
       "\n",
       "    .dataframe tbody tr th {\n",
       "        vertical-align: top;\n",
       "    }\n",
       "\n",
       "    .dataframe thead th {\n",
       "        text-align: right;\n",
       "    }\n",
       "</style>\n",
       "<table border=\"1\" class=\"dataframe\">\n",
       "  <thead>\n",
       "    <tr style=\"text-align: right;\">\n",
       "      <th></th>\n",
       "      <th>date</th>\n",
       "      <th>group</th>\n",
       "      <th>purchases</th>\n",
       "      <th>buyers</th>\n",
       "      <th>revenue</th>\n",
       "      <th>cumul_rev</th>\n",
       "      <th>cumul_orders</th>\n",
       "      <th>cumul_avg_order</th>\n",
       "    </tr>\n",
       "  </thead>\n",
       "  <tbody>\n",
       "    <tr>\n",
       "      <th>0</th>\n",
       "      <td>2019-08-01</td>\n",
       "      <td>A</td>\n",
       "      <td>23</td>\n",
       "      <td>19</td>\n",
       "      <td>2266.6</td>\n",
       "      <td>2266.6</td>\n",
       "      <td>23</td>\n",
       "      <td>98.547826</td>\n",
       "    </tr>\n",
       "    <tr>\n",
       "      <th>2</th>\n",
       "      <td>2019-08-02</td>\n",
       "      <td>A</td>\n",
       "      <td>19</td>\n",
       "      <td>18</td>\n",
       "      <td>1468.3</td>\n",
       "      <td>4702.1</td>\n",
       "      <td>42</td>\n",
       "      <td>111.954762</td>\n",
       "    </tr>\n",
       "    <tr>\n",
       "      <th>4</th>\n",
       "      <td>2019-08-03</td>\n",
       "      <td>A</td>\n",
       "      <td>24</td>\n",
       "      <td>24</td>\n",
       "      <td>1815.2</td>\n",
       "      <td>9085.4</td>\n",
       "      <td>66</td>\n",
       "      <td>137.657576</td>\n",
       "    </tr>\n",
       "    <tr>\n",
       "      <th>6</th>\n",
       "      <td>2019-08-04</td>\n",
       "      <td>A</td>\n",
       "      <td>11</td>\n",
       "      <td>11</td>\n",
       "      <td>675.5</td>\n",
       "      <td>10832.5</td>\n",
       "      <td>77</td>\n",
       "      <td>140.681818</td>\n",
       "    </tr>\n",
       "    <tr>\n",
       "      <th>8</th>\n",
       "      <td>2019-08-05</td>\n",
       "      <td>A</td>\n",
       "      <td>22</td>\n",
       "      <td>22</td>\n",
       "      <td>1398.0</td>\n",
       "      <td>13762.1</td>\n",
       "      <td>99</td>\n",
       "      <td>139.011111</td>\n",
       "    </tr>\n",
       "  </tbody>\n",
       "</table>\n",
       "</div>"
      ],
      "text/plain": [
       "        date group  purchases  buyers  revenue  cumul_rev  cumul_orders  \\\n",
       "0 2019-08-01     A         23      19   2266.6     2266.6            23   \n",
       "2 2019-08-02     A         19      18   1468.3     4702.1            42   \n",
       "4 2019-08-03     A         24      24   1815.2     9085.4            66   \n",
       "6 2019-08-04     A         11      11    675.5    10832.5            77   \n",
       "8 2019-08-05     A         22      22   1398.0    13762.1            99   \n",
       "\n",
       "   cumul_avg_order  \n",
       "0        98.547826  \n",
       "2       111.954762  \n",
       "4       137.657576  \n",
       "6       140.681818  \n",
       "8       139.011111  "
      ]
     },
     "execution_count": 34,
     "metadata": {},
     "output_type": "execute_result"
    }
   ],
   "source": [
    "#Group A:\n",
    "orders_cumulA['cumul_orders']=orders_cumulA['purchases'].cumsum()\n",
    "orders_cumulA['cumul_avg_order']=orders_cumulA['cumul_rev']/orders_cumulA['cumul_orders']\n",
    "orders_cumulA.head()"
   ]
  },
  {
   "cell_type": "code",
   "execution_count": 35,
   "metadata": {},
   "outputs": [
    {
     "data": {
      "text/html": [
       "<div>\n",
       "<style scoped>\n",
       "    .dataframe tbody tr th:only-of-type {\n",
       "        vertical-align: middle;\n",
       "    }\n",
       "\n",
       "    .dataframe tbody tr th {\n",
       "        vertical-align: top;\n",
       "    }\n",
       "\n",
       "    .dataframe thead th {\n",
       "        text-align: right;\n",
       "    }\n",
       "</style>\n",
       "<table border=\"1\" class=\"dataframe\">\n",
       "  <thead>\n",
       "    <tr style=\"text-align: right;\">\n",
       "      <th></th>\n",
       "      <th>date</th>\n",
       "      <th>group</th>\n",
       "      <th>purchases</th>\n",
       "      <th>buyers</th>\n",
       "      <th>revenue</th>\n",
       "      <th>cumul_rev</th>\n",
       "      <th>cumul_orders</th>\n",
       "      <th>cumul_avg_order</th>\n",
       "    </tr>\n",
       "  </thead>\n",
       "  <tbody>\n",
       "    <tr>\n",
       "      <th>1</th>\n",
       "      <td>2019-08-01</td>\n",
       "      <td>B</td>\n",
       "      <td>17</td>\n",
       "      <td>17</td>\n",
       "      <td>967.2</td>\n",
       "      <td>3233.8</td>\n",
       "      <td>17</td>\n",
       "      <td>190.223529</td>\n",
       "    </tr>\n",
       "    <tr>\n",
       "      <th>3</th>\n",
       "      <td>2019-08-02</td>\n",
       "      <td>B</td>\n",
       "      <td>23</td>\n",
       "      <td>22</td>\n",
       "      <td>2568.1</td>\n",
       "      <td>7270.2</td>\n",
       "      <td>40</td>\n",
       "      <td>181.755000</td>\n",
       "    </tr>\n",
       "    <tr>\n",
       "      <th>5</th>\n",
       "      <td>2019-08-03</td>\n",
       "      <td>B</td>\n",
       "      <td>14</td>\n",
       "      <td>14</td>\n",
       "      <td>1071.6</td>\n",
       "      <td>10157.0</td>\n",
       "      <td>54</td>\n",
       "      <td>188.092593</td>\n",
       "    </tr>\n",
       "    <tr>\n",
       "      <th>7</th>\n",
       "      <td>2019-08-04</td>\n",
       "      <td>B</td>\n",
       "      <td>14</td>\n",
       "      <td>13</td>\n",
       "      <td>1531.6</td>\n",
       "      <td>12364.1</td>\n",
       "      <td>68</td>\n",
       "      <td>181.825000</td>\n",
       "    </tr>\n",
       "    <tr>\n",
       "      <th>9</th>\n",
       "      <td>2019-08-05</td>\n",
       "      <td>B</td>\n",
       "      <td>21</td>\n",
       "      <td>21</td>\n",
       "      <td>1449.3</td>\n",
       "      <td>15211.4</td>\n",
       "      <td>89</td>\n",
       "      <td>170.914607</td>\n",
       "    </tr>\n",
       "  </tbody>\n",
       "</table>\n",
       "</div>"
      ],
      "text/plain": [
       "        date group  purchases  buyers  revenue  cumul_rev  cumul_orders  \\\n",
       "1 2019-08-01     B         17      17    967.2     3233.8            17   \n",
       "3 2019-08-02     B         23      22   2568.1     7270.2            40   \n",
       "5 2019-08-03     B         14      14   1071.6    10157.0            54   \n",
       "7 2019-08-04     B         14      13   1531.6    12364.1            68   \n",
       "9 2019-08-05     B         21      21   1449.3    15211.4            89   \n",
       "\n",
       "   cumul_avg_order  \n",
       "1       190.223529  \n",
       "3       181.755000  \n",
       "5       188.092593  \n",
       "7       181.825000  \n",
       "9       170.914607  "
      ]
     },
     "execution_count": 35,
     "metadata": {},
     "output_type": "execute_result"
    }
   ],
   "source": [
    "#Group B:\n",
    "orders_cumulB['cumul_orders']=orders_cumulB['purchases'].cumsum()\n",
    "orders_cumulB['cumul_avg_order']=orders_cumulB['cumul_rev']/orders_cumulB['cumul_orders']\n",
    "orders_cumulB.head()"
   ]
  },
  {
   "cell_type": "markdown",
   "metadata": {},
   "source": [
    "Let's calculate average order size for each group by dividing revenue by purchases."
   ]
  },
  {
   "cell_type": "code",
   "execution_count": 36,
   "metadata": {},
   "outputs": [
    {
     "data": {
      "image/png": "[encoded data removed]",
      "text/plain": [
       "<Figure size 1080x432 with 1 Axes>"
      ]
     },
     "metadata": {
      "needs_background": "light"
     },
     "output_type": "display_data"
    }
   ],
   "source": [
    "orders_cumulA['avg_order']=orders_cumulA['revenue']/orders_cumulA['purchases']\n",
    "orders_cumulB['avg_order']=orders_cumulB['revenue']/orders_cumulB['purchases']\n",
    "plt.plot(orders_cumulA['date'], orders_cumulA['avg_order'], label='Group A')\n",
    "plt.plot(orders_cumulB['date'], orders_cumulB['avg_order'], label='Group B')\n",
    "plt.title('Average order size for group A and group B over time')\n",
    "plt.ylabel('Orders size')\n",
    "plt.xlabel('Date')\n",
    "plt.legend();"
   ]
  },
  {
   "cell_type": "markdown",
   "metadata": {},
   "source": [
    "The average order size fluctuates for both groups throughout the test, and then it spikes for group B around August 20th (the beginning of the last third of the test)."
   ]
  },
  {
   "cell_type": "markdown",
   "metadata": {},
   "source": [
    "Let's plot graph for cumulative average order size which will show the tendencies for both groups."
   ]
  },
  {
   "cell_type": "code",
   "execution_count": 37,
   "metadata": {},
   "outputs": [
    {
     "data": {
      "image/png": "[encoded data removed]",
      "text/plain": [
       "<Figure size 1080x432 with 1 Axes>"
      ]
     },
     "metadata": {
      "needs_background": "light"
     },
     "output_type": "display_data"
    }
   ],
   "source": [
    "plt.plot(orders_cumulA['date'], orders_cumulA['cumul_avg_order'], label='Group A')\n",
    "plt.plot(orders_cumulB['date'], orders_cumulB['cumul_avg_order'], label='Group B')\n",
    "plt.title('Cumulative average order size for group A and group B')\n",
    "plt.ylabel('Cumulative average order size')\n",
    "plt.xlabel('Date')\n",
    "plt.legend();"
   ]
  },
  {
   "cell_type": "markdown",
   "metadata": {},
   "source": [
    "The cumulative average order size isn't increasing for group B until around August 20th, at which point there's a sharp increase, after which comes stability.   \n",
    "For group A ther's a stable increase until August 20, and then there's a sharp increase, after which it straightens out. \n",
    "Until August 20 the tendencies are almost opposite, with group A cumulative average order size starting low, gradually increasing, and eventually surpassing group B."
   ]
  },
  {
   "cell_type": "markdown",
   "metadata": {},
   "source": [
    "### Relative difference in cumulative average order size"
   ]
  },
  {
   "cell_type": "markdown",
   "metadata": {},
   "source": [
    "Let's graph the relative difference in cumulative average order size for group B compared with group A."
   ]
  },
  {
   "cell_type": "code",
   "execution_count": 38,
   "metadata": {},
   "outputs": [
    {
     "data": {
      "image/png": "[encoded data removed]",
      "text/plain": [
       "<Figure size 1080x432 with 1 Axes>"
      ]
     },
     "metadata": {
      "needs_background": "light"
     },
     "output_type": "display_data"
    }
   ],
   "source": [
    "### gathering the data into one DataFrame\n",
    "merged_cumul_orders = orders_cumulA.merge(orders_cumulB, left_on='date', right_on='date', how='left', suffixes=['A', 'B'])\n",
    "\n",
    "# plotting a relative difference graph for the average purchase sizes\n",
    "plt.plot(merged_cumul_orders['date'], (merged_cumul_orders['revenueB']/merged_cumul_orders['purchasesB'])/(merged_cumul_orders['revenueA']/merged_cumul_orders['purchasesA'])-1)\n",
    "\n",
    "# adding the X axis\n",
    "plt.axhline(y=0, color='black', linestyle='--')\n",
    "plt.title('Relative difference in cumulative average order size for group B compared with group A')\n",
    "plt.ylabel('Relative difference in cumulative average order size')\n",
    "plt.xlabel('Date'); "
   ]
  },
  {
   "cell_type": "markdown",
   "metadata": {},
   "source": [
    "The relative difference in cumulative average order size for group B compared with group A fluctuates around 0, with accasional spikes around August 6th and 14th, with a sharp spike around August 20th. Indeed, we see above that average order size for group B spikes around that date."
   ]
  },
  {
   "cell_type": "markdown",
   "metadata": {},
   "source": [
    "### Conversion rate by group"
   ]
  },
  {
   "cell_type": "markdown",
   "metadata": {},
   "source": [
    "Let's calculate each group's conversion rate as the ratio of orders to the number of visits for each day, and plot the daily conversion rates of the two groups."
   ]
  },
  {
   "cell_type": "code",
   "execution_count": 39,
   "metadata": {},
   "outputs": [
    {
     "data": {
      "text/html": [
       "<div>\n",
       "<style scoped>\n",
       "    .dataframe tbody tr th:only-of-type {\n",
       "        vertical-align: middle;\n",
       "    }\n",
       "\n",
       "    .dataframe tbody tr th {\n",
       "        vertical-align: top;\n",
       "    }\n",
       "\n",
       "    .dataframe thead th {\n",
       "        text-align: right;\n",
       "    }\n",
       "</style>\n",
       "<table border=\"1\" class=\"dataframe\">\n",
       "  <thead>\n",
       "    <tr style=\"text-align: right;\">\n",
       "      <th></th>\n",
       "      <th>date</th>\n",
       "      <th>visits</th>\n",
       "    </tr>\n",
       "  </thead>\n",
       "  <tbody>\n",
       "    <tr>\n",
       "      <th>0</th>\n",
       "      <td>2019-08-01</td>\n",
       "      <td>719</td>\n",
       "    </tr>\n",
       "    <tr>\n",
       "      <th>1</th>\n",
       "      <td>2019-08-02</td>\n",
       "      <td>619</td>\n",
       "    </tr>\n",
       "    <tr>\n",
       "      <th>2</th>\n",
       "      <td>2019-08-03</td>\n",
       "      <td>507</td>\n",
       "    </tr>\n",
       "    <tr>\n",
       "      <th>3</th>\n",
       "      <td>2019-08-04</td>\n",
       "      <td>717</td>\n",
       "    </tr>\n",
       "    <tr>\n",
       "      <th>4</th>\n",
       "      <td>2019-08-05</td>\n",
       "      <td>756</td>\n",
       "    </tr>\n",
       "  </tbody>\n",
       "</table>\n",
       "</div>"
      ],
      "text/plain": [
       "        date  visits\n",
       "0 2019-08-01     719\n",
       "1 2019-08-02     619\n",
       "2 2019-08-03     507\n",
       "3 2019-08-04     717\n",
       "4 2019-08-05     756"
      ]
     },
     "execution_count": 39,
     "metadata": {},
     "output_type": "execute_result"
    }
   ],
   "source": [
    "#Group A - dates and number of visits per day\n",
    "visitsA = visits[visits.group==\"A\"]\n",
    "visitsA = visitsA.drop(['group'], axis=1)\n",
    "visitsA.head()"
   ]
  },
  {
   "cell_type": "code",
   "execution_count": 40,
   "metadata": {},
   "outputs": [
    {
     "data": {
      "text/html": [
       "<div>\n",
       "<style scoped>\n",
       "    .dataframe tbody tr th:only-of-type {\n",
       "        vertical-align: middle;\n",
       "    }\n",
       "\n",
       "    .dataframe tbody tr th {\n",
       "        vertical-align: top;\n",
       "    }\n",
       "\n",
       "    .dataframe thead th {\n",
       "        text-align: right;\n",
       "    }\n",
       "</style>\n",
       "<table border=\"1\" class=\"dataframe\">\n",
       "  <thead>\n",
       "    <tr style=\"text-align: right;\">\n",
       "      <th></th>\n",
       "      <th>date</th>\n",
       "      <th>visits</th>\n",
       "    </tr>\n",
       "  </thead>\n",
       "  <tbody>\n",
       "    <tr>\n",
       "      <th>31</th>\n",
       "      <td>2019-08-01</td>\n",
       "      <td>713</td>\n",
       "    </tr>\n",
       "    <tr>\n",
       "      <th>32</th>\n",
       "      <td>2019-08-02</td>\n",
       "      <td>581</td>\n",
       "    </tr>\n",
       "    <tr>\n",
       "      <th>33</th>\n",
       "      <td>2019-08-03</td>\n",
       "      <td>509</td>\n",
       "    </tr>\n",
       "    <tr>\n",
       "      <th>34</th>\n",
       "      <td>2019-08-04</td>\n",
       "      <td>770</td>\n",
       "    </tr>\n",
       "    <tr>\n",
       "      <th>35</th>\n",
       "      <td>2019-08-05</td>\n",
       "      <td>707</td>\n",
       "    </tr>\n",
       "  </tbody>\n",
       "</table>\n",
       "</div>"
      ],
      "text/plain": [
       "         date  visits\n",
       "31 2019-08-01     713\n",
       "32 2019-08-02     581\n",
       "33 2019-08-03     509\n",
       "34 2019-08-04     770\n",
       "35 2019-08-05     707"
      ]
     },
     "execution_count": 40,
     "metadata": {},
     "output_type": "execute_result"
    }
   ],
   "source": [
    "#Group B - dates and number of visits per day\n",
    "visitsB = visits[visits.group==\"B\"]\n",
    "visitsB = visitsB.drop(['group'], axis=1)\n",
    "visitsB.head()"
   ]
  },
  {
   "cell_type": "code",
   "execution_count": 41,
   "metadata": {},
   "outputs": [
    {
     "data": {
      "text/html": [
       "<div>\n",
       "<style scoped>\n",
       "    .dataframe tbody tr th:only-of-type {\n",
       "        vertical-align: middle;\n",
       "    }\n",
       "\n",
       "    .dataframe tbody tr th {\n",
       "        vertical-align: top;\n",
       "    }\n",
       "\n",
       "    .dataframe thead th {\n",
       "        text-align: right;\n",
       "    }\n",
       "</style>\n",
       "<table border=\"1\" class=\"dataframe\">\n",
       "  <thead>\n",
       "    <tr style=\"text-align: right;\">\n",
       "      <th></th>\n",
       "      <th>date</th>\n",
       "      <th>group</th>\n",
       "      <th>purchases</th>\n",
       "      <th>buyers</th>\n",
       "      <th>revenue</th>\n",
       "      <th>cumul_rev</th>\n",
       "      <th>cumul_orders</th>\n",
       "      <th>cumul_avg_order</th>\n",
       "      <th>avg_order</th>\n",
       "      <th>visits</th>\n",
       "      <th>cumul_visits</th>\n",
       "    </tr>\n",
       "  </thead>\n",
       "  <tbody>\n",
       "    <tr>\n",
       "      <th>0</th>\n",
       "      <td>2019-08-01</td>\n",
       "      <td>A</td>\n",
       "      <td>23</td>\n",
       "      <td>19</td>\n",
       "      <td>2266.6</td>\n",
       "      <td>2266.6</td>\n",
       "      <td>23</td>\n",
       "      <td>98.547826</td>\n",
       "      <td>98.547826</td>\n",
       "      <td>719</td>\n",
       "      <td>719</td>\n",
       "    </tr>\n",
       "    <tr>\n",
       "      <th>1</th>\n",
       "      <td>2019-08-02</td>\n",
       "      <td>A</td>\n",
       "      <td>19</td>\n",
       "      <td>18</td>\n",
       "      <td>1468.3</td>\n",
       "      <td>4702.1</td>\n",
       "      <td>42</td>\n",
       "      <td>111.954762</td>\n",
       "      <td>77.278947</td>\n",
       "      <td>619</td>\n",
       "      <td>1338</td>\n",
       "    </tr>\n",
       "    <tr>\n",
       "      <th>2</th>\n",
       "      <td>2019-08-03</td>\n",
       "      <td>A</td>\n",
       "      <td>24</td>\n",
       "      <td>24</td>\n",
       "      <td>1815.2</td>\n",
       "      <td>9085.4</td>\n",
       "      <td>66</td>\n",
       "      <td>137.657576</td>\n",
       "      <td>75.633333</td>\n",
       "      <td>507</td>\n",
       "      <td>1845</td>\n",
       "    </tr>\n",
       "    <tr>\n",
       "      <th>3</th>\n",
       "      <td>2019-08-04</td>\n",
       "      <td>A</td>\n",
       "      <td>11</td>\n",
       "      <td>11</td>\n",
       "      <td>675.5</td>\n",
       "      <td>10832.5</td>\n",
       "      <td>77</td>\n",
       "      <td>140.681818</td>\n",
       "      <td>61.409091</td>\n",
       "      <td>717</td>\n",
       "      <td>2562</td>\n",
       "    </tr>\n",
       "    <tr>\n",
       "      <th>4</th>\n",
       "      <td>2019-08-05</td>\n",
       "      <td>A</td>\n",
       "      <td>22</td>\n",
       "      <td>22</td>\n",
       "      <td>1398.0</td>\n",
       "      <td>13762.1</td>\n",
       "      <td>99</td>\n",
       "      <td>139.011111</td>\n",
       "      <td>63.545455</td>\n",
       "      <td>756</td>\n",
       "      <td>3318</td>\n",
       "    </tr>\n",
       "  </tbody>\n",
       "</table>\n",
       "</div>"
      ],
      "text/plain": [
       "        date group  purchases  buyers  revenue  cumul_rev  cumul_orders  \\\n",
       "0 2019-08-01     A         23      19   2266.6     2266.6            23   \n",
       "1 2019-08-02     A         19      18   1468.3     4702.1            42   \n",
       "2 2019-08-03     A         24      24   1815.2     9085.4            66   \n",
       "3 2019-08-04     A         11      11    675.5    10832.5            77   \n",
       "4 2019-08-05     A         22      22   1398.0    13762.1            99   \n",
       "\n",
       "   cumul_avg_order  avg_order  visits  cumul_visits  \n",
       "0        98.547826  98.547826     719           719  \n",
       "1       111.954762  77.278947     619          1338  \n",
       "2       137.657576  75.633333     507          1845  \n",
       "3       140.681818  61.409091     717          2562  \n",
       "4       139.011111  63.545455     756          3318  "
      ]
     },
     "execution_count": 41,
     "metadata": {},
     "output_type": "execute_result"
    }
   ],
   "source": [
    "#Let's merge the data on orders with data on visits per day for group A and calculate cumulative visits:\n",
    "orders_visitsA = orders_cumulA.merge(visitsA, how='left', on='date')\n",
    "orders_visitsA['cumul_visits']=orders_visitsA['visits'].cumsum()\n",
    "orders_visitsA.head()"
   ]
  },
  {
   "cell_type": "code",
   "execution_count": 42,
   "metadata": {},
   "outputs": [
    {
     "data": {
      "text/html": [
       "<div>\n",
       "<style scoped>\n",
       "    .dataframe tbody tr th:only-of-type {\n",
       "        vertical-align: middle;\n",
       "    }\n",
       "\n",
       "    .dataframe tbody tr th {\n",
       "        vertical-align: top;\n",
       "    }\n",
       "\n",
       "    .dataframe thead th {\n",
       "        text-align: right;\n",
       "    }\n",
       "</style>\n",
       "<table border=\"1\" class=\"dataframe\">\n",
       "  <thead>\n",
       "    <tr style=\"text-align: right;\">\n",
       "      <th></th>\n",
       "      <th>date</th>\n",
       "      <th>group</th>\n",
       "      <th>purchases</th>\n",
       "      <th>buyers</th>\n",
       "      <th>revenue</th>\n",
       "      <th>cumul_rev</th>\n",
       "      <th>cumul_orders</th>\n",
       "      <th>cumul_avg_order</th>\n",
       "      <th>avg_order</th>\n",
       "      <th>visits</th>\n",
       "      <th>cumul_visits</th>\n",
       "    </tr>\n",
       "  </thead>\n",
       "  <tbody>\n",
       "    <tr>\n",
       "      <th>0</th>\n",
       "      <td>2019-08-01</td>\n",
       "      <td>B</td>\n",
       "      <td>17</td>\n",
       "      <td>17</td>\n",
       "      <td>967.2</td>\n",
       "      <td>3233.8</td>\n",
       "      <td>17</td>\n",
       "      <td>190.223529</td>\n",
       "      <td>56.894118</td>\n",
       "      <td>713</td>\n",
       "      <td>713</td>\n",
       "    </tr>\n",
       "    <tr>\n",
       "      <th>1</th>\n",
       "      <td>2019-08-02</td>\n",
       "      <td>B</td>\n",
       "      <td>23</td>\n",
       "      <td>22</td>\n",
       "      <td>2568.1</td>\n",
       "      <td>7270.2</td>\n",
       "      <td>40</td>\n",
       "      <td>181.755000</td>\n",
       "      <td>111.656522</td>\n",
       "      <td>581</td>\n",
       "      <td>1294</td>\n",
       "    </tr>\n",
       "    <tr>\n",
       "      <th>2</th>\n",
       "      <td>2019-08-03</td>\n",
       "      <td>B</td>\n",
       "      <td>14</td>\n",
       "      <td>14</td>\n",
       "      <td>1071.6</td>\n",
       "      <td>10157.0</td>\n",
       "      <td>54</td>\n",
       "      <td>188.092593</td>\n",
       "      <td>76.542857</td>\n",
       "      <td>509</td>\n",
       "      <td>1803</td>\n",
       "    </tr>\n",
       "    <tr>\n",
       "      <th>3</th>\n",
       "      <td>2019-08-04</td>\n",
       "      <td>B</td>\n",
       "      <td>14</td>\n",
       "      <td>13</td>\n",
       "      <td>1531.6</td>\n",
       "      <td>12364.1</td>\n",
       "      <td>68</td>\n",
       "      <td>181.825000</td>\n",
       "      <td>109.400000</td>\n",
       "      <td>770</td>\n",
       "      <td>2573</td>\n",
       "    </tr>\n",
       "    <tr>\n",
       "      <th>4</th>\n",
       "      <td>2019-08-05</td>\n",
       "      <td>B</td>\n",
       "      <td>21</td>\n",
       "      <td>21</td>\n",
       "      <td>1449.3</td>\n",
       "      <td>15211.4</td>\n",
       "      <td>89</td>\n",
       "      <td>170.914607</td>\n",
       "      <td>69.014286</td>\n",
       "      <td>707</td>\n",
       "      <td>3280</td>\n",
       "    </tr>\n",
       "  </tbody>\n",
       "</table>\n",
       "</div>"
      ],
      "text/plain": [
       "        date group  purchases  buyers  revenue  cumul_rev  cumul_orders  \\\n",
       "0 2019-08-01     B         17      17    967.2     3233.8            17   \n",
       "1 2019-08-02     B         23      22   2568.1     7270.2            40   \n",
       "2 2019-08-03     B         14      14   1071.6    10157.0            54   \n",
       "3 2019-08-04     B         14      13   1531.6    12364.1            68   \n",
       "4 2019-08-05     B         21      21   1449.3    15211.4            89   \n",
       "\n",
       "   cumul_avg_order   avg_order  visits  cumul_visits  \n",
       "0       190.223529   56.894118     713           713  \n",
       "1       181.755000  111.656522     581          1294  \n",
       "2       188.092593   76.542857     509          1803  \n",
       "3       181.825000  109.400000     770          2573  \n",
       "4       170.914607   69.014286     707          3280  "
      ]
     },
     "execution_count": 42,
     "metadata": {},
     "output_type": "execute_result"
    }
   ],
   "source": [
    "#Let's merge the data on orders with data on visits per day for group B and calculate cumulative visits:\n",
    "orders_visitsB = orders_cumulB.merge(visitsB, how='left', on='date')\n",
    "orders_visitsB['cumul_visits']=orders_visitsB['visits'].cumsum()\n",
    "orders_visitsB.head()"
   ]
  },
  {
   "cell_type": "code",
   "execution_count": 43,
   "metadata": {},
   "outputs": [],
   "source": [
    "#Let's calculate the conversion for groups A and B:\n",
    "orders_visitsA['conversion']=orders_visitsA['purchases']/orders_visitsA['visits']\n",
    "orders_visitsB['conversion']=orders_visitsB['purchases']/orders_visitsB['visits']"
   ]
  },
  {
   "cell_type": "code",
   "execution_count": 44,
   "metadata": {},
   "outputs": [
    {
     "data": {
      "image/png": "[encoded data removed]",
      "text/plain": [
       "<Figure size 1080x432 with 1 Axes>"
      ]
     },
     "metadata": {
      "needs_background": "light"
     },
     "output_type": "display_data"
    }
   ],
   "source": [
    "#Plotting the graph:\n",
    "plt.plot(orders_visitsA['date'], orders_visitsA['conversion'], label='Group A')\n",
    "plt.plot(orders_visitsB['date'], orders_visitsB['conversion'], label='Group B')\n",
    "plt.title('Convertion rate over time for group A and group B')\n",
    "plt.ylabel('Convertion rate')\n",
    "plt.xlabel('Date')\n",
    "plt.legend();"
   ]
  },
  {
   "cell_type": "code",
   "execution_count": 45,
   "metadata": {},
   "outputs": [
    {
     "data": {
      "image/png": "[encoded data removed]",
      "text/plain": [
       "<Figure size 1080x432 with 1 Axes>"
      ]
     },
     "metadata": {
      "needs_background": "light"
     },
     "output_type": "display_data"
    }
   ],
   "source": [
    "# calculating cumulative conversion for group A and group B:\n",
    "orders_visitsA['cumul_conversion'] = orders_visitsA['cumul_orders']/orders_visitsA['cumul_visits']\n",
    "orders_visitsB['cumul_conversion'] = orders_visitsB['cumul_orders']/orders_visitsB['cumul_visits']\n",
    "\n",
    "# plotting the graphs\n",
    "plt.plot(orders_visitsA['date'], orders_visitsA['cumul_conversion'], label='A')\n",
    "plt.plot(orders_visitsB['date'], orders_visitsB['cumul_conversion'], label='B')\n",
    "plt.title('Cumulative convertion over time for group A and group B')\n",
    "plt.ylabel('Cumulative convertion')\n",
    "plt.xlabel('Date')\n",
    "plt.legend();"
   ]
  },
  {
   "cell_type": "code",
   "execution_count": 46,
   "metadata": {},
   "outputs": [
    {
     "data": {
      "text/plain": [
       "0.025"
      ]
     },
     "execution_count": 46,
     "metadata": {},
     "output_type": "execute_result"
    }
   ],
   "source": [
    "#overall conversion Group A:\n",
    "(orders_visitsA['purchases'].sum()/orders_visitsA['visits'].sum()).round(3)"
   ]
  },
  {
   "cell_type": "code",
   "execution_count": 47,
   "metadata": {},
   "outputs": [
    {
     "data": {
      "text/plain": [
       "0.029"
      ]
     },
     "execution_count": 47,
     "metadata": {},
     "output_type": "execute_result"
    }
   ],
   "source": [
    "#overall conversion Group B:\n",
    "(orders_visitsB['purchases'].sum()/orders_visitsB['visits'].sum()).round(3)"
   ]
  },
  {
   "cell_type": "markdown",
   "metadata": {},
   "source": [
    "The overall average conversion rate for group A is 0.025 and for group B - 0.029. From the regular conversion graph by groups it's hard to tell which segment is better, since the daily results fluctuate strongly. However, from the cumulative conversion over time we see that group A stars high and then decreases and stabilizes by the end of the period. Group B starts low, fluctuates, grows, and stabilizes by the end of the period. In general, it looks like the cumulative conversion rate for group B consistantly surpasses the one by group A."
   ]
  },
  {
   "cell_type": "markdown",
   "metadata": {},
   "source": [
    "### Number of orders per user"
   ]
  },
  {
   "cell_type": "markdown",
   "metadata": {},
   "source": [
    "Let's plot a scatter chart of the number of orders per user by dividing the number of total purchases by the number of buyers. But first, we will find out the overall number of orders per user."
   ]
  },
  {
   "cell_type": "code",
   "execution_count": 48,
   "metadata": {},
   "outputs": [
    {
     "data": {
      "text/plain": [
       "1.024"
      ]
     },
     "execution_count": 48,
     "metadata": {},
     "output_type": "execute_result"
    }
   ],
   "source": [
    "#Number of orders per user - group A:\n",
    "total_orders_per_userA = (orders_visitsA['purchases'].sum()/orders_visitsA['buyers'].sum()).round(3)\n",
    "total_orders_per_userA"
   ]
  },
  {
   "cell_type": "code",
   "execution_count": 49,
   "metadata": {},
   "outputs": [
    {
     "data": {
      "text/plain": [
       "1.007"
      ]
     },
     "execution_count": 49,
     "metadata": {},
     "output_type": "execute_result"
    }
   ],
   "source": [
    "#Number of orders per user - group B:\n",
    "total_orders_per_userB = (orders_visitsB['purchases'].sum()/orders_visitsB['buyers'].sum()).round(3)\n",
    "total_orders_per_userB"
   ]
  },
  {
   "cell_type": "markdown",
   "metadata": {},
   "source": [
    "Let's first plot a distribution histogram with the number of orders per user."
   ]
  },
  {
   "cell_type": "code",
   "execution_count": 50,
   "metadata": {},
   "outputs": [
    {
     "name": "stdout",
     "output_type": "stream",
     "text": [
      "         userId  orders\n",
      "908  3967698036       3\n",
      "55    249864742       3\n",
      "478  2108163459       3\n",
      "687  2988190573       3\n",
      "890  3908431265       3\n",
      "138   611059232       3\n",
      "632  2742574263       3\n",
      "157   678354126       2\n",
      "323  1404560065       2\n",
      "452  1985475298       2\n"
     ]
    }
   ],
   "source": [
    "ordersByUsers = (\n",
    "    orders_filt.drop(['group', 'revenue', 'date'], axis=1)\n",
    "    .groupby('visitorId', as_index=False)\n",
    "    .agg({'transactionId': pd.Series.nunique})\n",
    ")\n",
    "\n",
    "ordersByUsers.columns = ['userId', 'orders']\n",
    "\n",
    "print(ordersByUsers.sort_values(by='orders', ascending=False).head(10))"
   ]
  },
  {
   "cell_type": "code",
   "execution_count": 51,
   "metadata": {},
   "outputs": [
    {
     "data": {
      "image/png": "[encoded data removed]",
      "text/plain": [
       "<Figure size 1080x432 with 1 Axes>"
      ]
     },
     "metadata": {
      "needs_background": "light"
     },
     "output_type": "display_data"
    }
   ],
   "source": [
    "plt.hist(ordersByUsers['orders']);"
   ]
  },
  {
   "cell_type": "markdown",
   "metadata": {},
   "source": [
    "The majority of customers placed only one order. However, ther're some who placed two to three apiece.\n",
    "Let's plot a scatter chart with the number of orders per user:"
   ]
  },
  {
   "cell_type": "code",
   "execution_count": 52,
   "metadata": {},
   "outputs": [
    {
     "data": {
      "image/png": "[encoded data removed]",
      "text/plain": [
       "<Figure size 1080x432 with 1 Axes>"
      ]
     },
     "metadata": {
      "needs_background": "light"
     },
     "output_type": "display_data"
    }
   ],
   "source": [
    "x_values = pd.Series(range(0,len(ordersByUsers)))\n",
    "\n",
    "plt.scatter(x_values, ordersByUsers['orders']);"
   ]
  },
  {
   "cell_type": "markdown",
   "metadata": {},
   "source": [
    "We see that the majority of the users made 1 order only, with accasional outliers with 2 or 3 orders."
   ]
  },
  {
   "cell_type": "markdown",
   "metadata": {},
   "source": [
    "### 95th and 99th percentiles for the number of orders per user"
   ]
  },
  {
   "cell_type": "markdown",
   "metadata": {},
   "source": [
    "Let's calculate the 95th and 99th percentiles for the number of orders per user and define the point at which a data point becomes an anomaly."
   ]
  },
  {
   "cell_type": "code",
   "execution_count": 53,
   "metadata": {},
   "outputs": [
    {
     "name": "stdout",
     "output_type": "stream",
     "text": [
      "[1. 2.]\n"
     ]
    }
   ],
   "source": [
    "print(np.percentile(ordersByUsers['orders'], [95, 99]))"
   ]
  },
  {
   "cell_type": "markdown",
   "metadata": {},
   "source": [
    "No more than 5% of users placed more than 1 order, and 1% of users made more than 2 orders."
   ]
  },
  {
   "cell_type": "markdown",
   "metadata": {},
   "source": [
    "### Order prices"
   ]
  },
  {
   "cell_type": "markdown",
   "metadata": {},
   "source": [
    "Let's plot a scatter chart of order prices."
   ]
  },
  {
   "cell_type": "code",
   "execution_count": 54,
   "metadata": {},
   "outputs": [
    {
     "data": {
      "image/png": "[encoded data removed]",
      "text/plain": [
       "<Figure size 1080x432 with 1 Axes>"
      ]
     },
     "metadata": {
      "needs_background": "light"
     },
     "output_type": "display_data"
    }
   ],
   "source": [
    "x_values = pd.Series(range(0, len(orders_filt['revenue'])))\n",
    "plt.scatter(x_values, orders_filt['revenue']);"
   ]
  },
  {
   "cell_type": "code",
   "execution_count": 55,
   "metadata": {},
   "outputs": [
    {
     "data": {
      "image/png": "[encoded data removed]",
      "text/plain": [
       "<Figure size 1080x432 with 1 Axes>"
      ]
     },
     "metadata": {
      "needs_background": "light"
     },
     "output_type": "display_data"
    }
   ],
   "source": [
    "plt.hist(orders_filt['revenue']);"
   ]
  },
  {
   "cell_type": "code",
   "execution_count": 56,
   "metadata": {},
   "outputs": [
    {
     "data": {
      "text/plain": [
       "count     1016.000000\n",
       "mean       130.770866\n",
       "std        648.079810\n",
       "min          5.000000\n",
       "25%         20.775000\n",
       "50%         50.100000\n",
       "75%        126.950000\n",
       "max      19920.400000\n",
       "Name: revenue, dtype: float64"
      ]
     },
     "execution_count": 56,
     "metadata": {},
     "output_type": "execute_result"
    }
   ],
   "source": [
    "orders_filt['revenue'].describe()"
   ]
  },
  {
   "cell_type": "markdown",
   "metadata": {},
   "source": [
    "We see that the distribution of the order prices is not very wide - 75% of users made orders of 127 or less. There are occasional anomalies."
   ]
  },
  {
   "cell_type": "markdown",
   "metadata": {},
   "source": [
    "### 95th and 99th percentiles of order prices"
   ]
  },
  {
   "cell_type": "markdown",
   "metadata": {},
   "source": [
    "Let's calculate the 95th and 99th percentiles of order prices and define the point at which a data point becomes an anomaly."
   ]
  },
  {
   "cell_type": "code",
   "execution_count": 57,
   "metadata": {},
   "outputs": [
    {
     "name": "stdout",
     "output_type": "stream",
     "text": [
      "[414.275 830.3  ]\n"
     ]
    }
   ],
   "source": [
    "print(np.percentile(orders_filt['revenue'], [95, 99]))"
   ]
  },
  {
   "cell_type": "markdown",
   "metadata": {},
   "source": [
    "**Conclusion:**  \n",
    "\n",
    "No more than 5% of users placed an order of more than 414.275, and 1% of users placed an order of more than 830.3."
   ]
  },
  {
   "cell_type": "markdown",
   "metadata": {},
   "source": [
    "### Statistical significance of the difference in conversion between the groups - raw data."
   ]
  },
  {
   "cell_type": "markdown",
   "metadata": {},
   "source": [
    "Let's find the statistical significance of the difference in conversion between the groups using the raw data."
   ]
  },
  {
   "cell_type": "markdown",
   "metadata": {},
   "source": [
    "**We'll test the following hypotheses:**  \n",
    "\n",
    "Ho - null hypothesis: There's no difference in conversion rate between the groups. The conversion rates are the same.  \n",
    "\n",
    "H1 hypothesis: There's a difference in conversion rate between the groups. The conversion rates are NOT the same."
   ]
  },
  {
   "cell_type": "markdown",
   "metadata": {},
   "source": [
    "Let's calculate the statistical significance of the difference in conversion between the groups.\n",
    "We'll create the variables ordersByUsersA and ordersByUsersB to store the columns ['userId', 'orders']. For users with at least one order, we'll indicate the number of orders made."
   ]
  },
  {
   "cell_type": "markdown",
   "metadata": {},
   "source": [
    "Then, we'll declare the variables sampleA and sampleB, with users from different groups and corresponding numbers of orders. This is necessary to prepare the samples for the Mann-Whitney test."
   ]
  },
  {
   "cell_type": "markdown",
   "metadata": {},
   "source": [
    "We'll apply the criterion and format the p-value by rounding it to three decimal places.\n",
    "SampleA stores a sample where each element is the number of orders made by a certain user. So the number of sampleA elements is the number of users, and the sum of all the elements is the number of orders. To get the group's conversion rate, we'll need to divide the sum of the orders by the number of users. Using the mean() method, we'll find the mean for sampleA. We'll find the conversion rate for group B in a similar way: sampleB.mean().\n",
    "Let's print the relative conversion gain for group B: group B conversion / group A conversion - 1. We'll round the value to three decimal places."
   ]
  },
  {
   "cell_type": "code",
   "execution_count": 58,
   "metadata": {},
   "outputs": [
    {
     "data": {
      "text/html": [
       "<div>\n",
       "<style scoped>\n",
       "    .dataframe tbody tr th:only-of-type {\n",
       "        vertical-align: middle;\n",
       "    }\n",
       "\n",
       "    .dataframe tbody tr th {\n",
       "        vertical-align: top;\n",
       "    }\n",
       "\n",
       "    .dataframe thead th {\n",
       "        text-align: right;\n",
       "    }\n",
       "</style>\n",
       "<table border=\"1\" class=\"dataframe\">\n",
       "  <thead>\n",
       "    <tr style=\"text-align: right;\">\n",
       "      <th></th>\n",
       "      <th>date</th>\n",
       "      <th>group</th>\n",
       "      <th>visits</th>\n",
       "    </tr>\n",
       "  </thead>\n",
       "  <tbody>\n",
       "    <tr>\n",
       "      <th>0</th>\n",
       "      <td>2019-08-01</td>\n",
       "      <td>A</td>\n",
       "      <td>719</td>\n",
       "    </tr>\n",
       "    <tr>\n",
       "      <th>1</th>\n",
       "      <td>2019-08-02</td>\n",
       "      <td>A</td>\n",
       "      <td>619</td>\n",
       "    </tr>\n",
       "    <tr>\n",
       "      <th>2</th>\n",
       "      <td>2019-08-03</td>\n",
       "      <td>A</td>\n",
       "      <td>507</td>\n",
       "    </tr>\n",
       "    <tr>\n",
       "      <th>3</th>\n",
       "      <td>2019-08-04</td>\n",
       "      <td>A</td>\n",
       "      <td>717</td>\n",
       "    </tr>\n",
       "    <tr>\n",
       "      <th>4</th>\n",
       "      <td>2019-08-05</td>\n",
       "      <td>A</td>\n",
       "      <td>756</td>\n",
       "    </tr>\n",
       "  </tbody>\n",
       "</table>\n",
       "</div>"
      ],
      "text/plain": [
       "        date group  visits\n",
       "0 2019-08-01     A     719\n",
       "1 2019-08-02     A     619\n",
       "2 2019-08-03     A     507\n",
       "3 2019-08-04     A     717\n",
       "4 2019-08-05     A     756"
      ]
     },
     "execution_count": 58,
     "metadata": {},
     "output_type": "execute_result"
    }
   ],
   "source": [
    "visits.head()"
   ]
  },
  {
   "cell_type": "code",
   "execution_count": 59,
   "metadata": {},
   "outputs": [
    {
     "data": {
      "text/html": [
       "<div>\n",
       "<style scoped>\n",
       "    .dataframe tbody tr th:only-of-type {\n",
       "        vertical-align: middle;\n",
       "    }\n",
       "\n",
       "    .dataframe tbody tr th {\n",
       "        vertical-align: top;\n",
       "    }\n",
       "\n",
       "    .dataframe thead th {\n",
       "        text-align: right;\n",
       "    }\n",
       "</style>\n",
       "<table border=\"1\" class=\"dataframe\">\n",
       "  <thead>\n",
       "    <tr style=\"text-align: right;\">\n",
       "      <th></th>\n",
       "      <th>userId</th>\n",
       "      <th>orders</th>\n",
       "    </tr>\n",
       "  </thead>\n",
       "  <tbody>\n",
       "    <tr>\n",
       "      <th>0</th>\n",
       "      <td>11685486</td>\n",
       "      <td>1</td>\n",
       "    </tr>\n",
       "    <tr>\n",
       "      <th>1</th>\n",
       "      <td>54447517</td>\n",
       "      <td>1</td>\n",
       "    </tr>\n",
       "    <tr>\n",
       "      <th>2</th>\n",
       "      <td>66685450</td>\n",
       "      <td>1</td>\n",
       "    </tr>\n",
       "    <tr>\n",
       "      <th>3</th>\n",
       "      <td>78758296</td>\n",
       "      <td>1</td>\n",
       "    </tr>\n",
       "    <tr>\n",
       "      <th>4</th>\n",
       "      <td>85103373</td>\n",
       "      <td>1</td>\n",
       "    </tr>\n",
       "    <tr>\n",
       "      <th>...</th>\n",
       "      <td>...</td>\n",
       "      <td>...</td>\n",
       "    </tr>\n",
       "    <tr>\n",
       "      <th>440</th>\n",
       "      <td>4227830084</td>\n",
       "      <td>1</td>\n",
       "    </tr>\n",
       "    <tr>\n",
       "      <th>441</th>\n",
       "      <td>4237561104</td>\n",
       "      <td>1</td>\n",
       "    </tr>\n",
       "    <tr>\n",
       "      <th>442</th>\n",
       "      <td>4243832526</td>\n",
       "      <td>1</td>\n",
       "    </tr>\n",
       "    <tr>\n",
       "      <th>443</th>\n",
       "      <td>4259830713</td>\n",
       "      <td>1</td>\n",
       "    </tr>\n",
       "    <tr>\n",
       "      <th>444</th>\n",
       "      <td>4278982564</td>\n",
       "      <td>1</td>\n",
       "    </tr>\n",
       "  </tbody>\n",
       "</table>\n",
       "<p>445 rows × 2 columns</p>\n",
       "</div>"
      ],
      "text/plain": [
       "         userId  orders\n",
       "0      11685486       1\n",
       "1      54447517       1\n",
       "2      66685450       1\n",
       "3      78758296       1\n",
       "4      85103373       1\n",
       "..          ...     ...\n",
       "440  4227830084       1\n",
       "441  4237561104       1\n",
       "442  4243832526       1\n",
       "443  4259830713       1\n",
       "444  4278982564       1\n",
       "\n",
       "[445 rows x 2 columns]"
      ]
     },
     "execution_count": 59,
     "metadata": {},
     "output_type": "execute_result"
    }
   ],
   "source": [
    "ordersByUsersA = orders_filt[orders_filt['group']=='A'].groupby('visitorId', as_index=False).agg({'transactionId' : pd.Series.nunique})\n",
    "ordersByUsersA.columns = ['userId', 'orders']\n",
    "ordersByUsersA"
   ]
  },
  {
   "cell_type": "code",
   "execution_count": 60,
   "metadata": {},
   "outputs": [
    {
     "data": {
      "text/html": [
       "<div>\n",
       "<style scoped>\n",
       "    .dataframe tbody tr th:only-of-type {\n",
       "        vertical-align: middle;\n",
       "    }\n",
       "\n",
       "    .dataframe tbody tr th {\n",
       "        vertical-align: top;\n",
       "    }\n",
       "\n",
       "    .dataframe thead th {\n",
       "        text-align: right;\n",
       "    }\n",
       "</style>\n",
       "<table border=\"1\" class=\"dataframe\">\n",
       "  <thead>\n",
       "    <tr style=\"text-align: right;\">\n",
       "      <th></th>\n",
       "      <th>userId</th>\n",
       "      <th>orders</th>\n",
       "    </tr>\n",
       "  </thead>\n",
       "  <tbody>\n",
       "    <tr>\n",
       "      <th>0</th>\n",
       "      <td>5114589</td>\n",
       "      <td>1</td>\n",
       "    </tr>\n",
       "    <tr>\n",
       "      <th>1</th>\n",
       "      <td>6958315</td>\n",
       "      <td>1</td>\n",
       "    </tr>\n",
       "    <tr>\n",
       "      <th>2</th>\n",
       "      <td>39475350</td>\n",
       "      <td>1</td>\n",
       "    </tr>\n",
       "    <tr>\n",
       "      <th>3</th>\n",
       "      <td>47206413</td>\n",
       "      <td>1</td>\n",
       "    </tr>\n",
       "    <tr>\n",
       "      <th>4</th>\n",
       "      <td>48147722</td>\n",
       "      <td>1</td>\n",
       "    </tr>\n",
       "    <tr>\n",
       "      <th>...</th>\n",
       "      <td>...</td>\n",
       "      <td>...</td>\n",
       "    </tr>\n",
       "    <tr>\n",
       "      <th>523</th>\n",
       "      <td>4251115836</td>\n",
       "      <td>1</td>\n",
       "    </tr>\n",
       "    <tr>\n",
       "      <th>524</th>\n",
       "      <td>4258103007</td>\n",
       "      <td>1</td>\n",
       "    </tr>\n",
       "    <tr>\n",
       "      <th>525</th>\n",
       "      <td>4279090005</td>\n",
       "      <td>1</td>\n",
       "    </tr>\n",
       "    <tr>\n",
       "      <th>526</th>\n",
       "      <td>4281247801</td>\n",
       "      <td>1</td>\n",
       "    </tr>\n",
       "    <tr>\n",
       "      <th>527</th>\n",
       "      <td>4283872382</td>\n",
       "      <td>1</td>\n",
       "    </tr>\n",
       "  </tbody>\n",
       "</table>\n",
       "<p>528 rows × 2 columns</p>\n",
       "</div>"
      ],
      "text/plain": [
       "         userId  orders\n",
       "0       5114589       1\n",
       "1       6958315       1\n",
       "2      39475350       1\n",
       "3      47206413       1\n",
       "4      48147722       1\n",
       "..          ...     ...\n",
       "523  4251115836       1\n",
       "524  4258103007       1\n",
       "525  4279090005       1\n",
       "526  4281247801       1\n",
       "527  4283872382       1\n",
       "\n",
       "[528 rows x 2 columns]"
      ]
     },
     "execution_count": 60,
     "metadata": {},
     "output_type": "execute_result"
    }
   ],
   "source": [
    "ordersByUsersB = orders_filt[orders_filt['group']=='B'].groupby('visitorId', as_index=False).agg({'transactionId' : pd.Series.nunique})\n",
    "ordersByUsersB.columns = ['userId', 'orders']\n",
    "ordersByUsersB"
   ]
  },
  {
   "cell_type": "code",
   "execution_count": 61,
   "metadata": {},
   "outputs": [
    {
     "name": "stdout",
     "output_type": "stream",
     "text": [
      "The p-value is 0.011018084110014696\n",
      "The relative conversion gain of group B is 0.160\n"
     ]
    }
   ],
   "source": [
    "sampleA = pd.concat([ordersByUsersA['orders'],pd.Series(0, index=np.arange(visits[visits['group']=='A']['visits'].sum() - len(ordersByUsersA['orders'])), name='orders')],axis=0)\n",
    "\n",
    "sampleB = pd.concat([ordersByUsersB['orders'],pd.Series(0, index=np.arange(visits[visits['group']=='B']['visits'].sum() - len(ordersByUsersB['orders'])), name='orders')],axis=0)\n",
    "\n",
    "print('The p-value is', \"{0:}\".format(stats.mannwhitneyu(sampleA, sampleB)[1]))\n",
    "\n",
    "print('The relative conversion gain of group B is', \"{0:.3f}\".format(sampleB.mean()/sampleA.mean()-1))"
   ]
  },
  {
   "cell_type": "markdown",
   "metadata": {},
   "source": [
    "**Conclusion:**   \n",
    "\n",
    "Based on the raw data, there is a difference between groups A and B.\n",
    "The first row of the output gives us the p-value, 0.011, which is smaller than 0.05. So we reject the null hypothesis that there's not a statistically significant difference in conversion between the groups. But the relative gain of group B is 16% (the second row of the output)."
   ]
  },
  {
   "cell_type": "markdown",
   "metadata": {},
   "source": [
    "### Statistical significance of the difference in average order size between the groups - raw data."
   ]
  },
  {
   "cell_type": "markdown",
   "metadata": {},
   "source": [
    "Let's find the statistical significance of the difference in average order size between the groups using the raw data."
   ]
  },
  {
   "cell_type": "markdown",
   "metadata": {},
   "source": [
    "**We'll test the following hypotheses:**  \n",
    "\n",
    "Ho - null hypothesis: There's no difference in average order size between the groups. The average order sizes are the same.  \n",
    "\n",
    "H1 hypothesis: There's a difference in average order size between the groups. The average order sizes are NOT the same. "
   ]
  },
  {
   "cell_type": "markdown",
   "metadata": {},
   "source": [
    "To calculate the statistical significance of the difference in the segments' average order size, we'll pass the data on revenue to the mannwhitneyu() criterion.\n",
    "We'll also find the relative difference in average order size between the groups:"
   ]
  },
  {
   "cell_type": "code",
   "execution_count": 62,
   "metadata": {},
   "outputs": [
    {
     "name": "stdout",
     "output_type": "stream",
     "text": [
      "The P-values is 0.8622329690015668\n",
      "The relative difference in average order size is 0.278\n"
     ]
    }
   ],
   "source": [
    "print('The P-values is','{0:}'.format(stats.mannwhitneyu(orders_filt[orders_filt['group']=='A']['revenue'], orders_filt[orders_filt['group']=='B']['revenue'])[1]))\n",
    "print('The relative difference in average order size is', '{0:.3f}'.format(orders_filt[orders_filt['group']=='B']['revenue'].mean()/orders_filt[orders_filt['group']=='A']['revenue'].mean()-1)) "
   ]
  },
  {
   "cell_type": "markdown",
   "metadata": {},
   "source": [
    "**Conclusion:**  \n",
    "\n",
    "The p-value is considerably higher than 0.05, so there's no reason to reject the null hypothesis, and we can conclude that average order size doesn't differ between the groups. Nonetheless, the average order size for group B is bigger than it is for group A."
   ]
  },
  {
   "cell_type": "markdown",
   "metadata": {},
   "source": [
    "The 95th and 99th percentiles for average order size, which we found above, were roughly 413 and 830. The 95th and 99th percentiles for the number of orders per user were 2 and 3 orders."
   ]
  },
  {
   "cell_type": "markdown",
   "metadata": {},
   "source": [
    "### Statistical significance of the difference in conversion between the groups - filtered data"
   ]
  },
  {
   "cell_type": "markdown",
   "metadata": {},
   "source": [
    "Let's find the statistical significance of the difference in conversion between the groups using the filtered data."
   ]
  },
  {
   "cell_type": "markdown",
   "metadata": {},
   "source": [
    "**We'll test the following hypotheses:**  \n",
    "\n",
    "Ho - null hypothesis: There's no difference in conversion rate between the groups, when using the filtered data. The conversion rate is the same.  \n",
    "\n",
    "H1 hypothesis: There's a difference in conversion rate between the groups, when using the filtered data. The conversion rate is NOT the same. "
   ]
  },
  {
   "cell_type": "markdown",
   "metadata": {},
   "source": [
    "Let's define anomalous users as those who place more than 1 order or one order bigger than 500. Thus we'll remove the 5 percent of users with the largest numbers of orders and from 1 percent to 5 percent of the users with the most expensive orders. Let's make data slices with the users who placed more than 1 order (usersWithManyOrders) and the users who placed orders for more than 500 (usersWithExpensiveOrders). We'll join them in a table called abnormalUsers."
   ]
  },
  {
   "cell_type": "markdown",
   "metadata": {},
   "source": [
    "Let's find the total number of anomalous users using the shape() method."
   ]
  },
  {
   "cell_type": "code",
   "execution_count": 63,
   "metadata": {},
   "outputs": [],
   "source": [
    "usersWithManyOrders = pd.concat([ordersByUsersA[ordersByUsersA['orders'] > 1]['userId'], ordersByUsersB[ordersByUsersB['orders'] > 1]['userId']], axis = 0)"
   ]
  },
  {
   "cell_type": "code",
   "execution_count": 64,
   "metadata": {},
   "outputs": [],
   "source": [
    "usersWithExpensiveOrders = orders_filt[orders_filt['revenue'] > 500]['visitorId']"
   ]
  },
  {
   "cell_type": "code",
   "execution_count": 65,
   "metadata": {},
   "outputs": [
    {
     "name": "stdout",
     "output_type": "stream",
     "text": [
      "1099    148427295\n",
      "928     204675465\n",
      "33      249864742\n",
      "684     358944393\n",
      "36      366673373\n",
      "dtype: int64\n",
      "(72,)\n"
     ]
    }
   ],
   "source": [
    "abnormalUsers = pd.concat([usersWithManyOrders, usersWithExpensiveOrders], axis = 0).drop_duplicates().sort_values()\n",
    "print(abnormalUsers.head(5))\n",
    "print(abnormalUsers.shape)"
   ]
  },
  {
   "cell_type": "markdown",
   "metadata": {},
   "source": [
    "We have 72 anomalous users in total.\n",
    "Let's try to find out how their actions affected the test results. We'll calculate the statistical significance of the differences in conversion between the groups, using filtered data. First we'll prepare samples of the number of orders per user for each test group:\n"
   ]
  },
  {
   "cell_type": "code",
   "execution_count": 66,
   "metadata": {},
   "outputs": [],
   "source": [
    "sampleAFiltered = pd.concat([ordersByUsersA[np.logical_not(ordersByUsersA['userId'].isin(abnormalUsers))]['orders'],pd.Series(0, index=np.arange(visits[visits['group']=='A']['visits'].sum() - len(ordersByUsersA['orders'])),name='orders')],axis=0)\n",
    "\n",
    "sampleBFiltered = pd.concat([ordersByUsersB[np.logical_not(ordersByUsersB['userId'].isin(abnormalUsers))]['orders'],pd.Series(0, index=np.arange(visits[visits['group']=='B']['visits'].sum() - len(ordersByUsersB['orders'])),name='orders')],axis=0) "
   ]
  },
  {
   "cell_type": "markdown",
   "metadata": {},
   "source": [
    "Let's apply the statistical Mann-Whitney criterion to the resulting samples:"
   ]
  },
  {
   "cell_type": "code",
   "execution_count": 67,
   "metadata": {},
   "outputs": [
    {
     "name": "stdout",
     "output_type": "stream",
     "text": [
      "The P-value is: 0.010\n",
      "The relative conversion gain of group B is 0.186\n"
     ]
    }
   ],
   "source": [
    "print('The P-value is:', \"{0:.3f}\".format(stats.mannwhitneyu(sampleAFiltered, sampleBFiltered)[1]))\n",
    "print('The relative conversion gain of group B is', \"{0:.3f}\".format(sampleBFiltered.mean()/sampleAFiltered.mean()-1)) "
   ]
  },
  {
   "cell_type": "markdown",
   "metadata": {},
   "source": [
    "**Conclusion:**  \n",
    "\n",
    "The results for conversion almost didn't change - the p-value slightly dropped, which only strengthens the conclusion that there's no significant difference between the conversion rates in two groups."
   ]
  },
  {
   "cell_type": "markdown",
   "metadata": {},
   "source": [
    "### Statistical significance of the difference in average order size between the groups - filtered data."
   ]
  },
  {
   "cell_type": "markdown",
   "metadata": {},
   "source": [
    "Let's find the statistical significance of the difference in average order size between the groups using the filtered data."
   ]
  },
  {
   "cell_type": "markdown",
   "metadata": {},
   "source": [
    "**We'll test the following hypotheses:**  \n",
    "\n",
    "Ho - null hypothesis: There's no difference in average order size between the groups, when using filtered data. The average order sizes are the same.  \n",
    "\n",
    "H1 hypothesis: There's a difference in average order size between the groups, when using filtered data. The average order sizes are NOT the same."
   ]
  },
  {
   "cell_type": "code",
   "execution_count": 68,
   "metadata": {},
   "outputs": [
    {
     "name": "stdout",
     "output_type": "stream",
     "text": [
      "0.992\n",
      "0.016\n"
     ]
    }
   ],
   "source": [
    "print('{0:.3f}'.format(stats.mannwhitneyu(\n",
    "    orders_filt[np.logical_and(\n",
    "        orders_filt['group']=='A',\n",
    "        np.logical_not(orders_filt['visitorId'].isin(abnormalUsers)))]['revenue'],\n",
    "    orders_filt[np.logical_and(\n",
    "        orders_filt['group']=='B',\n",
    "        np.logical_not(orders_filt['visitorId'].isin(abnormalUsers)))]['revenue'])[1]))\n",
    "\n",
    "print('{0:.3f}'.format(\n",
    "    orders_filt[np.logical_and(orders_filt['group']=='B',np.logical_not(orders_filt['visitorId'].isin(abnormalUsers)))]['revenue'].mean()/\n",
    "    orders_filt[np.logical_and(\n",
    "        orders_filt['group']=='A',\n",
    "        np.logical_not(orders_filt['visitorId'].isin(abnormalUsers)))]['revenue'].mean() - 1))"
   ]
  },
  {
   "cell_type": "markdown",
   "metadata": {},
   "source": [
    "**Conclusion:** \n",
    "\n",
    "The p-value has increased, but now the difference between the segments is about 2% instead of 28%. The difference has shrinked in the filtered data."
   ]
  },
  {
   "cell_type": "markdown",
   "metadata": {},
   "source": [
    "## Part 3. General conclusions"
   ]
  },
  {
   "cell_type": "markdown",
   "metadata": {},
   "source": [
    "**1. The Data:**\n",
    "-\tNo missing values were found in the datasets. \n",
    "-\tThere're some users who were assigned to both groups A and B. We have removed those users from the dataset. \n",
    "-\tWe’ve formatted the date columns using to_datetime() method.\n",
    "\n",
    "**2. The Test**   \n",
    "\n",
    "  **Part 1. Prioritizing Hypotheses**\n",
    "We have applied the ICE and RICE framework to prioritize the hypotheses. \n",
    "Based on the ICE framework, the hypothesis 8 (Launch a promotion that gives users discounts) is of highest priority: it had the largest impact and high confidence, and lowest effort of test application. However, once we apply RICE framework, the hypothesis 7 (Add a subscription form to all the main pages) got the higher priority, and hypothesis 8 droped 4 point down to the 5th place. This is because the RICE framework also has REACH parameter. Obviously, hypothesis 7, which was on the 3rd place in the ICE framework, rose to the first place as it had much wider reach.\n",
    "\n",
    "   **Part 2. A/B Test Analysis**   \n",
    "   \n",
    "   **1. Cumulative revenue by group**  \n",
    "   \n",
    "   We’ve plotted a graph of cumulative revenue by group. The cumulative metrics of group A were consistently slightly lower than those of the group B. Around the last third of the test there's a sharp increase in cumulative revenue for both groups. Maybe the average order sizes became larger, or the number of orders has increased.  \n",
    "\n",
    "  **2. Cumulative average order size by group**  \n",
    "  \n",
    "  We’ve plotted a graph of cumulative average order size by group, which is revenue divided by purchases. The average order size fluctuated for both groups throughout the test, and then it spiked for group B around August 20th (the beginning of the last third of the test).\n",
    "We’ve plotted a graph of cumulative average order size which showed the tendencies for both groups. The cumulative average order size hasn’t increased for group B until around August 20th, at which point there's a sharp increase, after which comes stability.\n",
    "For group A there's a stable increase until August 20, and then there's a sharp increase, after which it straightens out. Until August 20 the tendencies are almost opposite, with group A cumulative average order size starting low, gradually increasing, and eventually surpassing group B.  \n",
    "\n",
    "  **3. Relative difference in cumulative average order size**  \n",
    "  \n",
    "  We’ve plotted a graph of relative difference in cumulative average order size for group B compared with group A.\n",
    "The relative difference in cumulative average order size for group B compared with group A fluctuates around 0, with occasional spikes around August 6th and 14th, with a sharp spike around August 20th. Indeed, we saw above that average order size for group B spikes around that date.  \n",
    "\n",
    "  **4. Conversion rate by group**  \n",
    "  \n",
    "  We’ve calculated each group's conversion rate as the ratio of orders to the number of visits for each day and plotted the daily conversion rates of the two groups and cumulative conversion by group over time. The overall average conversion rate for group A is 0.025 and for group B - 0.029. From the regular conversion graph by groups it's hard to tell which segment is better, since the daily results fluctuate strongly. However, from the cumulative conversion over time we see that group A stars high and then decreases and stabilizes by the end of the period. Group B starts low, fluctuates, grows, and stabilizes by the end of the period. In general, it looks like the cumulative conversion rate for group B consistantly surpasses the one by group A.\n",
    "  \n",
    "  **5. Number of orders per user**  \n",
    "  \n",
    "  We’ve plotted a scatter chart of the number of orders per user by dividing the number of total purchases by the number of buyers. Most customers placed only one order. However, there’re some who placed two to three apiece. The overall number of orders per user as 1.024 for group A and 1.007 for grout B.   \n",
    "  \n",
    "  **6. 95th and 99th percentiles for the number of orders per user**  \n",
    "  \n",
    "  We’ved calculated the 95th and 99th percentiles for the number of orders per user to define at which point a data point became an anomaly. No more than 5% of users placed more than 1 order, and 1% of users made more than 2 orders.  \n",
    "  \n",
    "  **7. Order prices**   \n",
    "  \n",
    "  We’ve plotted a scatter chart of order prices and saw that the distribution of the order prices is not very wide - 75% of users made orders of 127 or less. There are occasional anomalies.  \n",
    "  \n",
    "  **8. 95th and 99th percentiles of order prices**  \n",
    "  \n",
    "  We’ve calculated the 95th and 99th percentiles of order prices and defined the point at which a data point became an anomaly. No more than 5% of users placed an order of more than 414.275, and 1% of users placed an order of more than 830.3.  \n",
    "  \n",
    "  **9. Statistical significance of the difference in conversion between the groups - raw data**   \n",
    "  \n",
    "  We’ve found the statistical significance of the difference in conversion between the groups using the raw data. For that we’ve created the variables ordersByUsersA and ordersByUsersB to store the columns ['userId', 'orders']. For users with at least one order, we've indicate the number of orders made.\n",
    "Then, we've declared the variables sampleA and sampleB, with users from different groups and corresponding numbers of orders. This was necessary to prepare the samples for the Mann-Whitney test.\n",
    "We've applied the criterion and formatted the p-value by rounding it to three decimal places. SampleA stored a sample where each element is the number of orders made by a certain user. So the number of sampleA elements was the number of users, and the sum of all the elements was the number of orders. To get the group's conversion rate, we've divided the sum of the orders by the number of users. Using the mean() method, we’ve found the mean for sampleA. We found the conversion rate for group B in a similar way: sampleB.mean().We’ve also printed the relative conversion gain for group B: group B conversion / group A conversion - 1.\n",
    "**Based on the raw data, we rejected the Null hypothesis and concluded there was a difference between groups A and B**.   \n",
    "The first row of the output gave us the p-value, 0.011, which is smaller than 0.05. So, we’ve rejected the null hypothesis that there's not a statistically significant difference in conversion between the groups. The relative gain of group B is 16% (the second row of the output).   \n",
    "\n",
    "  **10. Statistical significance of the difference in average order size between the groups - raw data**   \n",
    "  \n",
    "  We’ve found the statistical significance of the difference in average order size between the groups using the raw data. To calculate the statistical significance of the difference in the segments' average order size, we've passed the data on revenue to the mannwhitneyu() criterion. We've also found the relative difference in average order size between the groups.\n",
    "The p-value is considerably higher than 0.05, so **based on the raw data, there's no reason to reject the null hypothesis, and we can conclude that average order size doesn’t differ between the groups.** Nonetheless, the average order size for group B is bigger than it is for group A. \n",
    "The 95th and 99th percentiles for average order size, which we found above, were roughly 413 and 830. The 95th and 99th percentiles for the number of orders per user were 2 and 3 orders.   \n",
    "\n",
    "  **11. Statistical significance of the difference in conversion between the groups - filtered data**  \n",
    "  \n",
    "  We’ve found the statistical significance of the difference in conversion between the groups using the filtered data without anomalies. We’ve defined anomalous users as those who place more than 1 order or one order bigger than 500. Thus, we've removed the 5 percent of users with the largest numbers of orders and from 1 percent to 5 percent of the users with the most expensive orders. We have found 72 anomalous users in total. We've calculated the statistical significance of the differences in conversion between the groups, using filtered data. First, we've prepared samples of the number of orders per user for each test group, then we’ve applied the statistical Mann-Whitney criterion to the resulting samples. \n",
    "The results for conversion almost didn't change - the p-value slightly dropped, which only strengthens the conclusion that there's a significant difference between the conversion rates in two groups, therefore, we reject the null hypothesis.  \n",
    "\n",
    "   **12. Statistical significance of the difference in average order size between the groups - filtered data**\n",
    "We’ve found the statistical significance of the difference in average order size between the groups using the filtered data. After removing the anomalies, the p-value has increased, which only strengthened the conclusion, that **there’s no significant difference in average order sizes between the groups** and now the difference between the segments is about 2% instead of 28%. The difference has shrinked even more in the filtered data, therefore, we failed to reject the null hypothesis.\n",
    "\n",
    "\n",
    "   **Part 3. General conclusions** \n",
    "   \n",
    "   •\tThere's a statistically significant difference in conversion between the groups, according to both the raw and the filtered data.   \n",
    "   •\tThe raw data didn't show a statistically significant difference between the groups in terms of average purchase size. And after the anomalies were removed, the seeming difference has shrinked even more.  \n",
    "   •\tThe graph of the relative difference in cumulative average order size showed fluctuations around 0 with occasional spikes.  \n",
    "   •\tThe graph for the cumulative revenue by group showed that the results of group A are consistently slightly lower than those of group B. Around the last third of the test there's a sharp increase in cumulative revenue for both groups.   \n",
    "   •\tThe graph for the cumulative average order size showed until August 20 the tendencies are almost opposite, with group A cumulative average order size starting low, gradually increasing, and eventually surpassing group B.  \n",
    "   •\tFrom the regular conversion graph by groups it's hard to tell which segment is better, since the daily results fluctuate strongly. However, the cumulative conversion graph shows that the cumulative conversion rate for group A consistantly surpasses the one by group B."
   ]
  },
  {
   "cell_type": "markdown",
   "metadata": {},
   "source": [
    "**Before conducting the test, we need to determine the sample size, duration, and the metric we want to improve. In this case, we have two metrics, but only one of them shows a statistically significant difference, which is enough to use variant B - Stop the test, conclude that there is no difference between the groups.**"
   ]
  }
 ],
 "metadata": {
  "kernelspec": {
   "display_name": "Python 3 (ipykernel)",
   "language": "python",
   "name": "python3"
  },
  "language_info": {
   "codemirror_mode": {
    "name": "ipython",
    "version": 3
   },
   "file_extension": ".py",
   "mimetype": "text/x-python",
   "name": "python",
   "nbconvert_exporter": "python",
   "pygments_lexer": "ipython3",
   "version": "3.9.5"
  },
  "toc": {
   "base_numbering": 1,
   "nav_menu": {},
   "number_sections": true,
   "sideBar": true,
   "skip_h1_title": true,
   "title_cell": "Table of Contents",
   "title_sidebar": "Contents",
   "toc_cell": false,
   "toc_position": {},
   "toc_section_display": true,
   "toc_window_display": false
  }
 },
 "nbformat": 4,
 "nbformat_minor": 2
}
