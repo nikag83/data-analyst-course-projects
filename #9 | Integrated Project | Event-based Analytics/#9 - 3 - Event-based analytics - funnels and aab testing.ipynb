{
 "cells": [
  {
   "cell_type": "markdown",
   "metadata": {},
   "source": [
    "# Event-based analytics - funnels and aab testing"
   ]
  },
  {
   "cell_type": "markdown",
   "metadata": {},
   "source": [
    "We will to investigate user behavior for an app, created by the a startup that sells food products.  \n",
    "\n",
    "1. We will first study the sales funnel and find out how users reach the purchase stage. How many users actually make it to this stage? How many get stuck at previous stages? Which stages in particular?  \n",
    "\n",
    "2. Then we will look at the results of an A/A/B test.The users are split into three groups: two control groups get the old fonts and one test group gets the new ones. We will find out which set of fonts produces better results. Creating two A groups has certain advantages. We can make it a principle that we will only be confident in the accuracy of our testing when the two control groups are similar. If there are significant differences between the A groups, this can help us uncover factors that may be distorting the results. Comparing control groups also will tell us how much time and data we'll need when running further tests.  \n",
    "\n",
    "We'll be using the same dataset for general analytics and for A/A/B analysis.\n",
    "\n",
    "**Description of the data**  \n",
    "\n",
    "Each log entry is a user action or an event.  \n",
    "•\tEventName — event name  \n",
    "•\tDeviceIDHash — unique user identifier  \n",
    "•\tEventTimestamp — event time  \n",
    "•\tExpId — experiment number: 246 and 247 are the control groups, 248 is the test group"
   ]
  },
  {
   "cell_type": "markdown",
   "metadata": {},
   "source": [
    "## Step 4. Studying the event funnel"
   ]
  },
  {
   "cell_type": "markdown",
   "metadata": {},
   "source": [
    "### Events in the logs and their frequency of occurrence"
   ]
  },
  {
   "cell_type": "code",
   "execution_count": 42,
   "metadata": {},
   "outputs": [
    {
     "data": {
      "text/html": [
       "<div>\n",
       "<style scoped>\n",
       "    .dataframe tbody tr th:only-of-type {\n",
       "        vertical-align: middle;\n",
       "    }\n",
       "\n",
       "    .dataframe tbody tr th {\n",
       "        vertical-align: top;\n",
       "    }\n",
       "\n",
       "    .dataframe thead th {\n",
       "        text-align: right;\n",
       "    }\n",
       "</style>\n",
       "<table border=\"1\" class=\"dataframe\">\n",
       "  <thead>\n",
       "    <tr style=\"text-align: right;\">\n",
       "      <th></th>\n",
       "      <th>index</th>\n",
       "      <th>event_name</th>\n",
       "    </tr>\n",
       "  </thead>\n",
       "  <tbody>\n",
       "    <tr>\n",
       "      <th>0</th>\n",
       "      <td>MainScreenAppear</td>\n",
       "      <td>117328</td>\n",
       "    </tr>\n",
       "    <tr>\n",
       "      <th>1</th>\n",
       "      <td>OffersScreenAppear</td>\n",
       "      <td>46333</td>\n",
       "    </tr>\n",
       "    <tr>\n",
       "      <th>2</th>\n",
       "      <td>CartScreenAppear</td>\n",
       "      <td>42303</td>\n",
       "    </tr>\n",
       "    <tr>\n",
       "      <th>3</th>\n",
       "      <td>PaymentScreenSuccessful</td>\n",
       "      <td>33918</td>\n",
       "    </tr>\n",
       "    <tr>\n",
       "      <th>4</th>\n",
       "      <td>Tutorial</td>\n",
       "      <td>1005</td>\n",
       "    </tr>\n",
       "  </tbody>\n",
       "</table>\n",
       "</div>"
      ],
      "text/plain": [
       "                     index  event_name\n",
       "0         MainScreenAppear      117328\n",
       "1       OffersScreenAppear       46333\n",
       "2         CartScreenAppear       42303\n",
       "3  PaymentScreenSuccessful       33918\n",
       "4                 Tutorial        1005"
      ]
     },
     "execution_count": 42,
     "metadata": {},
     "output_type": "execute_result"
    }
   ],
   "source": [
    "events_freq = clean_logs['event_name'].value_counts().sort_values(ascending=False).reset_index()\n",
    "events_freq"
   ]
  },
  {
   "cell_type": "markdown",
   "metadata": {},
   "source": [
    "The most frequent event is MainScreenAppear."
   ]
  },
  {
   "cell_type": "markdown",
   "metadata": {},
   "source": [
    "### Users who performed each of the actions"
   ]
  },
  {
   "cell_type": "code",
   "execution_count": 43,
   "metadata": {},
   "outputs": [
    {
     "data": {
      "text/html": [
       "<div>\n",
       "<style scoped>\n",
       "    .dataframe tbody tr th:only-of-type {\n",
       "        vertical-align: middle;\n",
       "    }\n",
       "\n",
       "    .dataframe tbody tr th {\n",
       "        vertical-align: top;\n",
       "    }\n",
       "\n",
       "    .dataframe thead th {\n",
       "        text-align: right;\n",
       "    }\n",
       "</style>\n",
       "<table border=\"1\" class=\"dataframe\">\n",
       "  <thead>\n",
       "    <tr style=\"text-align: right;\">\n",
       "      <th></th>\n",
       "      <th>event_name</th>\n",
       "      <th>user_id</th>\n",
       "    </tr>\n",
       "  </thead>\n",
       "  <tbody>\n",
       "    <tr>\n",
       "      <th>0</th>\n",
       "      <td>MainScreenAppear</td>\n",
       "      <td>7419</td>\n",
       "    </tr>\n",
       "    <tr>\n",
       "      <th>1</th>\n",
       "      <td>OffersScreenAppear</td>\n",
       "      <td>4593</td>\n",
       "    </tr>\n",
       "    <tr>\n",
       "      <th>2</th>\n",
       "      <td>CartScreenAppear</td>\n",
       "      <td>3734</td>\n",
       "    </tr>\n",
       "    <tr>\n",
       "      <th>3</th>\n",
       "      <td>PaymentScreenSuccessful</td>\n",
       "      <td>3539</td>\n",
       "    </tr>\n",
       "    <tr>\n",
       "      <th>4</th>\n",
       "      <td>Tutorial</td>\n",
       "      <td>840</td>\n",
       "    </tr>\n",
       "  </tbody>\n",
       "</table>\n",
       "</div>"
      ],
      "text/plain": [
       "                event_name  user_id\n",
       "0         MainScreenAppear     7419\n",
       "1       OffersScreenAppear     4593\n",
       "2         CartScreenAppear     3734\n",
       "3  PaymentScreenSuccessful     3539\n",
       "4                 Tutorial      840"
      ]
     },
     "execution_count": 43,
     "metadata": {},
     "output_type": "execute_result"
    }
   ],
   "source": [
    "funnel = clean_logs.groupby(['event_name'])['user_id'].nunique().sort_values(ascending=False).reset_index()\n",
    "funnel"
   ]
  },
  {
   "cell_type": "markdown",
   "metadata": {},
   "source": [
    "- 7,419 users performed MainScreenAppear action  \n",
    "- 4,593 users performed OffersScreenAppear action\n",
    "- 3,734 users performed CartScreenAppear action\n",
    "- 3,539 users performed PaymentScreenSuccessful action\n",
    "- 840 users performed Tutorial action"
   ]
  },
  {
   "cell_type": "markdown",
   "metadata": {},
   "source": [
    "### Proportion of users who performed an action at least once"
   ]
  },
  {
   "cell_type": "code",
   "execution_count": 44,
   "metadata": {},
   "outputs": [
    {
     "data": {
      "text/html": [
       "<div>\n",
       "<style scoped>\n",
       "    .dataframe tbody tr th:only-of-type {\n",
       "        vertical-align: middle;\n",
       "    }\n",
       "\n",
       "    .dataframe tbody tr th {\n",
       "        vertical-align: top;\n",
       "    }\n",
       "\n",
       "    .dataframe thead th {\n",
       "        text-align: right;\n",
       "    }\n",
       "</style>\n",
       "<table border=\"1\" class=\"dataframe\">\n",
       "  <thead>\n",
       "    <tr style=\"text-align: right;\">\n",
       "      <th></th>\n",
       "      <th>event_name</th>\n",
       "      <th>user_id</th>\n",
       "      <th>proportion_to_total_users</th>\n",
       "    </tr>\n",
       "  </thead>\n",
       "  <tbody>\n",
       "    <tr>\n",
       "      <th>0</th>\n",
       "      <td>MainScreenAppear</td>\n",
       "      <td>7419</td>\n",
       "      <td>0.984736</td>\n",
       "    </tr>\n",
       "    <tr>\n",
       "      <th>1</th>\n",
       "      <td>OffersScreenAppear</td>\n",
       "      <td>4593</td>\n",
       "      <td>0.609636</td>\n",
       "    </tr>\n",
       "    <tr>\n",
       "      <th>2</th>\n",
       "      <td>CartScreenAppear</td>\n",
       "      <td>3734</td>\n",
       "      <td>0.495620</td>\n",
       "    </tr>\n",
       "    <tr>\n",
       "      <th>3</th>\n",
       "      <td>PaymentScreenSuccessful</td>\n",
       "      <td>3539</td>\n",
       "      <td>0.469737</td>\n",
       "    </tr>\n",
       "    <tr>\n",
       "      <th>4</th>\n",
       "      <td>Tutorial</td>\n",
       "      <td>840</td>\n",
       "      <td>0.111495</td>\n",
       "    </tr>\n",
       "  </tbody>\n",
       "</table>\n",
       "</div>"
      ],
      "text/plain": [
       "                event_name  user_id  proportion_to_total_users\n",
       "0         MainScreenAppear     7419                   0.984736\n",
       "1       OffersScreenAppear     4593                   0.609636\n",
       "2         CartScreenAppear     3734                   0.495620\n",
       "3  PaymentScreenSuccessful     3539                   0.469737\n",
       "4                 Tutorial      840                   0.111495"
      ]
     },
     "execution_count": 44,
     "metadata": {},
     "output_type": "execute_result"
    }
   ],
   "source": [
    "funnel['proportion_to_total_users'] = funnel['user_id']/clean_logs['user_id'].nunique()\n",
    "funnel"
   ]
  },
  {
   "cell_type": "markdown",
   "metadata": {},
   "source": [
    "It's interesting no see that not all users performed the most frequent action - only 98% did. Some may have stayed the the tutorial stage and never passed it. Also, business-wise, the product does great converting users - 47% users completed payment successfully."
   ]
  },
  {
   "cell_type": "markdown",
   "metadata": {},
   "source": [
    "### Order the actions took place"
   ]
  },
  {
   "cell_type": "markdown",
   "metadata": {},
   "source": [
    "Let's see whether all groups are present in all events to make sure that none of the events was available for only one or two groups."
   ]
  },
  {
   "cell_type": "code",
   "execution_count": 45,
   "metadata": {},
   "outputs": [
    {
     "data": {
      "text/html": [
       "<div>\n",
       "<style scoped>\n",
       "    .dataframe tbody tr th:only-of-type {\n",
       "        vertical-align: middle;\n",
       "    }\n",
       "\n",
       "    .dataframe tbody tr th {\n",
       "        vertical-align: top;\n",
       "    }\n",
       "\n",
       "    .dataframe thead th {\n",
       "        text-align: right;\n",
       "    }\n",
       "</style>\n",
       "<table border=\"1\" class=\"dataframe\">\n",
       "  <thead>\n",
       "    <tr style=\"text-align: right;\">\n",
       "      <th>group</th>\n",
       "      <th>event_name</th>\n",
       "      <th>246</th>\n",
       "      <th>247</th>\n",
       "      <th>248</th>\n",
       "    </tr>\n",
       "  </thead>\n",
       "  <tbody>\n",
       "    <tr>\n",
       "      <th>0</th>\n",
       "      <td>CartScreenAppear</td>\n",
       "      <td>1266</td>\n",
       "      <td>1238</td>\n",
       "      <td>1230</td>\n",
       "    </tr>\n",
       "    <tr>\n",
       "      <th>1</th>\n",
       "      <td>MainScreenAppear</td>\n",
       "      <td>2450</td>\n",
       "      <td>2476</td>\n",
       "      <td>2493</td>\n",
       "    </tr>\n",
       "    <tr>\n",
       "      <th>2</th>\n",
       "      <td>OffersScreenAppear</td>\n",
       "      <td>1542</td>\n",
       "      <td>1520</td>\n",
       "      <td>1531</td>\n",
       "    </tr>\n",
       "    <tr>\n",
       "      <th>3</th>\n",
       "      <td>PaymentScreenSuccessful</td>\n",
       "      <td>1200</td>\n",
       "      <td>1158</td>\n",
       "      <td>1181</td>\n",
       "    </tr>\n",
       "    <tr>\n",
       "      <th>4</th>\n",
       "      <td>Tutorial</td>\n",
       "      <td>278</td>\n",
       "      <td>283</td>\n",
       "      <td>279</td>\n",
       "    </tr>\n",
       "  </tbody>\n",
       "</table>\n",
       "</div>"
      ],
      "text/plain": [
       "group               event_name   246   247   248\n",
       "0             CartScreenAppear  1266  1238  1230\n",
       "1             MainScreenAppear  2450  2476  2493\n",
       "2           OffersScreenAppear  1542  1520  1531\n",
       "3      PaymentScreenSuccessful  1200  1158  1181\n",
       "4                     Tutorial   278   283   279"
      ]
     },
     "execution_count": 45,
     "metadata": {},
     "output_type": "execute_result"
    }
   ],
   "source": [
    "events_per_group = clean_logs.pivot_table(index='event_name', columns='group', values='user_id', aggfunc='nunique').reset_index()\n",
    "events_per_group"
   ]
  },
  {
   "cell_type": "markdown",
   "metadata": {},
   "source": [
    "Based on the logic and on the numbers, the stages of the funnel are:   \n",
    "\n",
    "**Stage 1:** MainScreenAppear  \n",
    "**Stage 2:** OffersScreenAppear  \n",
    "**Stage 3:** CartScreenAppear  \n",
    "**Stage 4:** PaymentScreenSuccessful\n",
    "\n",
    "However, since there's a drastic drop in numbers for users in Tutorial event, maybe it's optional, and the majority of users may have chosen to skip it. It's unclear what place in then funnel it takes, and therefore, we can conclude that it's not a part of a single sequence. Per project goal, we are interested to see how many users reach the purchase stage, and Tutorial has no impact on the matter. We may as well take it out of the funnel."
   ]
  },
  {
   "cell_type": "markdown",
   "metadata": {},
   "source": [
    "### Event funnel and share of users in the funnel"
   ]
  },
  {
   "cell_type": "code",
   "execution_count": 46,
   "metadata": {},
   "outputs": [
    {
     "data": {
      "text/html": [
       "<div>\n",
       "<style scoped>\n",
       "    .dataframe tbody tr th:only-of-type {\n",
       "        vertical-align: middle;\n",
       "    }\n",
       "\n",
       "    .dataframe tbody tr th {\n",
       "        vertical-align: top;\n",
       "    }\n",
       "\n",
       "    .dataframe thead th {\n",
       "        text-align: right;\n",
       "    }\n",
       "</style>\n",
       "<table border=\"1\" class=\"dataframe\">\n",
       "  <thead>\n",
       "    <tr style=\"text-align: right;\">\n",
       "      <th></th>\n",
       "      <th>event_name</th>\n",
       "      <th>user_id</th>\n",
       "      <th>proportion_to_total_users</th>\n",
       "      <th>conversion_stages</th>\n",
       "    </tr>\n",
       "  </thead>\n",
       "  <tbody>\n",
       "    <tr>\n",
       "      <th>0</th>\n",
       "      <td>MainScreenAppear</td>\n",
       "      <td>7419</td>\n",
       "      <td>0.984736</td>\n",
       "      <td>NaN</td>\n",
       "    </tr>\n",
       "    <tr>\n",
       "      <th>1</th>\n",
       "      <td>OffersScreenAppear</td>\n",
       "      <td>4593</td>\n",
       "      <td>0.609636</td>\n",
       "      <td>-0.380914</td>\n",
       "    </tr>\n",
       "    <tr>\n",
       "      <th>2</th>\n",
       "      <td>CartScreenAppear</td>\n",
       "      <td>3734</td>\n",
       "      <td>0.495620</td>\n",
       "      <td>-0.187024</td>\n",
       "    </tr>\n",
       "    <tr>\n",
       "      <th>3</th>\n",
       "      <td>PaymentScreenSuccessful</td>\n",
       "      <td>3539</td>\n",
       "      <td>0.469737</td>\n",
       "      <td>-0.052223</td>\n",
       "    </tr>\n",
       "    <tr>\n",
       "      <th>4</th>\n",
       "      <td>Tutorial</td>\n",
       "      <td>840</td>\n",
       "      <td>0.111495</td>\n",
       "      <td>-0.762645</td>\n",
       "    </tr>\n",
       "  </tbody>\n",
       "</table>\n",
       "</div>"
      ],
      "text/plain": [
       "                event_name  user_id  proportion_to_total_users  \\\n",
       "0         MainScreenAppear     7419                   0.984736   \n",
       "1       OffersScreenAppear     4593                   0.609636   \n",
       "2         CartScreenAppear     3734                   0.495620   \n",
       "3  PaymentScreenSuccessful     3539                   0.469737   \n",
       "4                 Tutorial      840                   0.111495   \n",
       "\n",
       "   conversion_stages  \n",
       "0                NaN  \n",
       "1          -0.380914  \n",
       "2          -0.187024  \n",
       "3          -0.052223  \n",
       "4          -0.762645  "
      ]
     },
     "execution_count": 46,
     "metadata": {},
     "output_type": "execute_result"
    }
   ],
   "source": [
    "funnel['conversion_stages']=funnel['user_id'].pct_change()\n",
    "funnel"
   ]
  },
  {
   "cell_type": "markdown",
   "metadata": {},
   "source": [
    "Stage 1: MainScreenAppear - 98% of users performed MainScreenAppear  \n",
    "Stage 2: OffersScreenAppear - 61% of users performed OffersScreenAppear  \n",
    "Stage 3: CartScreenAppear - 50% of users performed CartScreenAppear  \n",
    "Stage 4: PaymentScreenSuccessful - 47% of users performed PaymentScreenSuccessful\n",
    "   \n",
    "Only 11% performed Tutorial.  \n",
    "Among the main events, the largest drop is in the transition between acion 1: MainScreenAppear and action 2: OffersScreenAppear - 38%."
   ]
  },
  {
   "cell_type": "markdown",
   "metadata": {},
   "source": [
    "### Share of users who made the entire journey from their first event to payment"
   ]
  },
  {
   "cell_type": "code",
   "execution_count": 47,
   "metadata": {},
   "outputs": [
    {
     "data": {
      "text/html": [
       "<div>\n",
       "<style scoped>\n",
       "    .dataframe tbody tr th:only-of-type {\n",
       "        vertical-align: middle;\n",
       "    }\n",
       "\n",
       "    .dataframe tbody tr th {\n",
       "        vertical-align: top;\n",
       "    }\n",
       "\n",
       "    .dataframe thead th {\n",
       "        text-align: right;\n",
       "    }\n",
       "</style>\n",
       "<table border=\"1\" class=\"dataframe\">\n",
       "  <thead>\n",
       "    <tr style=\"text-align: right;\">\n",
       "      <th></th>\n",
       "      <th>event_name</th>\n",
       "      <th>group</th>\n",
       "      <th>user_id</th>\n",
       "    </tr>\n",
       "  </thead>\n",
       "  <tbody>\n",
       "    <tr>\n",
       "      <th>1</th>\n",
       "      <td>MainScreenAppear</td>\n",
       "      <td>246</td>\n",
       "      <td>2450</td>\n",
       "    </tr>\n",
       "    <tr>\n",
       "      <th>2</th>\n",
       "      <td>OffersScreenAppear</td>\n",
       "      <td>246</td>\n",
       "      <td>1542</td>\n",
       "    </tr>\n",
       "    <tr>\n",
       "      <th>0</th>\n",
       "      <td>CartScreenAppear</td>\n",
       "      <td>246</td>\n",
       "      <td>1266</td>\n",
       "    </tr>\n",
       "    <tr>\n",
       "      <th>3</th>\n",
       "      <td>PaymentScreenSuccessful</td>\n",
       "      <td>246</td>\n",
       "      <td>1200</td>\n",
       "    </tr>\n",
       "    <tr>\n",
       "      <th>4</th>\n",
       "      <td>Tutorial</td>\n",
       "      <td>246</td>\n",
       "      <td>278</td>\n",
       "    </tr>\n",
       "  </tbody>\n",
       "</table>\n",
       "</div>"
      ],
      "text/plain": [
       "                event_name  group  user_id\n",
       "1         MainScreenAppear    246     2450\n",
       "2       OffersScreenAppear    246     1542\n",
       "0         CartScreenAppear    246     1266\n",
       "3  PaymentScreenSuccessful    246     1200\n",
       "4                 Tutorial    246      278"
      ]
     },
     "metadata": {},
     "output_type": "display_data"
    },
    {
     "data": {
      "text/html": [
       "<div>\n",
       "<style scoped>\n",
       "    .dataframe tbody tr th:only-of-type {\n",
       "        vertical-align: middle;\n",
       "    }\n",
       "\n",
       "    .dataframe tbody tr th {\n",
       "        vertical-align: top;\n",
       "    }\n",
       "\n",
       "    .dataframe thead th {\n",
       "        text-align: right;\n",
       "    }\n",
       "</style>\n",
       "<table border=\"1\" class=\"dataframe\">\n",
       "  <thead>\n",
       "    <tr style=\"text-align: right;\">\n",
       "      <th></th>\n",
       "      <th>event_name</th>\n",
       "      <th>group</th>\n",
       "      <th>user_id</th>\n",
       "    </tr>\n",
       "  </thead>\n",
       "  <tbody>\n",
       "    <tr>\n",
       "      <th>1</th>\n",
       "      <td>MainScreenAppear</td>\n",
       "      <td>247</td>\n",
       "      <td>2476</td>\n",
       "    </tr>\n",
       "    <tr>\n",
       "      <th>2</th>\n",
       "      <td>OffersScreenAppear</td>\n",
       "      <td>247</td>\n",
       "      <td>1520</td>\n",
       "    </tr>\n",
       "    <tr>\n",
       "      <th>0</th>\n",
       "      <td>CartScreenAppear</td>\n",
       "      <td>247</td>\n",
       "      <td>1238</td>\n",
       "    </tr>\n",
       "    <tr>\n",
       "      <th>3</th>\n",
       "      <td>PaymentScreenSuccessful</td>\n",
       "      <td>247</td>\n",
       "      <td>1158</td>\n",
       "    </tr>\n",
       "    <tr>\n",
       "      <th>4</th>\n",
       "      <td>Tutorial</td>\n",
       "      <td>247</td>\n",
       "      <td>283</td>\n",
       "    </tr>\n",
       "  </tbody>\n",
       "</table>\n",
       "</div>"
      ],
      "text/plain": [
       "                event_name  group  user_id\n",
       "1         MainScreenAppear    247     2476\n",
       "2       OffersScreenAppear    247     1520\n",
       "0         CartScreenAppear    247     1238\n",
       "3  PaymentScreenSuccessful    247     1158\n",
       "4                 Tutorial    247      283"
      ]
     },
     "metadata": {},
     "output_type": "display_data"
    },
    {
     "data": {
      "text/html": [
       "<div>\n",
       "<style scoped>\n",
       "    .dataframe tbody tr th:only-of-type {\n",
       "        vertical-align: middle;\n",
       "    }\n",
       "\n",
       "    .dataframe tbody tr th {\n",
       "        vertical-align: top;\n",
       "    }\n",
       "\n",
       "    .dataframe thead th {\n",
       "        text-align: right;\n",
       "    }\n",
       "</style>\n",
       "<table border=\"1\" class=\"dataframe\">\n",
       "  <thead>\n",
       "    <tr style=\"text-align: right;\">\n",
       "      <th></th>\n",
       "      <th>event_name</th>\n",
       "      <th>group</th>\n",
       "      <th>user_id</th>\n",
       "    </tr>\n",
       "  </thead>\n",
       "  <tbody>\n",
       "    <tr>\n",
       "      <th>1</th>\n",
       "      <td>MainScreenAppear</td>\n",
       "      <td>248</td>\n",
       "      <td>2493</td>\n",
       "    </tr>\n",
       "    <tr>\n",
       "      <th>2</th>\n",
       "      <td>OffersScreenAppear</td>\n",
       "      <td>248</td>\n",
       "      <td>1531</td>\n",
       "    </tr>\n",
       "    <tr>\n",
       "      <th>0</th>\n",
       "      <td>CartScreenAppear</td>\n",
       "      <td>248</td>\n",
       "      <td>1230</td>\n",
       "    </tr>\n",
       "    <tr>\n",
       "      <th>3</th>\n",
       "      <td>PaymentScreenSuccessful</td>\n",
       "      <td>248</td>\n",
       "      <td>1181</td>\n",
       "    </tr>\n",
       "    <tr>\n",
       "      <th>4</th>\n",
       "      <td>Tutorial</td>\n",
       "      <td>248</td>\n",
       "      <td>279</td>\n",
       "    </tr>\n",
       "  </tbody>\n",
       "</table>\n",
       "</div>"
      ],
      "text/plain": [
       "                event_name  group  user_id\n",
       "1         MainScreenAppear    248     2493\n",
       "2       OffersScreenAppear    248     1531\n",
       "0         CartScreenAppear    248     1230\n",
       "3  PaymentScreenSuccessful    248     1181\n",
       "4                 Tutorial    248      279"
      ]
     },
     "metadata": {},
     "output_type": "display_data"
    }
   ],
   "source": [
    "funnel_by_groups=[]\n",
    "for i in clean_logs.group.unique():\n",
    "    group=clean_logs[clean_logs.group==i].groupby(['event_name','group'])['user_id'].nunique().reset_index().sort_values(by='user_id',ascending=False)\n",
    "    display(group)\n",
    "    funnel_by_groups.append(group)"
   ]
  },
  {
   "cell_type": "code",
   "execution_count": 48,
   "metadata": {},
   "outputs": [
    {
     "data": {
      "text/html": [
       "<div>\n",
       "<style scoped>\n",
       "    .dataframe tbody tr th:only-of-type {\n",
       "        vertical-align: middle;\n",
       "    }\n",
       "\n",
       "    .dataframe tbody tr th {\n",
       "        vertical-align: top;\n",
       "    }\n",
       "\n",
       "    .dataframe thead th {\n",
       "        text-align: right;\n",
       "    }\n",
       "</style>\n",
       "<table border=\"1\" class=\"dataframe\">\n",
       "  <thead>\n",
       "    <tr style=\"text-align: right;\">\n",
       "      <th></th>\n",
       "      <th>event_name</th>\n",
       "      <th>group</th>\n",
       "      <th>user_id</th>\n",
       "    </tr>\n",
       "  </thead>\n",
       "  <tbody>\n",
       "    <tr>\n",
       "      <th>1</th>\n",
       "      <td>MainScreenAppear</td>\n",
       "      <td>246</td>\n",
       "      <td>2450</td>\n",
       "    </tr>\n",
       "    <tr>\n",
       "      <th>2</th>\n",
       "      <td>OffersScreenAppear</td>\n",
       "      <td>246</td>\n",
       "      <td>1542</td>\n",
       "    </tr>\n",
       "    <tr>\n",
       "      <th>0</th>\n",
       "      <td>CartScreenAppear</td>\n",
       "      <td>246</td>\n",
       "      <td>1266</td>\n",
       "    </tr>\n",
       "    <tr>\n",
       "      <th>3</th>\n",
       "      <td>PaymentScreenSuccessful</td>\n",
       "      <td>246</td>\n",
       "      <td>1200</td>\n",
       "    </tr>\n",
       "    <tr>\n",
       "      <th>4</th>\n",
       "      <td>Tutorial</td>\n",
       "      <td>246</td>\n",
       "      <td>278</td>\n",
       "    </tr>\n",
       "    <tr>\n",
       "      <th>1</th>\n",
       "      <td>MainScreenAppear</td>\n",
       "      <td>247</td>\n",
       "      <td>2476</td>\n",
       "    </tr>\n",
       "    <tr>\n",
       "      <th>2</th>\n",
       "      <td>OffersScreenAppear</td>\n",
       "      <td>247</td>\n",
       "      <td>1520</td>\n",
       "    </tr>\n",
       "    <tr>\n",
       "      <th>0</th>\n",
       "      <td>CartScreenAppear</td>\n",
       "      <td>247</td>\n",
       "      <td>1238</td>\n",
       "    </tr>\n",
       "    <tr>\n",
       "      <th>3</th>\n",
       "      <td>PaymentScreenSuccessful</td>\n",
       "      <td>247</td>\n",
       "      <td>1158</td>\n",
       "    </tr>\n",
       "    <tr>\n",
       "      <th>4</th>\n",
       "      <td>Tutorial</td>\n",
       "      <td>247</td>\n",
       "      <td>283</td>\n",
       "    </tr>\n",
       "    <tr>\n",
       "      <th>1</th>\n",
       "      <td>MainScreenAppear</td>\n",
       "      <td>248</td>\n",
       "      <td>2493</td>\n",
       "    </tr>\n",
       "    <tr>\n",
       "      <th>2</th>\n",
       "      <td>OffersScreenAppear</td>\n",
       "      <td>248</td>\n",
       "      <td>1531</td>\n",
       "    </tr>\n",
       "    <tr>\n",
       "      <th>0</th>\n",
       "      <td>CartScreenAppear</td>\n",
       "      <td>248</td>\n",
       "      <td>1230</td>\n",
       "    </tr>\n",
       "    <tr>\n",
       "      <th>3</th>\n",
       "      <td>PaymentScreenSuccessful</td>\n",
       "      <td>248</td>\n",
       "      <td>1181</td>\n",
       "    </tr>\n",
       "    <tr>\n",
       "      <th>4</th>\n",
       "      <td>Tutorial</td>\n",
       "      <td>248</td>\n",
       "      <td>279</td>\n",
       "    </tr>\n",
       "  </tbody>\n",
       "</table>\n",
       "</div>"
      ],
      "text/plain": [
       "                event_name  group  user_id\n",
       "1         MainScreenAppear    246     2450\n",
       "2       OffersScreenAppear    246     1542\n",
       "0         CartScreenAppear    246     1266\n",
       "3  PaymentScreenSuccessful    246     1200\n",
       "4                 Tutorial    246      278\n",
       "1         MainScreenAppear    247     2476\n",
       "2       OffersScreenAppear    247     1520\n",
       "0         CartScreenAppear    247     1238\n",
       "3  PaymentScreenSuccessful    247     1158\n",
       "4                 Tutorial    247      283\n",
       "1         MainScreenAppear    248     2493\n",
       "2       OffersScreenAppear    248     1531\n",
       "0         CartScreenAppear    248     1230\n",
       "3  PaymentScreenSuccessful    248     1181\n",
       "4                 Tutorial    248      279"
      ]
     },
     "execution_count": 48,
     "metadata": {},
     "output_type": "execute_result"
    }
   ],
   "source": [
    "funnel_by_groups=pd.concat(funnel_by_groups)\n",
    "funnel_by_groups"
   ]
  },
  {
   "cell_type": "code",
   "execution_count": 49,
   "metadata": {},
   "outputs": [
    {
     "data": {
      "application/vnd.plotly.v1+json": {
       "config": {
        "plotlyServerURL": "https://plot.ly"
       },
       "data": [
        {
         "marker": {
          "color": [
           "yellow",
           "yellow",
           "yellow",
           "yellow",
           "yellow",
           "purple",
           "purple",
           "purple",
           "purple",
           "purple",
           "red",
           "red",
           "red",
           "red",
           "red"
          ]
         },
         "textinfo": "value+percent initial",
         "textposition": "inside",
         "type": "funnel",
         "x": [
          2450,
          1542,
          1266,
          1200,
          278,
          2476,
          1520,
          1238,
          1158,
          283,
          2493,
          1531,
          1230,
          1181,
          279
         ],
         "y": [
          "MainScreenAppear",
          "OffersScreenAppear",
          "CartScreenAppear",
          "PaymentScreenSuccessful",
          "Tutorial",
          "MainScreenAppear",
          "OffersScreenAppear",
          "CartScreenAppear",
          "PaymentScreenSuccessful",
          "Tutorial",
          "MainScreenAppear",
          "OffersScreenAppear",
          "CartScreenAppear",
          "PaymentScreenSuccessful",
          "Tutorial"
         ]
        }
       ],
       "layout": {
        "font": {
         "color": "RebeccaPurple",
         "size": 12
        },
        "legend": {
         "title": {
          "text": "Groups"
         }
        },
        "template": {
         "data": {
          "bar": [
           {
            "error_x": {
             "color": "#2a3f5f"
            },
            "error_y": {
             "color": "#2a3f5f"
            },
            "marker": {
             "line": {
              "color": "#E5ECF6",
              "width": 0.5
             },
             "pattern": {
              "fillmode": "overlay",
              "size": 10,
              "solidity": 0.2
             }
            },
            "type": "bar"
           }
          ],
          "barpolar": [
           {
            "marker": {
             "line": {
              "color": "#E5ECF6",
              "width": 0.5
             },
             "pattern": {
              "fillmode": "overlay",
              "size": 10,
              "solidity": 0.2
             }
            },
            "type": "barpolar"
           }
          ],
          "carpet": [
           {
            "aaxis": {
             "endlinecolor": "#2a3f5f",
             "gridcolor": "white",
             "linecolor": "white",
             "minorgridcolor": "white",
             "startlinecolor": "#2a3f5f"
            },
            "baxis": {
             "endlinecolor": "#2a3f5f",
             "gridcolor": "white",
             "linecolor": "white",
             "minorgridcolor": "white",
             "startlinecolor": "#2a3f5f"
            },
            "type": "carpet"
           }
          ],
          "choropleth": [
           {
            "colorbar": {
             "outlinewidth": 0,
             "ticks": ""
            },
            "type": "choropleth"
           }
          ],
          "contour": [
           {
            "colorbar": {
             "outlinewidth": 0,
             "ticks": ""
            },
            "colorscale": [
             [
              0,
              "#0d0887"
             ],
             [
              0.1111111111111111,
              "#46039f"
             ],
             [
              0.2222222222222222,
              "#7201a8"
             ],
             [
              0.3333333333333333,
              "#9c179e"
             ],
             [
              0.4444444444444444,
              "#bd3786"
             ],
             [
              0.5555555555555556,
              "#d8576b"
             ],
             [
              0.6666666666666666,
              "#ed7953"
             ],
             [
              0.7777777777777778,
              "#fb9f3a"
             ],
             [
              0.8888888888888888,
              "#fdca26"
             ],
             [
              1,
              "#f0f921"
             ]
            ],
            "type": "contour"
           }
          ],
          "contourcarpet": [
           {
            "colorbar": {
             "outlinewidth": 0,
             "ticks": ""
            },
            "type": "contourcarpet"
           }
          ],
          "heatmap": [
           {
            "colorbar": {
             "outlinewidth": 0,
             "ticks": ""
            },
            "colorscale": [
             [
              0,
              "#0d0887"
             ],
             [
              0.1111111111111111,
              "#46039f"
             ],
             [
              0.2222222222222222,
              "#7201a8"
             ],
             [
              0.3333333333333333,
              "#9c179e"
             ],
             [
              0.4444444444444444,
              "#bd3786"
             ],
             [
              0.5555555555555556,
              "#d8576b"
             ],
             [
              0.6666666666666666,
              "#ed7953"
             ],
             [
              0.7777777777777778,
              "#fb9f3a"
             ],
             [
              0.8888888888888888,
              "#fdca26"
             ],
             [
              1,
              "#f0f921"
             ]
            ],
            "type": "heatmap"
           }
          ],
          "heatmapgl": [
           {
            "colorbar": {
             "outlinewidth": 0,
             "ticks": ""
            },
            "colorscale": [
             [
              0,
              "#0d0887"
             ],
             [
              0.1111111111111111,
              "#46039f"
             ],
             [
              0.2222222222222222,
              "#7201a8"
             ],
             [
              0.3333333333333333,
              "#9c179e"
             ],
             [
              0.4444444444444444,
              "#bd3786"
             ],
             [
              0.5555555555555556,
              "#d8576b"
             ],
             [
              0.6666666666666666,
              "#ed7953"
             ],
             [
              0.7777777777777778,
              "#fb9f3a"
             ],
             [
              0.8888888888888888,
              "#fdca26"
             ],
             [
              1,
              "#f0f921"
             ]
            ],
            "type": "heatmapgl"
           }
          ],
          "histogram": [
           {
            "marker": {
             "pattern": {
              "fillmode": "overlay",
              "size": 10,
              "solidity": 0.2
             }
            },
            "type": "histogram"
           }
          ],
          "histogram2d": [
           {
            "colorbar": {
             "outlinewidth": 0,
             "ticks": ""
            },
            "colorscale": [
             [
              0,
              "#0d0887"
             ],
             [
              0.1111111111111111,
              "#46039f"
             ],
             [
              0.2222222222222222,
              "#7201a8"
             ],
             [
              0.3333333333333333,
              "#9c179e"
             ],
             [
              0.4444444444444444,
              "#bd3786"
             ],
             [
              0.5555555555555556,
              "#d8576b"
             ],
             [
              0.6666666666666666,
              "#ed7953"
             ],
             [
              0.7777777777777778,
              "#fb9f3a"
             ],
             [
              0.8888888888888888,
              "#fdca26"
             ],
             [
              1,
              "#f0f921"
             ]
            ],
            "type": "histogram2d"
           }
          ],
          "histogram2dcontour": [
           {
            "colorbar": {
             "outlinewidth": 0,
             "ticks": ""
            },
            "colorscale": [
             [
              0,
              "#0d0887"
             ],
             [
              0.1111111111111111,
              "#46039f"
             ],
             [
              0.2222222222222222,
              "#7201a8"
             ],
             [
              0.3333333333333333,
              "#9c179e"
             ],
             [
              0.4444444444444444,
              "#bd3786"
             ],
             [
              0.5555555555555556,
              "#d8576b"
             ],
             [
              0.6666666666666666,
              "#ed7953"
             ],
             [
              0.7777777777777778,
              "#fb9f3a"
             ],
             [
              0.8888888888888888,
              "#fdca26"
             ],
             [
              1,
              "#f0f921"
             ]
            ],
            "type": "histogram2dcontour"
           }
          ],
          "mesh3d": [
           {
            "colorbar": {
             "outlinewidth": 0,
             "ticks": ""
            },
            "type": "mesh3d"
           }
          ],
          "parcoords": [
           {
            "line": {
             "colorbar": {
              "outlinewidth": 0,
              "ticks": ""
             }
            },
            "type": "parcoords"
           }
          ],
          "pie": [
           {
            "automargin": true,
            "type": "pie"
           }
          ],
          "scatter": [
           {
            "marker": {
             "colorbar": {
              "outlinewidth": 0,
              "ticks": ""
             }
            },
            "type": "scatter"
           }
          ],
          "scatter3d": [
           {
            "line": {
             "colorbar": {
              "outlinewidth": 0,
              "ticks": ""
             }
            },
            "marker": {
             "colorbar": {
              "outlinewidth": 0,
              "ticks": ""
             }
            },
            "type": "scatter3d"
           }
          ],
          "scattercarpet": [
           {
            "marker": {
             "colorbar": {
              "outlinewidth": 0,
              "ticks": ""
             }
            },
            "type": "scattercarpet"
           }
          ],
          "scattergeo": [
           {
            "marker": {
             "colorbar": {
              "outlinewidth": 0,
              "ticks": ""
             }
            },
            "type": "scattergeo"
           }
          ],
          "scattergl": [
           {
            "marker": {
             "colorbar": {
              "outlinewidth": 0,
              "ticks": ""
             }
            },
            "type": "scattergl"
           }
          ],
          "scattermapbox": [
           {
            "marker": {
             "colorbar": {
              "outlinewidth": 0,
              "ticks": ""
             }
            },
            "type": "scattermapbox"
           }
          ],
          "scatterpolar": [
           {
            "marker": {
             "colorbar": {
              "outlinewidth": 0,
              "ticks": ""
             }
            },
            "type": "scatterpolar"
           }
          ],
          "scatterpolargl": [
           {
            "marker": {
             "colorbar": {
              "outlinewidth": 0,
              "ticks": ""
             }
            },
            "type": "scatterpolargl"
           }
          ],
          "scatterternary": [
           {
            "marker": {
             "colorbar": {
              "outlinewidth": 0,
              "ticks": ""
             }
            },
            "type": "scatterternary"
           }
          ],
          "surface": [
           {
            "colorbar": {
             "outlinewidth": 0,
             "ticks": ""
            },
            "colorscale": [
             [
              0,
              "#0d0887"
             ],
             [
              0.1111111111111111,
              "#46039f"
             ],
             [
              0.2222222222222222,
              "#7201a8"
             ],
             [
              0.3333333333333333,
              "#9c179e"
             ],
             [
              0.4444444444444444,
              "#bd3786"
             ],
             [
              0.5555555555555556,
              "#d8576b"
             ],
             [
              0.6666666666666666,
              "#ed7953"
             ],
             [
              0.7777777777777778,
              "#fb9f3a"
             ],
             [
              0.8888888888888888,
              "#fdca26"
             ],
             [
              1,
              "#f0f921"
             ]
            ],
            "type": "surface"
           }
          ],
          "table": [
           {
            "cells": {
             "fill": {
              "color": "#EBF0F8"
             },
             "line": {
              "color": "white"
             }
            },
            "header": {
             "fill": {
              "color": "#C8D4E3"
             },
             "line": {
              "color": "white"
             }
            },
            "type": "table"
           }
          ]
         },
         "layout": {
          "annotationdefaults": {
           "arrowcolor": "#2a3f5f",
           "arrowhead": 0,
           "arrowwidth": 1
          },
          "autotypenumbers": "strict",
          "coloraxis": {
           "colorbar": {
            "outlinewidth": 0,
            "ticks": ""
           }
          },
          "colorscale": {
           "diverging": [
            [
             0,
             "#8e0152"
            ],
            [
             0.1,
             "#c51b7d"
            ],
            [
             0.2,
             "#de77ae"
            ],
            [
             0.3,
             "#f1b6da"
            ],
            [
             0.4,
             "#fde0ef"
            ],
            [
             0.5,
             "#f7f7f7"
            ],
            [
             0.6,
             "#e6f5d0"
            ],
            [
             0.7,
             "#b8e186"
            ],
            [
             0.8,
             "#7fbc41"
            ],
            [
             0.9,
             "#4d9221"
            ],
            [
             1,
             "#276419"
            ]
           ],
           "sequential": [
            [
             0,
             "#0d0887"
            ],
            [
             0.1111111111111111,
             "#46039f"
            ],
            [
             0.2222222222222222,
             "#7201a8"
            ],
            [
             0.3333333333333333,
             "#9c179e"
            ],
            [
             0.4444444444444444,
             "#bd3786"
            ],
            [
             0.5555555555555556,
             "#d8576b"
            ],
            [
             0.6666666666666666,
             "#ed7953"
            ],
            [
             0.7777777777777778,
             "#fb9f3a"
            ],
            [
             0.8888888888888888,
             "#fdca26"
            ],
            [
             1,
             "#f0f921"
            ]
           ],
           "sequentialminus": [
            [
             0,
             "#0d0887"
            ],
            [
             0.1111111111111111,
             "#46039f"
            ],
            [
             0.2222222222222222,
             "#7201a8"
            ],
            [
             0.3333333333333333,
             "#9c179e"
            ],
            [
             0.4444444444444444,
             "#bd3786"
            ],
            [
             0.5555555555555556,
             "#d8576b"
            ],
            [
             0.6666666666666666,
             "#ed7953"
            ],
            [
             0.7777777777777778,
             "#fb9f3a"
            ],
            [
             0.8888888888888888,
             "#fdca26"
            ],
            [
             1,
             "#f0f921"
            ]
           ]
          },
          "colorway": [
           "#636efa",
           "#EF553B",
           "#00cc96",
           "#ab63fa",
           "#FFA15A",
           "#19d3f3",
           "#FF6692",
           "#B6E880",
           "#FF97FF",
           "#FECB52"
          ],
          "font": {
           "color": "#2a3f5f"
          },
          "geo": {
           "bgcolor": "white",
           "lakecolor": "white",
           "landcolor": "#E5ECF6",
           "showlakes": true,
           "showland": true,
           "subunitcolor": "white"
          },
          "hoverlabel": {
           "align": "left"
          },
          "hovermode": "closest",
          "mapbox": {
           "style": "light"
          },
          "paper_bgcolor": "white",
          "plot_bgcolor": "#E5ECF6",
          "polar": {
           "angularaxis": {
            "gridcolor": "white",
            "linecolor": "white",
            "ticks": ""
           },
           "bgcolor": "#E5ECF6",
           "radialaxis": {
            "gridcolor": "white",
            "linecolor": "white",
            "ticks": ""
           }
          },
          "scene": {
           "xaxis": {
            "backgroundcolor": "#E5ECF6",
            "gridcolor": "white",
            "gridwidth": 2,
            "linecolor": "white",
            "showbackground": true,
            "ticks": "",
            "zerolinecolor": "white"
           },
           "yaxis": {
            "backgroundcolor": "#E5ECF6",
            "gridcolor": "white",
            "gridwidth": 2,
            "linecolor": "white",
            "showbackground": true,
            "ticks": "",
            "zerolinecolor": "white"
           },
           "zaxis": {
            "backgroundcolor": "#E5ECF6",
            "gridcolor": "white",
            "gridwidth": 2,
            "linecolor": "white",
            "showbackground": true,
            "ticks": "",
            "zerolinecolor": "white"
           }
          },
          "shapedefaults": {
           "line": {
            "color": "#2a3f5f"
           }
          },
          "ternary": {
           "aaxis": {
            "gridcolor": "white",
            "linecolor": "white",
            "ticks": ""
           },
           "baxis": {
            "gridcolor": "white",
            "linecolor": "white",
            "ticks": ""
           },
           "bgcolor": "#E5ECF6",
           "caxis": {
            "gridcolor": "white",
            "linecolor": "white",
            "ticks": ""
           }
          },
          "title": {
           "x": 0.05
          },
          "xaxis": {
           "automargin": true,
           "gridcolor": "white",
           "linecolor": "white",
           "ticks": "",
           "title": {
            "standoff": 15
           },
           "zerolinecolor": "white",
           "zerolinewidth": 2
          },
          "yaxis": {
           "automargin": true,
           "gridcolor": "white",
           "linecolor": "white",
           "ticks": "",
           "title": {
            "standoff": 15
           },
           "zerolinecolor": "white",
           "zerolinewidth": 2
          }
         }
        },
        "title": {
         "text": "Event funnel: share of users who made the entire journey from their first event to payment"
        }
       }
      },
      "text/html": [
       "<div>                            <div id=\"22a1cc36-14f8-47fe-b3ab-3ce082b7b466\" class=\"plotly-graph-div\" style=\"height:525px; width:100%;\"></div>            <script type=\"text/javascript\">                require([\"plotly\"], function(Plotly) {                    window.PLOTLYENV=window.PLOTLYENV || {};                                    if (document.getElementById(\"22a1cc36-14f8-47fe-b3ab-3ce082b7b466\")) {                    Plotly.newPlot(                        \"22a1cc36-14f8-47fe-b3ab-3ce082b7b466\",                        [{\"marker\":{\"color\":[\"yellow\",\"yellow\",\"yellow\",\"yellow\",\"yellow\",\"purple\",\"purple\",\"purple\",\"purple\",\"purple\",\"red\",\"red\",\"red\",\"red\",\"red\"]},\"textinfo\":\"value+percent initial\",\"textposition\":\"inside\",\"x\":[2450,1542,1266,1200,278,2476,1520,1238,1158,283,2493,1531,1230,1181,279],\"y\":[\"MainScreenAppear\",\"OffersScreenAppear\",\"CartScreenAppear\",\"PaymentScreenSuccessful\",\"Tutorial\",\"MainScreenAppear\",\"OffersScreenAppear\",\"CartScreenAppear\",\"PaymentScreenSuccessful\",\"Tutorial\",\"MainScreenAppear\",\"OffersScreenAppear\",\"CartScreenAppear\",\"PaymentScreenSuccessful\",\"Tutorial\"],\"type\":\"funnel\"}],                        {\"template\":{\"data\":{\"bar\":[{\"error_x\":{\"color\":\"#2a3f5f\"},\"error_y\":{\"color\":\"#2a3f5f\"},\"marker\":{\"line\":{\"color\":\"#E5ECF6\",\"width\":0.5},\"pattern\":{\"fillmode\":\"overlay\",\"size\":10,\"solidity\":0.2}},\"type\":\"bar\"}],\"barpolar\":[{\"marker\":{\"line\":{\"color\":\"#E5ECF6\",\"width\":0.5},\"pattern\":{\"fillmode\":\"overlay\",\"size\":10,\"solidity\":0.2}},\"type\":\"barpolar\"}],\"carpet\":[{\"aaxis\":{\"endlinecolor\":\"#2a3f5f\",\"gridcolor\":\"white\",\"linecolor\":\"white\",\"minorgridcolor\":\"white\",\"startlinecolor\":\"#2a3f5f\"},\"baxis\":{\"endlinecolor\":\"#2a3f5f\",\"gridcolor\":\"white\",\"linecolor\":\"white\",\"minorgridcolor\":\"white\",\"startlinecolor\":\"#2a3f5f\"},\"type\":\"carpet\"}],\"choropleth\":[{\"colorbar\":{\"outlinewidth\":0,\"ticks\":\"\"},\"type\":\"choropleth\"}],\"contour\":[{\"colorbar\":{\"outlinewidth\":0,\"ticks\":\"\"},\"colorscale\":[[0.0,\"#0d0887\"],[0.1111111111111111,\"#46039f\"],[0.2222222222222222,\"#7201a8\"],[0.3333333333333333,\"#9c179e\"],[0.4444444444444444,\"#bd3786\"],[0.5555555555555556,\"#d8576b\"],[0.6666666666666666,\"#ed7953\"],[0.7777777777777778,\"#fb9f3a\"],[0.8888888888888888,\"#fdca26\"],[1.0,\"#f0f921\"]],\"type\":\"contour\"}],\"contourcarpet\":[{\"colorbar\":{\"outlinewidth\":0,\"ticks\":\"\"},\"type\":\"contourcarpet\"}],\"heatmap\":[{\"colorbar\":{\"outlinewidth\":0,\"ticks\":\"\"},\"colorscale\":[[0.0,\"#0d0887\"],[0.1111111111111111,\"#46039f\"],[0.2222222222222222,\"#7201a8\"],[0.3333333333333333,\"#9c179e\"],[0.4444444444444444,\"#bd3786\"],[0.5555555555555556,\"#d8576b\"],[0.6666666666666666,\"#ed7953\"],[0.7777777777777778,\"#fb9f3a\"],[0.8888888888888888,\"#fdca26\"],[1.0,\"#f0f921\"]],\"type\":\"heatmap\"}],\"heatmapgl\":[{\"colorbar\":{\"outlinewidth\":0,\"ticks\":\"\"},\"colorscale\":[[0.0,\"#0d0887\"],[0.1111111111111111,\"#46039f\"],[0.2222222222222222,\"#7201a8\"],[0.3333333333333333,\"#9c179e\"],[0.4444444444444444,\"#bd3786\"],[0.5555555555555556,\"#d8576b\"],[0.6666666666666666,\"#ed7953\"],[0.7777777777777778,\"#fb9f3a\"],[0.8888888888888888,\"#fdca26\"],[1.0,\"#f0f921\"]],\"type\":\"heatmapgl\"}],\"histogram\":[{\"marker\":{\"pattern\":{\"fillmode\":\"overlay\",\"size\":10,\"solidity\":0.2}},\"type\":\"histogram\"}],\"histogram2d\":[{\"colorbar\":{\"outlinewidth\":0,\"ticks\":\"\"},\"colorscale\":[[0.0,\"#0d0887\"],[0.1111111111111111,\"#46039f\"],[0.2222222222222222,\"#7201a8\"],[0.3333333333333333,\"#9c179e\"],[0.4444444444444444,\"#bd3786\"],[0.5555555555555556,\"#d8576b\"],[0.6666666666666666,\"#ed7953\"],[0.7777777777777778,\"#fb9f3a\"],[0.8888888888888888,\"#fdca26\"],[1.0,\"#f0f921\"]],\"type\":\"histogram2d\"}],\"histogram2dcontour\":[{\"colorbar\":{\"outlinewidth\":0,\"ticks\":\"\"},\"colorscale\":[[0.0,\"#0d0887\"],[0.1111111111111111,\"#46039f\"],[0.2222222222222222,\"#7201a8\"],[0.3333333333333333,\"#9c179e\"],[0.4444444444444444,\"#bd3786\"],[0.5555555555555556,\"#d8576b\"],[0.6666666666666666,\"#ed7953\"],[0.7777777777777778,\"#fb9f3a\"],[0.8888888888888888,\"#fdca26\"],[1.0,\"#f0f921\"]],\"type\":\"histogram2dcontour\"}],\"mesh3d\":[{\"colorbar\":{\"outlinewidth\":0,\"ticks\":\"\"},\"type\":\"mesh3d\"}],\"parcoords\":[{\"line\":{\"colorbar\":{\"outlinewidth\":0,\"ticks\":\"\"}},\"type\":\"parcoords\"}],\"pie\":[{\"automargin\":true,\"type\":\"pie\"}],\"scatter\":[{\"marker\":{\"colorbar\":{\"outlinewidth\":0,\"ticks\":\"\"}},\"type\":\"scatter\"}],\"scatter3d\":[{\"line\":{\"colorbar\":{\"outlinewidth\":0,\"ticks\":\"\"}},\"marker\":{\"colorbar\":{\"outlinewidth\":0,\"ticks\":\"\"}},\"type\":\"scatter3d\"}],\"scattercarpet\":[{\"marker\":{\"colorbar\":{\"outlinewidth\":0,\"ticks\":\"\"}},\"type\":\"scattercarpet\"}],\"scattergeo\":[{\"marker\":{\"colorbar\":{\"outlinewidth\":0,\"ticks\":\"\"}},\"type\":\"scattergeo\"}],\"scattergl\":[{\"marker\":{\"colorbar\":{\"outlinewidth\":0,\"ticks\":\"\"}},\"type\":\"scattergl\"}],\"scattermapbox\":[{\"marker\":{\"colorbar\":{\"outlinewidth\":0,\"ticks\":\"\"}},\"type\":\"scattermapbox\"}],\"scatterpolar\":[{\"marker\":{\"colorbar\":{\"outlinewidth\":0,\"ticks\":\"\"}},\"type\":\"scatterpolar\"}],\"scatterpolargl\":[{\"marker\":{\"colorbar\":{\"outlinewidth\":0,\"ticks\":\"\"}},\"type\":\"scatterpolargl\"}],\"scatterternary\":[{\"marker\":{\"colorbar\":{\"outlinewidth\":0,\"ticks\":\"\"}},\"type\":\"scatterternary\"}],\"surface\":[{\"colorbar\":{\"outlinewidth\":0,\"ticks\":\"\"},\"colorscale\":[[0.0,\"#0d0887\"],[0.1111111111111111,\"#46039f\"],[0.2222222222222222,\"#7201a8\"],[0.3333333333333333,\"#9c179e\"],[0.4444444444444444,\"#bd3786\"],[0.5555555555555556,\"#d8576b\"],[0.6666666666666666,\"#ed7953\"],[0.7777777777777778,\"#fb9f3a\"],[0.8888888888888888,\"#fdca26\"],[1.0,\"#f0f921\"]],\"type\":\"surface\"}],\"table\":[{\"cells\":{\"fill\":{\"color\":\"#EBF0F8\"},\"line\":{\"color\":\"white\"}},\"header\":{\"fill\":{\"color\":\"#C8D4E3\"},\"line\":{\"color\":\"white\"}},\"type\":\"table\"}]},\"layout\":{\"annotationdefaults\":{\"arrowcolor\":\"#2a3f5f\",\"arrowhead\":0,\"arrowwidth\":1},\"autotypenumbers\":\"strict\",\"coloraxis\":{\"colorbar\":{\"outlinewidth\":0,\"ticks\":\"\"}},\"colorscale\":{\"diverging\":[[0,\"#8e0152\"],[0.1,\"#c51b7d\"],[0.2,\"#de77ae\"],[0.3,\"#f1b6da\"],[0.4,\"#fde0ef\"],[0.5,\"#f7f7f7\"],[0.6,\"#e6f5d0\"],[0.7,\"#b8e186\"],[0.8,\"#7fbc41\"],[0.9,\"#4d9221\"],[1,\"#276419\"]],\"sequential\":[[0.0,\"#0d0887\"],[0.1111111111111111,\"#46039f\"],[0.2222222222222222,\"#7201a8\"],[0.3333333333333333,\"#9c179e\"],[0.4444444444444444,\"#bd3786\"],[0.5555555555555556,\"#d8576b\"],[0.6666666666666666,\"#ed7953\"],[0.7777777777777778,\"#fb9f3a\"],[0.8888888888888888,\"#fdca26\"],[1.0,\"#f0f921\"]],\"sequentialminus\":[[0.0,\"#0d0887\"],[0.1111111111111111,\"#46039f\"],[0.2222222222222222,\"#7201a8\"],[0.3333333333333333,\"#9c179e\"],[0.4444444444444444,\"#bd3786\"],[0.5555555555555556,\"#d8576b\"],[0.6666666666666666,\"#ed7953\"],[0.7777777777777778,\"#fb9f3a\"],[0.8888888888888888,\"#fdca26\"],[1.0,\"#f0f921\"]]},\"colorway\":[\"#636efa\",\"#EF553B\",\"#00cc96\",\"#ab63fa\",\"#FFA15A\",\"#19d3f3\",\"#FF6692\",\"#B6E880\",\"#FF97FF\",\"#FECB52\"],\"font\":{\"color\":\"#2a3f5f\"},\"geo\":{\"bgcolor\":\"white\",\"lakecolor\":\"white\",\"landcolor\":\"#E5ECF6\",\"showlakes\":true,\"showland\":true,\"subunitcolor\":\"white\"},\"hoverlabel\":{\"align\":\"left\"},\"hovermode\":\"closest\",\"mapbox\":{\"style\":\"light\"},\"paper_bgcolor\":\"white\",\"plot_bgcolor\":\"#E5ECF6\",\"polar\":{\"angularaxis\":{\"gridcolor\":\"white\",\"linecolor\":\"white\",\"ticks\":\"\"},\"bgcolor\":\"#E5ECF6\",\"radialaxis\":{\"gridcolor\":\"white\",\"linecolor\":\"white\",\"ticks\":\"\"}},\"scene\":{\"xaxis\":{\"backgroundcolor\":\"#E5ECF6\",\"gridcolor\":\"white\",\"gridwidth\":2,\"linecolor\":\"white\",\"showbackground\":true,\"ticks\":\"\",\"zerolinecolor\":\"white\"},\"yaxis\":{\"backgroundcolor\":\"#E5ECF6\",\"gridcolor\":\"white\",\"gridwidth\":2,\"linecolor\":\"white\",\"showbackground\":true,\"ticks\":\"\",\"zerolinecolor\":\"white\"},\"zaxis\":{\"backgroundcolor\":\"#E5ECF6\",\"gridcolor\":\"white\",\"gridwidth\":2,\"linecolor\":\"white\",\"showbackground\":true,\"ticks\":\"\",\"zerolinecolor\":\"white\"}},\"shapedefaults\":{\"line\":{\"color\":\"#2a3f5f\"}},\"ternary\":{\"aaxis\":{\"gridcolor\":\"white\",\"linecolor\":\"white\",\"ticks\":\"\"},\"baxis\":{\"gridcolor\":\"white\",\"linecolor\":\"white\",\"ticks\":\"\"},\"bgcolor\":\"#E5ECF6\",\"caxis\":{\"gridcolor\":\"white\",\"linecolor\":\"white\",\"ticks\":\"\"}},\"title\":{\"x\":0.05},\"xaxis\":{\"automargin\":true,\"gridcolor\":\"white\",\"linecolor\":\"white\",\"ticks\":\"\",\"title\":{\"standoff\":15},\"zerolinecolor\":\"white\",\"zerolinewidth\":2},\"yaxis\":{\"automargin\":true,\"gridcolor\":\"white\",\"linecolor\":\"white\",\"ticks\":\"\",\"title\":{\"standoff\":15},\"zerolinecolor\":\"white\",\"zerolinewidth\":2}}},\"font\":{\"size\":12,\"color\":\"RebeccaPurple\"},\"title\":{\"text\":\"Event funnel: share of users who made the entire journey from their first event to payment\"},\"legend\":{\"title\":{\"text\":\"Groups\"}}},                        {\"responsive\": true}                    ).then(function(){\n",
       "                            \n",
       "var gd = document.getElementById('22a1cc36-14f8-47fe-b3ab-3ce082b7b466');\n",
       "var x = new MutationObserver(function (mutations, observer) {{\n",
       "        var display = window.getComputedStyle(gd).display;\n",
       "        if (!display || display === 'none') {{\n",
       "            console.log([gd, 'removed!']);\n",
       "            Plotly.purge(gd);\n",
       "            observer.disconnect();\n",
       "        }}\n",
       "}});\n",
       "\n",
       "// Listen for the removal of the full notebook cells\n",
       "var notebookContainer = gd.closest('#notebook-container');\n",
       "if (notebookContainer) {{\n",
       "    x.observe(notebookContainer, {childList: true});\n",
       "}}\n",
       "\n",
       "// Listen for the clearing of the current output cell\n",
       "var outputEl = gd.closest('.output');\n",
       "if (outputEl) {{\n",
       "    x.observe(outputEl, {childList: true});\n",
       "}}\n",
       "\n",
       "                        })                };                });            </script>        </div>"
      ]
     },
     "metadata": {},
     "output_type": "display_data"
    }
   ],
   "source": [
    "colors = [\"yellow\", \"yellow\", \"yellow\", \"yellow\", \"yellow\", \"purple\", \"purple\", \"purple\", \"purple\", \"purple\", \"red\", \"red\", \"red\", \"red\", \"red\"]\n",
    "fig = go.Figure(go.Funnel(y=funnel_by_groups['event_name'], x=funnel_by_groups['user_id'], \n",
    "                          textposition=\"inside\", textinfo=\"value+percent initial\", marker = dict(color=colors)))\n",
    "\n",
    "fig.update_layout(\n",
    "    title=\"Event funnel: share of users who made the entire journey from their first event to payment\",\n",
    "    legend_title=\"Groups\",\n",
    "    font=dict(\n",
    "        size=12,\n",
    "        color=\"RebeccaPurple\"\n",
    "    )\n",
    ")\n",
    "fig.show();"
   ]
  },
  {
   "cell_type": "markdown",
   "metadata": {},
   "source": [
    "**Group 246:**  \n",
    "62.9% of users who performed stage 1, performed stage 2. 82% of of users who performed stage 2, performed stage 3, and 94.6% of users who performed stage 3, performed stage 4. Almost 49% of users in the group went through all main stages.\n",
    "\n",
    "**Group 247:**  \n",
    "61.5% of users who performed stage 1, performed stage 2. 80.6% of of users who performed stage 2, performed stage 3, and 95.6% of users who performed stage 3, performed stage 4. 48% of users in the group went through all main stages.\n",
    "\n",
    "**Group 248:**   \n",
    "61.6% of users who performed stage 1, performed stage 2. 81% of of users who performed stage 2, performed stage 3, and 93.5% of users who performed stage 3, performed stage 4. 47% of users in the group went through all main stages.\n",
    "\n",
    "On average, 48% of users made the entire journey from their first event to payment."
   ]
  },
  {
   "cell_type": "markdown",
   "metadata": {},
   "source": [
    "## Step 5. Studying the results of the experiment"
   ]
  },
  {
   "cell_type": "markdown",
   "metadata": {},
   "source": [
    "### Number of users in each group"
   ]
  },
  {
   "cell_type": "code",
   "execution_count": 50,
   "metadata": {},
   "outputs": [
    {
     "data": {
      "text/html": [
       "<div>\n",
       "<style scoped>\n",
       "    .dataframe tbody tr th:only-of-type {\n",
       "        vertical-align: middle;\n",
       "    }\n",
       "\n",
       "    .dataframe tbody tr th {\n",
       "        vertical-align: top;\n",
       "    }\n",
       "\n",
       "    .dataframe thead th {\n",
       "        text-align: right;\n",
       "    }\n",
       "</style>\n",
       "<table border=\"1\" class=\"dataframe\">\n",
       "  <thead>\n",
       "    <tr style=\"text-align: right;\">\n",
       "      <th></th>\n",
       "      <th>group</th>\n",
       "      <th>user_id</th>\n",
       "    </tr>\n",
       "  </thead>\n",
       "  <tbody>\n",
       "    <tr>\n",
       "      <th>0</th>\n",
       "      <td>246</td>\n",
       "      <td>2484</td>\n",
       "    </tr>\n",
       "    <tr>\n",
       "      <th>1</th>\n",
       "      <td>247</td>\n",
       "      <td>2513</td>\n",
       "    </tr>\n",
       "    <tr>\n",
       "      <th>2</th>\n",
       "      <td>248</td>\n",
       "      <td>2537</td>\n",
       "    </tr>\n",
       "  </tbody>\n",
       "</table>\n",
       "</div>"
      ],
      "text/plain": [
       "   group  user_id\n",
       "0    246     2484\n",
       "1    247     2513\n",
       "2    248     2537"
      ]
     },
     "execution_count": 50,
     "metadata": {},
     "output_type": "execute_result"
    }
   ],
   "source": [
    "# Checking number of users per group\n",
    "users_by_group = clean_logs.groupby(['group'])['user_id'].nunique().reset_index()\n",
    "users_by_group"
   ]
  },
  {
   "cell_type": "code",
   "execution_count": 51,
   "metadata": {},
   "outputs": [
    {
     "data": {
      "text/html": [
       "<div>\n",
       "<style scoped>\n",
       "    .dataframe tbody tr th:only-of-type {\n",
       "        vertical-align: middle;\n",
       "    }\n",
       "\n",
       "    .dataframe tbody tr th {\n",
       "        vertical-align: top;\n",
       "    }\n",
       "\n",
       "    .dataframe thead th {\n",
       "        text-align: right;\n",
       "    }\n",
       "</style>\n",
       "<table border=\"1\" class=\"dataframe\">\n",
       "  <thead>\n",
       "    <tr style=\"text-align: right;\">\n",
       "      <th></th>\n",
       "      <th>user_id</th>\n",
       "      <th>group</th>\n",
       "    </tr>\n",
       "  </thead>\n",
       "  <tbody>\n",
       "    <tr>\n",
       "      <th>0</th>\n",
       "      <td>6888746892508752</td>\n",
       "      <td>1</td>\n",
       "    </tr>\n",
       "    <tr>\n",
       "      <th>1</th>\n",
       "      <td>6909561520679493</td>\n",
       "      <td>1</td>\n",
       "    </tr>\n",
       "    <tr>\n",
       "      <th>2</th>\n",
       "      <td>6922444491712477</td>\n",
       "      <td>1</td>\n",
       "    </tr>\n",
       "    <tr>\n",
       "      <th>3</th>\n",
       "      <td>7435777799948366</td>\n",
       "      <td>1</td>\n",
       "    </tr>\n",
       "    <tr>\n",
       "      <th>4</th>\n",
       "      <td>7702139951469979</td>\n",
       "      <td>1</td>\n",
       "    </tr>\n",
       "    <tr>\n",
       "      <th>...</th>\n",
       "      <td>...</td>\n",
       "      <td>...</td>\n",
       "    </tr>\n",
       "    <tr>\n",
       "      <th>7529</th>\n",
       "      <td>9217594193087726423</td>\n",
       "      <td>1</td>\n",
       "    </tr>\n",
       "    <tr>\n",
       "      <th>7530</th>\n",
       "      <td>9219463515465815368</td>\n",
       "      <td>1</td>\n",
       "    </tr>\n",
       "    <tr>\n",
       "      <th>7531</th>\n",
       "      <td>9220879493065341500</td>\n",
       "      <td>1</td>\n",
       "    </tr>\n",
       "    <tr>\n",
       "      <th>7532</th>\n",
       "      <td>9221926045299980007</td>\n",
       "      <td>1</td>\n",
       "    </tr>\n",
       "    <tr>\n",
       "      <th>7533</th>\n",
       "      <td>9222603179720523844</td>\n",
       "      <td>1</td>\n",
       "    </tr>\n",
       "  </tbody>\n",
       "</table>\n",
       "<p>7534 rows × 2 columns</p>\n",
       "</div>"
      ],
      "text/plain": [
       "                  user_id  group\n",
       "0        6888746892508752      1\n",
       "1        6909561520679493      1\n",
       "2        6922444491712477      1\n",
       "3        7435777799948366      1\n",
       "4        7702139951469979      1\n",
       "...                   ...    ...\n",
       "7529  9217594193087726423      1\n",
       "7530  9219463515465815368      1\n",
       "7531  9220879493065341500      1\n",
       "7532  9221926045299980007      1\n",
       "7533  9222603179720523844      1\n",
       "\n",
       "[7534 rows x 2 columns]"
      ]
     },
     "execution_count": 51,
     "metadata": {},
     "output_type": "execute_result"
    }
   ],
   "source": [
    "# Checking how many groups each user belongs to\n",
    "clean_logs.groupby(['user_id'])['group'].nunique().reset_index()"
   ]
  },
  {
   "cell_type": "code",
   "execution_count": 52,
   "metadata": {},
   "outputs": [
    {
     "data": {
      "text/html": [
       "<div>\n",
       "<style scoped>\n",
       "    .dataframe tbody tr th:only-of-type {\n",
       "        vertical-align: middle;\n",
       "    }\n",
       "\n",
       "    .dataframe tbody tr th {\n",
       "        vertical-align: top;\n",
       "    }\n",
       "\n",
       "    .dataframe thead th {\n",
       "        text-align: right;\n",
       "    }\n",
       "</style>\n",
       "<table border=\"1\" class=\"dataframe\">\n",
       "  <thead>\n",
       "    <tr style=\"text-align: right;\">\n",
       "      <th></th>\n",
       "      <th>user_id</th>\n",
       "      <th>group</th>\n",
       "    </tr>\n",
       "  </thead>\n",
       "  <tbody>\n",
       "  </tbody>\n",
       "</table>\n",
       "</div>"
      ],
      "text/plain": [
       "Empty DataFrame\n",
       "Columns: [user_id, group]\n",
       "Index: []"
      ]
     },
     "execution_count": 52,
     "metadata": {},
     "output_type": "execute_result"
    }
   ],
   "source": [
    "#Checking whether there're users who belong to more than 1 group\n",
    "clean_logs.groupby(['user_id'])['group'].nunique().reset_index().query('group>1')"
   ]
  },
  {
   "cell_type": "markdown",
   "metadata": {},
   "source": [
    "No users who belong to more then one group were found. We can conclude the following:  \n",
    "In group 246 - 2,484 users.  \n",
    "In group 247 - 2,513 users.  \n",
    "In group 247 - 2,537 users.\n",
    "Seems that the groups were split properly."
   ]
  },
  {
   "cell_type": "markdown",
   "metadata": {},
   "source": [
    "### Most popular event"
   ]
  },
  {
   "cell_type": "markdown",
   "metadata": {},
   "source": [
    "We have already calculated the number of users who performed each events. Let's use the same table to see the most popular event per groups."
   ]
  },
  {
   "cell_type": "code",
   "execution_count": 53,
   "metadata": {},
   "outputs": [
    {
     "data": {
      "text/html": [
       "<div>\n",
       "<style scoped>\n",
       "    .dataframe tbody tr th:only-of-type {\n",
       "        vertical-align: middle;\n",
       "    }\n",
       "\n",
       "    .dataframe tbody tr th {\n",
       "        vertical-align: top;\n",
       "    }\n",
       "\n",
       "    .dataframe thead th {\n",
       "        text-align: right;\n",
       "    }\n",
       "</style>\n",
       "<table border=\"1\" class=\"dataframe\">\n",
       "  <thead>\n",
       "    <tr style=\"text-align: right;\">\n",
       "      <th>group</th>\n",
       "      <th>event_name</th>\n",
       "      <th>246</th>\n",
       "      <th>247</th>\n",
       "      <th>248</th>\n",
       "    </tr>\n",
       "  </thead>\n",
       "  <tbody>\n",
       "    <tr>\n",
       "      <th>0</th>\n",
       "      <td>CartScreenAppear</td>\n",
       "      <td>1266</td>\n",
       "      <td>1238</td>\n",
       "      <td>1230</td>\n",
       "    </tr>\n",
       "    <tr>\n",
       "      <th>1</th>\n",
       "      <td>MainScreenAppear</td>\n",
       "      <td>2450</td>\n",
       "      <td>2476</td>\n",
       "      <td>2493</td>\n",
       "    </tr>\n",
       "    <tr>\n",
       "      <th>2</th>\n",
       "      <td>OffersScreenAppear</td>\n",
       "      <td>1542</td>\n",
       "      <td>1520</td>\n",
       "      <td>1531</td>\n",
       "    </tr>\n",
       "    <tr>\n",
       "      <th>3</th>\n",
       "      <td>PaymentScreenSuccessful</td>\n",
       "      <td>1200</td>\n",
       "      <td>1158</td>\n",
       "      <td>1181</td>\n",
       "    </tr>\n",
       "    <tr>\n",
       "      <th>4</th>\n",
       "      <td>Tutorial</td>\n",
       "      <td>278</td>\n",
       "      <td>283</td>\n",
       "      <td>279</td>\n",
       "    </tr>\n",
       "  </tbody>\n",
       "</table>\n",
       "</div>"
      ],
      "text/plain": [
       "group               event_name   246   247   248\n",
       "0             CartScreenAppear  1266  1238  1230\n",
       "1             MainScreenAppear  2450  2476  2493\n",
       "2           OffersScreenAppear  1542  1520  1531\n",
       "3      PaymentScreenSuccessful  1200  1158  1181\n",
       "4                     Tutorial   278   283   279"
      ]
     },
     "execution_count": 53,
     "metadata": {},
     "output_type": "execute_result"
    }
   ],
   "source": [
    "events_per_group"
   ]
  },
  {
   "cell_type": "code",
   "execution_count": 54,
   "metadata": {},
   "outputs": [
    {
     "name": "stdout",
     "output_type": "stream",
     "text": [
      "0.9749303621169917 of users in control group 246 performed MainScreenAppear.\n"
     ]
    }
   ],
   "source": [
    "share_246 = 2450/2513\n",
    "print(share_246, 'of users in control group 246 performed MainScreenAppear.')"
   ]
  },
  {
   "cell_type": "code",
   "execution_count": 55,
   "metadata": {
    "scrolled": true
   },
   "outputs": [
    {
     "name": "stdout",
     "output_type": "stream",
     "text": [
      "0.9759558533701221 of users in control group 246 performed MainScreenAppear.\n"
     ]
    }
   ],
   "source": [
    "share_247 = 2476/2537\n",
    "print(share_247, 'of users in control group 246 performed MainScreenAppear.')"
   ]
  },
  {
   "cell_type": "markdown",
   "metadata": {},
   "source": [
    "- The most popular event is MainScreenAppear accross all groups.\n",
    "- From control group 246 - 2450 users performed this action.\n",
    "- From control group 247 - 2476 users performed this action."
   ]
  },
  {
   "cell_type": "markdown",
   "metadata": {},
   "source": [
    "### Statistical significance of the difference between samples"
   ]
  },
  {
   "cell_type": "markdown",
   "metadata": {},
   "source": [
    "To check the statistical significance of the difference between samples 246 and 247, we will check the statistical significance of the difference between proportions of users who went from one stage to another.\n",
    "\n",
    "Ho - null hypothesis: The proportions of users who went from one stage to another are the same are the same.\n",
    "\n",
    "H1 hypothesis: The proportions of users who went from one stage to another are the same are NOT the same."
   ]
  },
  {
   "cell_type": "markdown",
   "metadata": {},
   "source": [
    "The difference between the proportions we observe in our samples will be our statistic. That's what you call a variable whose values can be found only from sample data. You can prove that it's distributed normally.\n",
    "\n",
    "Z is the standard value for a criterion with a standard normal distribution, where the mean is 0 and the standard deviation is 1. All this is stated in the right part of the formula after the '～' sign, which says the expression is distributed as N(0,1). n₁ and n₂ represent the sizes of the two samples being compared (the number of observations they contain). P₁ and P₂ are the proportions observed in the samples, and P is the proportion in the two samples combined. π₁ and π₂ are the actual proportions in the populations we're comparing.\n"
   ]
  },
  {
   "cell_type": "markdown",
   "metadata": {},
   "source": [
    "#### Control groups: proportions' comparison with the test group"
   ]
  },
  {
   "cell_type": "markdown",
   "metadata": {},
   "source": [
    "We will first compare proportions of users who performed events between two control groups and then between each control group and test group separately."
   ]
  },
  {
   "cell_type": "code",
   "execution_count": 56,
   "metadata": {},
   "outputs": [],
   "source": [
    "def check_hypothesis(group1,group2,event,alpha=0.05):\n",
    "    \"\"\"\n",
    "    The function will calculate the proportions and the p-value for proportions of users who performed each of the events.\n",
    "    The proportion is the relationship between the number of successes (users who performed the event) to the number of trials\n",
    "    (total users in the group). \n",
    "    It will then compare p-value with the significance level (set alpha=0.05) and make a conclusion based on the result: whether\n",
    "    to reject the Ho hypothesis or not.\n",
    "    The comparison will be perfromed for the set of two groups each time.\n",
    "    \"\"\"\n",
    "    success1=events_per_group[events_per_group.event_name==event][group1].iloc[0]\n",
    "    success2=events_per_group[events_per_group.event_name==event][group2].iloc[0]\n",
    "    \n",
    "    trials1=clean_logs[clean_logs.group==group1]['user_id'].nunique()\n",
    "    trials2=clean_logs[clean_logs.group==group2]['user_id'].nunique()\n",
    "    \n",
    "    \n",
    "    # success proportion in the first group:\n",
    "    p1 = success1/trials1\n",
    "\n",
    "    # success proportion in the second group:\n",
    "    p2 = success2/trials2\n",
    "\n",
    "    # success proportion in the combined dataset:\n",
    "    p_combined = (success1 + success2) / (trials1 + trials2)\n",
    "\n",
    "    # the difference between the datasets' proportions\n",
    "    difference = p1 - p2\n",
    "    # calculating the statistic in standard deviations of the standard normal distribution\n",
    "    z_value = difference / mth.sqrt(p_combined * (1 - p_combined) * (1/trials1 + 1/trials2))\n",
    "\n",
    "    # setting up the standard normal distribution (mean 0, standard deviation 1)\n",
    "    distr = st.norm(0, 1)\n",
    "    # calculating the statistic in standard deviations of the standard normal distribution\n",
    "    p_value = (1 - distr.cdf(abs(z_value))) * 2\n",
    "    \n",
    "    print('The proportion of users who performed the action to total number of users is', p1)\n",
    "    print('The proportion of users who performed the action to total number of users is', p2)\n",
    "    print('p-value: ', p_value)\n",
    "\n",
    "    if (p_value < alpha):\n",
    "        print(\"Rejecting the null hypothesis for\", event,\"and groups\", group1,group2, \": there is a significant difference between the proportions.\")\n",
    "    else:\n",
    "        print(\"Failed to reject the null hypothesis for\",event,\"and groups\", group1,'and', group2, \": there is no significant difference between the proportions.\")\n",
    "    "
   ]
  },
  {
   "cell_type": "code",
   "execution_count": 57,
   "metadata": {},
   "outputs": [
    {
     "name": "stdout",
     "output_type": "stream",
     "text": [
      "The proportion of users who performed the action to total number of users is 0.5096618357487923\n",
      "The proportion of users who performed the action to total number of users is 0.4926382809391166\n",
      "p-value:  0.22883372237997213\n",
      "Failed to reject the null hypothesis for CartScreenAppear and groups 246 and 247 : there is no significant difference between the proportions.\n",
      "-----------------------------\n",
      "The proportion of users who performed the action to total number of users is 0.9863123993558777\n",
      "The proportion of users who performed the action to total number of users is 0.9852765618782332\n",
      "p-value:  0.7570597232046099\n",
      "Failed to reject the null hypothesis for MainScreenAppear and groups 246 and 247 : there is no significant difference between the proportions.\n",
      "-----------------------------\n",
      "The proportion of users who performed the action to total number of users is 0.6207729468599034\n",
      "The proportion of users who performed the action to total number of users is 0.6048547552725826\n",
      "p-value:  0.2480954578522181\n",
      "Failed to reject the null hypothesis for OffersScreenAppear and groups 246 and 247 : there is no significant difference between the proportions.\n",
      "-----------------------------\n",
      "The proportion of users who performed the action to total number of users is 0.4830917874396135\n",
      "The proportion of users who performed the action to total number of users is 0.46080382013529647\n",
      "p-value:  0.11456679313141849\n",
      "Failed to reject the null hypothesis for PaymentScreenSuccessful and groups 246 and 247 : there is no significant difference between the proportions.\n",
      "-----------------------------\n",
      "The proportion of users who performed the action to total number of users is 0.11191626409017713\n",
      "The proportion of users who performed the action to total number of users is 0.11261440509351373\n",
      "p-value:  0.9376996189257114\n",
      "Failed to reject the null hypothesis for Tutorial and groups 246 and 247 : there is no significant difference between the proportions.\n",
      "-----------------------------\n"
     ]
    }
   ],
   "source": [
    "for i in events_per_group.event_name.unique():\n",
    "    check_hypothesis(246,247,i,alpha=0.05)\n",
    "    print('-----------------------------')"
   ]
  },
  {
   "cell_type": "code",
   "execution_count": 58,
   "metadata": {},
   "outputs": [
    {
     "name": "stdout",
     "output_type": "stream",
     "text": [
      "The proportion of users who performed the action to total number of users is 0.5096618357487923\n",
      "The proportion of users who performed the action to total number of users is 0.48482459597950334\n",
      "p-value:  0.07842923237520116\n",
      "Failed to reject the null hypothesis for CartScreenAppear and groups 246 and 248 : there is no significant difference between the proportions.\n",
      "-----------------------------\n",
      "The proportion of users who performed the action to total number of users is 0.9863123993558777\n",
      "The proportion of users who performed the action to total number of users is 0.9826566811194324\n",
      "p-value:  0.2949721933554552\n",
      "Failed to reject the null hypothesis for MainScreenAppear and groups 246 and 248 : there is no significant difference between the proportions.\n",
      "-----------------------------\n",
      "The proportion of users who performed the action to total number of users is 0.6207729468599034\n",
      "The proportion of users who performed the action to total number of users is 0.6034686637761135\n",
      "p-value:  0.20836205402738917\n",
      "Failed to reject the null hypothesis for OffersScreenAppear and groups 246 and 248 : there is no significant difference between the proportions.\n",
      "-----------------------------\n",
      "The proportion of users who performed the action to total number of users is 0.4830917874396135\n",
      "The proportion of users who performed the action to total number of users is 0.46551044540796216\n",
      "p-value:  0.2122553275697796\n",
      "Failed to reject the null hypothesis for PaymentScreenSuccessful and groups 246 and 248 : there is no significant difference between the proportions.\n",
      "-----------------------------\n",
      "The proportion of users who performed the action to total number of users is 0.11191626409017713\n",
      "The proportion of users who performed the action to total number of users is 0.10997240835632636\n",
      "p-value:  0.8264294010087645\n",
      "Failed to reject the null hypothesis for Tutorial and groups 246 and 248 : there is no significant difference between the proportions.\n",
      "-----------------------------\n"
     ]
    }
   ],
   "source": [
    "for i in events_per_group.event_name.unique():\n",
    "    check_hypothesis(246,248,i,alpha=0.05)\n",
    "    print('-----------------------------')"
   ]
  },
  {
   "cell_type": "code",
   "execution_count": 59,
   "metadata": {},
   "outputs": [
    {
     "name": "stdout",
     "output_type": "stream",
     "text": [
      "The proportion of users who performed the action to total number of users is 0.4926382809391166\n",
      "The proportion of users who performed the action to total number of users is 0.48482459597950334\n",
      "p-value:  0.5786197879539783\n",
      "Failed to reject the null hypothesis for CartScreenAppear and groups 247 and 248 : there is no significant difference between the proportions.\n",
      "-----------------------------\n",
      "The proportion of users who performed the action to total number of users is 0.9852765618782332\n",
      "The proportion of users who performed the action to total number of users is 0.9826566811194324\n",
      "p-value:  0.4587053616621515\n",
      "Failed to reject the null hypothesis for MainScreenAppear and groups 247 and 248 : there is no significant difference between the proportions.\n",
      "-----------------------------\n",
      "The proportion of users who performed the action to total number of users is 0.6048547552725826\n",
      "The proportion of users who performed the action to total number of users is 0.6034686637761135\n",
      "p-value:  0.9197817830592261\n",
      "Failed to reject the null hypothesis for OffersScreenAppear and groups 247 and 248 : there is no significant difference between the proportions.\n",
      "-----------------------------\n",
      "The proportion of users who performed the action to total number of users is 0.46080382013529647\n",
      "The proportion of users who performed the action to total number of users is 0.46551044540796216\n",
      "p-value:  0.7373415053803964\n",
      "Failed to reject the null hypothesis for PaymentScreenSuccessful and groups 247 and 248 : there is no significant difference between the proportions.\n",
      "-----------------------------\n",
      "The proportion of users who performed the action to total number of users is 0.11261440509351373\n",
      "The proportion of users who performed the action to total number of users is 0.10997240835632636\n",
      "p-value:  0.765323922474501\n",
      "Failed to reject the null hypothesis for Tutorial and groups 247 and 248 : there is no significant difference between the proportions.\n",
      "-----------------------------\n"
     ]
    }
   ],
   "source": [
    "for i in events_per_group.event_name.unique():\n",
    "    check_hypothesis(247,248,i,alpha=0.05)\n",
    "    print('-----------------------------')"
   ]
  },
  {
   "cell_type": "markdown",
   "metadata": {},
   "source": [
    "**Conclusion:**  \n",
    "\n",
    "The results are obvoius and unambigious: we failed the reject the Ho hypotheses - there's no significant difference between the proportions of users who performed any of the actions, neither between the control groups (as expected), not between each of the control groups and the test group. The font change doesn't produce a difference. "
   ]
  },
  {
   "cell_type": "markdown",
   "metadata": {},
   "source": [
    "#### Combined control groups: proportions' comparison with the test group"
   ]
  },
  {
   "cell_type": "markdown",
   "metadata": {},
   "source": [
    "We will now compare proportions for the combined control group (246 users+247 users) and the test group. For the sake of unity, we will define the combined group of users 246 and 247 as group 249 and will make calculations for each event."
   ]
  },
  {
   "cell_type": "code",
   "execution_count": 60,
   "metadata": {},
   "outputs": [
    {
     "data": {
      "text/html": [
       "<div>\n",
       "<style scoped>\n",
       "    .dataframe tbody tr th:only-of-type {\n",
       "        vertical-align: middle;\n",
       "    }\n",
       "\n",
       "    .dataframe tbody tr th {\n",
       "        vertical-align: top;\n",
       "    }\n",
       "\n",
       "    .dataframe thead th {\n",
       "        text-align: right;\n",
       "    }\n",
       "</style>\n",
       "<table border=\"1\" class=\"dataframe\">\n",
       "  <thead>\n",
       "    <tr style=\"text-align: right;\">\n",
       "      <th>group</th>\n",
       "      <th>event_name</th>\n",
       "      <th>246</th>\n",
       "      <th>247</th>\n",
       "      <th>248</th>\n",
       "      <th>249</th>\n",
       "    </tr>\n",
       "  </thead>\n",
       "  <tbody>\n",
       "    <tr>\n",
       "      <th>0</th>\n",
       "      <td>CartScreenAppear</td>\n",
       "      <td>1266</td>\n",
       "      <td>1238</td>\n",
       "      <td>1230</td>\n",
       "      <td>2504</td>\n",
       "    </tr>\n",
       "    <tr>\n",
       "      <th>1</th>\n",
       "      <td>MainScreenAppear</td>\n",
       "      <td>2450</td>\n",
       "      <td>2476</td>\n",
       "      <td>2493</td>\n",
       "      <td>4926</td>\n",
       "    </tr>\n",
       "    <tr>\n",
       "      <th>2</th>\n",
       "      <td>OffersScreenAppear</td>\n",
       "      <td>1542</td>\n",
       "      <td>1520</td>\n",
       "      <td>1531</td>\n",
       "      <td>3062</td>\n",
       "    </tr>\n",
       "    <tr>\n",
       "      <th>3</th>\n",
       "      <td>PaymentScreenSuccessful</td>\n",
       "      <td>1200</td>\n",
       "      <td>1158</td>\n",
       "      <td>1181</td>\n",
       "      <td>2358</td>\n",
       "    </tr>\n",
       "    <tr>\n",
       "      <th>4</th>\n",
       "      <td>Tutorial</td>\n",
       "      <td>278</td>\n",
       "      <td>283</td>\n",
       "      <td>279</td>\n",
       "      <td>561</td>\n",
       "    </tr>\n",
       "  </tbody>\n",
       "</table>\n",
       "</div>"
      ],
      "text/plain": [
       "group               event_name   246   247   248   249\n",
       "0             CartScreenAppear  1266  1238  1230  2504\n",
       "1             MainScreenAppear  2450  2476  2493  4926\n",
       "2           OffersScreenAppear  1542  1520  1531  3062\n",
       "3      PaymentScreenSuccessful  1200  1158  1181  2358\n",
       "4                     Tutorial   278   283   279   561"
      ]
     },
     "execution_count": 60,
     "metadata": {},
     "output_type": "execute_result"
    }
   ],
   "source": [
    "#Creating column [249] which will caclulate the combinbed number of users from control groups 246 and 247, \n",
    "#who performed each of the events.\n",
    "events_per_group[249] = events_per_group[246] + events_per_group[247]\n",
    "events_per_group"
   ]
  },
  {
   "cell_type": "code",
   "execution_count": 61,
   "metadata": {},
   "outputs": [],
   "source": [
    "def check_hypothesis2(group1,group2,group3,group4,event,alpha=0.05):\n",
    "    \"\"\"\n",
    "    The function will calculate the proportions and the p-value for proportions of users who performed each of the events.\n",
    "    The groups:\n",
    "    group 1 - control group 246\n",
    "    group 2 - control group 247\n",
    "    group 3 - combined control group 246\n",
    "    group 4 - test group 248\n",
    "    The proportion is the relationship between the number of successes (users who performed the event) to the number of trials\n",
    "    (total users in the group). \n",
    "    trails1 variable is a sum of the number of users in group 246 and group 247 in clean_logs dataset.\n",
    "    Success1 variable is a number of users in group 249 (group 3), which is a combination of groups 246 and 247.\n",
    "    The function will then compare p-value with the significance level (set alpha=0.05) and make a conclusion based on the result: whether\n",
    "    to reject the Ho hypothesis or not.\n",
    "    \"\"\"\n",
    "    success1=events_per_group[events_per_group.event_name==event][group3].iloc[0]\n",
    "    success2=events_per_group[events_per_group.event_name==event][group4].iloc[0]\n",
    "    \n",
    "    trials1=clean_logs[clean_logs.group==group1]['user_id'].nunique()+clean_logs[clean_logs.group==group2]['user_id'].nunique()\n",
    "    trials2=clean_logs[clean_logs.group==group4]['user_id'].nunique()\n",
    "    \n",
    "    \n",
    "    # success proportion in the first group:\n",
    "    p1 = success1/trials1\n",
    "\n",
    "    # success proportion in the second group:\n",
    "    p2 = success2/trials2\n",
    "\n",
    "    # success proportion in the combined dataset:\n",
    "    p_combined = (success1 + success2) / (trials1 + trials2)\n",
    "\n",
    "    # the difference between the datasets' proportions\n",
    "    difference = p1 - p2\n",
    "    # calculating the statistic in standard deviations of the standard normal distribution\n",
    "    z_value = difference / mth.sqrt(p_combined * (1 - p_combined) * (1/trials1 + 1/trials2))\n",
    "\n",
    "    # setting up the standard normal distribution (mean 0, standard deviation 1)\n",
    "    distr = st.norm(0, 1)\n",
    "    # calculating the statistic in standard deviations of the standard normal distribution\n",
    "\n",
    "\n",
    "    p_value = (1 - distr.cdf(abs(z_value))) * 2\n",
    "    \n",
    "    print('The proportion of users who performed the action to total number of users is', p1)\n",
    "    print('The proportion of users who performed the action to total number of users is', p2)\n",
    "    print('p-value: ', p_value)\n",
    "\n",
    "    if (p_value < alpha):\n",
    "        print(\"Rejecting the null hypothesis for\", event,\"and groups\", group3, 'and', group4, \": there is a significant difference between the proportions.\")\n",
    "    else:\n",
    "        print(\"Failed to reject the null hypothesis for\",event,\"and groups\", group3,'and', group4, \": there is no significant difference between the proportions.\")\n",
    "    "
   ]
  },
  {
   "cell_type": "code",
   "execution_count": 62,
   "metadata": {},
   "outputs": [
    {
     "name": "stdout",
     "output_type": "stream",
     "text": [
      "The proportion of users who performed the action to total number of users is 0.5011006603962378\n",
      "The proportion of users who performed the action to total number of users is 0.48482459597950334\n",
      "p-value:  0.18175875284404386\n",
      "Failed to reject the null hypothesis for CartScreenAppear and groups 249 and 248 : there is no significant difference between the proportions.\n",
      "-----------------------------\n",
      "The proportion of users who performed the action to total number of users is 0.9857914748849309\n",
      "The proportion of users who performed the action to total number of users is 0.9826566811194324\n",
      "p-value:  0.29424526837179577\n",
      "Failed to reject the null hypothesis for MainScreenAppear and groups 249 and 248 : there is no significant difference between the proportions.\n",
      "-----------------------------\n",
      "The proportion of users who performed the action to total number of users is 0.6127676605963578\n",
      "The proportion of users who performed the action to total number of users is 0.6034686637761135\n",
      "p-value:  0.43425549655188256\n",
      "Failed to reject the null hypothesis for OffersScreenAppear and groups 249 and 248 : there is no significant difference between the proportions.\n",
      "-----------------------------\n",
      "The proportion of users who performed the action to total number of users is 0.47188312987792674\n",
      "The proportion of users who performed the action to total number of users is 0.46551044540796216\n",
      "p-value:  0.6004294282308704\n",
      "Failed to reject the null hypothesis for PaymentScreenSuccessful and groups 249 and 248 : there is no significant difference between the proportions.\n",
      "-----------------------------\n",
      "The proportion of users who performed the action to total number of users is 0.11226736041624975\n",
      "The proportion of users who performed the action to total number of users is 0.10997240835632636\n",
      "p-value:  0.764862472531507\n",
      "Failed to reject the null hypothesis for Tutorial and groups 249 and 248 : there is no significant difference between the proportions.\n",
      "-----------------------------\n"
     ]
    }
   ],
   "source": [
    "for i in events_per_group.event_name.unique():\n",
    "    check_hypothesis2(246,247,249,248,i,alpha=0.05)\n",
    "    print('-----------------------------')"
   ]
  },
  {
   "cell_type": "markdown",
   "metadata": {},
   "source": [
    "**Conclusion:**  \n",
    "\n",
    "The results are obvoius and unambigious: we failed the reject the Ho hypotheses - there's no significant difference between the proportions of users who performed any of the actions between the combined control group (as expected) and the test group. The font change doesn't produce a difference. "
   ]
  },
  {
   "cell_type": "markdown",
   "metadata": {},
   "source": [
    "### Bonferroni correction"
   ]
  },
  {
   "cell_type": "markdown",
   "metadata": {},
   "source": [
    "•\tWhat significance level have you set to test the statistical hypotheses mentioned above? Calculate how many statistical hypothesis tests you carried out. With a statistical significance level of 0.1, one in 10 results could be false. What should the significance level be? If you want to change it, run through the previous steps again and check your conclusions."
   ]
  },
  {
   "cell_type": "markdown",
   "metadata": {},
   "source": [
    "The significant level set was 0.05. We have carried out 20 statistical hypothesis tests. When we compare several groups with a control group, we'll have to take into account the increasing probability of the type I (reject the true null hypothesis) and type II (accept a false hull hypothesis) errors. Looking at the hypotheses testing results above, we can say that the type II error is relevant here. We might have accepted some false Ho hypotheses. \n",
    "The Bonferroni procedure (the Bonferroni correction) is the most common and most approximate correction of the required significance level. The significance level in each of m comparisons is m times less than the significance level required for a single comparison: the significance level ɑ is divided by the number of hypotheses."
   ]
  },
  {
   "cell_type": "code",
   "execution_count": 63,
   "metadata": {},
   "outputs": [
    {
     "data": {
      "text/plain": [
       "0.0025"
      ]
     },
     "execution_count": 63,
     "metadata": {},
     "output_type": "execute_result"
    }
   ],
   "source": [
    "a=0.05/20\n",
    "a"
   ]
  },
  {
   "cell_type": "markdown",
   "metadata": {},
   "source": [
    "The significance level of each test should be alpha = 0.0025."
   ]
  },
  {
   "cell_type": "markdown",
   "metadata": {},
   "source": [
    "In order to reject the null hypothesis, the p-value has to be smaller then alpha. In all the tests above the p-value is significantly bigger than alpha, and by dividing the original significance level by the number of hypothesis, we only make this gap larger. Therefore, there's no need to run the tests again with different significance level - the results won't change. There's no significant statistical difference between the proportions of users who performed of the actions."
   ]
  },
  {
   "cell_type": "markdown",
   "metadata": {},
   "source": [
    "## General conclusions"
   ]
  },
  {
   "cell_type": "markdown",
   "metadata": {},
   "source": [
    "\n",
    "**1. The Data:**   \n",
    "    -Duplicates were dropped.  \n",
    "    -EventTimestamp column was converted to datetime format.  \n",
    "    -The original columns were renamed.  \n",
    "    -No missing values were found.  \n",
    "    -Date column has been added.   \n",
    "\n",
    "**2. Date description:**  \n",
    "    - There’re 5 unique events in the log:  \n",
    "        - MainScreenAppear  \n",
    "        - OffersScreenAppear  \n",
    "        - CartScreenAppear  \n",
    "        - PaymentScreenSuccessful  \n",
    "        - Tutorial   \n",
    "        \n",
    "  -\tIn total, there are 243,713 events performed by users.  \n",
    "  -\tThere're 7,551 unique users in the log.   \n",
    "  - On average, each user performed 32 actions. 50% of users performed 20 actions and under. 25% of uers performed over 37 actions.   \n",
    "  - Out of 7,751 users, 3035 (about 40%) performed all main actions, including successful payment.   \n",
    "  \n",
    "**3. Data period:**   \n",
    "  \n",
    "  The original data covers the period between 25 July 2019 and 07 August 2019 - two weeks.\n",
    "The number of events was suspiciously low for the period July 25-July 31. As we couldn’t be sure that we had equally complete data for the entire period, we have excluded those dates from the analysis, and only used the period of 1 August 2019 - 7 August 2019. The first week may represent the logs of previous experiment participants.\n",
    "By cleaning the data we’ve lost around 1% of events in the log and 17 users.   \n",
    "\n",
    "**4. Studying the event funnel**  \n",
    "   4.1  The most frequent event is MainScreenAppear.  \n",
    "   \n",
    "   4.2  \n",
    "   •\t7,419 users performed MainScreenAppear action  \n",
    "   •\t4,593 users performed OffersScreenAppear action \n",
    "   •\t3,734 users performed CartScreenAppear action  \n",
    "   •\t3,539 users performed PaymentScreenSuccessful action  \n",
    "   •\t840 users performed Tutorial action  \n",
    "   \n",
    "   4.3 Only 98% users performed the most frequent action. Business-wise, the product does great converting users, as 47% users completed payment successfully.  \n",
    "   \n",
    "   \n",
    "   4.4 Based on the logic and on the numbers, the stages of the funnel are: \n",
    "   Stage 1: MainScreenAppear  \n",
    "   Stage 2: OffersScreenAppear  \n",
    "   Stage 3: CartScreenAppear  \n",
    "   Stage 4: PaymentScreenSuccessful  \n",
    "   \n",
    "   However, since there's a drastic drop in numbers for users in Tutorial event, it seems this is an optional event, and the majority of users may have chosen to skip it. It's unclear what place in then funnel it takes. Per project goal, we are interested to see how many users reach the purchase stage, and Tutorial has no impact on the matter, therefore, we’ve calculated the funnel without the event. \n",
    "   \n",
    "   \n",
    "**4. Share of users in the funnel**  \n",
    "- Stage 1: MainScreenAppear - 98% of users performed MainScreenAppear  \n",
    "- Stage 2: OffersScreenAppear - 61% of users performed OffersScreenAppear  \n",
    "- Stage 3: CartScreenAppear - 50% of users performed CartScreenAppear  \n",
    "- Stage 4: PaymentScreenSuccessful - 47% of users performed PaymentScreenSuccessful  \n",
    "\n",
    "Only 11% performed Tutorial.  \n",
    "Among the main events, the largest drop is in the transition between acion 1: MainScreenAppear and action 2: OffersScreenAppear - 38%.  \n",
    "\n",
    "\n",
    "**5. Share of users who made the entire journey from their first event to payment**  \n",
    "\n",
    "**Group 246:**  \n",
    "62.9% of users who performed stage 1, performed stage 2. 82% of of users who performed stage 2, performed stage 3, and 94.6% of users who performed stage 3, performed stage 4. Almost 49% of users in the group went through all main stages.  \n",
    "\n",
    "**Group 247:**  \n",
    "61.5% of users who performed stage 1, performed stage 2. 80.6% of of users who performed stage 2, performed stage 3, and 95.6% of users who performed stage 3, performed stage 4. 48% of users in the group went through all main stages.  \n",
    "\n",
    "**Group 248:**  \n",
    "61.6% of users who performed stage 1, performed stage 2. 81% of of users who performed stage 2, performed stage 3, and 93.5% of users who performed stage 3, performed stage 4. 47% of users in the group went through all main stages.\n",
    "On average, 48% of users made the entire journey from their first event to payment.  \n",
    "\n",
    "**6. The results of the experiment**\n",
    "   6.1 Number of users in each group: \n",
    "  - No users were found belonging to more than one group were found. \n",
    "  - In group 246 - 2,484 users.   \n",
    "  - In group 247 - 2,513 users.   \n",
    "  - In group 247 - 2,537 users.    \n",
    "  \n",
    "  Seems that the groups were split properly.\n",
    "    \n",
    "   6.2 Most popular event  \n",
    "  •\tThe most popular event is MainScreenAppear accross all groups.  \n",
    "  •\tFrom control group 246 - 2450 users performed this action.  \n",
    "  •\tFrom control group 247 - 2476 users performed this action.  \n",
    "  \n",
    "  \n",
    "**7. Statistical significance of the difference between samples**  \n",
    "\n",
    "\n",
    "To check the statistical significance of the difference between samples 246 and 247, we have checkd the statistical significance of the difference between proportions of users who went from one stage to another.  \n",
    "\n",
    "**Ho - null hypothesis:** The proportions of users who went from one stage to another are the same are the same.  \n",
    "\n",
    "**H1 hypothesis:** The proportions of users who went from one stage to another are the same are NOT the same.  \n",
    "\n",
    "Z is the standard value for a criterion with a standard normal distribution, where the mean is 0 and the standard deviation is 1. All this is stated in the right part of the formula after the '～' sign, which says the expression is distributed as N(0,1). n₁ and n₂ represent the sizes of the two samples being compared (the number of observations they contain). P₁ and P₂ are the proportions observed in the samples, and P is the proportion in the two samples combined. π₁ and π₂ are the actual proportions in the populations we're comparing.  \n",
    "   1.\tControl groups: proportions' comparison with the test group\n",
    "The results were obvious and unambiguous: we failed the reject the Ho hypotheses - there's no significant difference between the proportions of users who performed any of the actions, neither between the control groups (as expected), not between each of the control groups and the test group. The font change doesn't produce a difference.  \n",
    "   \n",
    "   2.\tCombined control groups: proportions' comparison with the test group\n",
    "To compare proportions for the combined control group (246 users+247 users) and the test group, for the sake of unity, we defined the combined group of users 246 and 247 as group 249.\n",
    "The results were obvious and unambiguous: we failed the reject the Ho hypotheses - there's no significant difference between the proportions of users who performed any of the actions between the combined control group (as expected) and the test group. The font change doesn't produce a difference.  \n",
    "\n",
    "**8. Error correction**  \n",
    "\n",
    "  - The initial significant level set was 0.05. We have carried out 20 statistical hypothesis tests. When we compare several groups with a control group, we'll had to take into account the increasing probability of the type I (reject the true null hypothesis) and type II (accept a false hull hypothesis) errors. Looking at the hypotheses testing results above, we can say that the type II error is relevant here. We might have accepted some false Ho hypotheses. The Bonferroni procedure (the Bonferroni correction) is the most common and most approximate correction of the required significance level. The significance level in each of m comparisons is m times less than the significance level required for a single comparison: the significance level ɑ is divided by the number of hypotheses.\n",
    "  \n",
    "  -\tSignificance level of each test should be alpha = 0.0025.  \n",
    "  \n",
    "  -\tIn order to reject the null hypothesis, the p-value has to be smaller then alpha. In all the tests above the p-value is significantly bigger than alpha, and by dividing the original significance level by the number of hypotheses, we only make this gap larger. Therefore, there's no need to run the tests again with different significance level - the results won't change. There's no significant statistical difference between the proportions of users who performed of the actions.\n"
   ]
  },
  {
   "cell_type": "code",
   "execution_count": null,
   "metadata": {},
   "outputs": [],
   "source": []
  }
 ],
 "metadata": {
  "kernelspec": {
   "display_name": "Python 3 (ipykernel)",
   "language": "python",
   "name": "python3"
  },
  "language_info": {
   "codemirror_mode": {
    "name": "ipython",
    "version": 3
   },
   "file_extension": ".py",
   "mimetype": "text/x-python",
   "name": "python",
   "nbconvert_exporter": "python",
   "pygments_lexer": "ipython3",
   "version": "3.9.13"
  },
  "toc": {
   "base_numbering": 1,
   "nav_menu": {},
   "number_sections": true,
   "sideBar": true,
   "skip_h1_title": true,
   "title_cell": "Table of Contents",
   "title_sidebar": "Contents",
   "toc_cell": false,
   "toc_position": {},
   "toc_section_display": true,
   "toc_window_display": false
  }
 },
 "nbformat": 4,
 "nbformat_minor": 2
}
